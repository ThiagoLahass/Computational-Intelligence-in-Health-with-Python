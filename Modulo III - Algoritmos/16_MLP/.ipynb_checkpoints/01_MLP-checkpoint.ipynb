{
 "cells": [
  {
   "cell_type": "markdown",
   "metadata": {
    "id": "RzlNBwJ6yZxF"
   },
   "source": [
    "# Rede neural artificial no sklearn\n",
    "- Submodulo da sklearn: https://scikit-learn.org/stable/modules/classes.html#module-sklearn.neural_network    "
   ]
  },
  {
   "cell_type": "code",
   "execution_count": null,
   "metadata": {
    "id": "Rzohocm6yZxL"
   },
   "outputs": [],
   "source": [
    "from sklearn.neural_network import MLPClassifier, MLPRegressor\n",
    "import numpy as np\n",
    "from sklearn import datasets\n",
    "import sklearn.metrics as skmet\n",
    "from sklearn.model_selection import train_test_split\n",
    "from sklearn.preprocessing import StandardScaler\n",
    "from sklearn.pipeline import Pipeline\n",
    "import matplotlib.pyplot as plt "
   ]
  },
  {
   "cell_type": "markdown",
   "metadata": {
    "id": "VVV-a_AEyZxN"
   },
   "source": [
    "# Problema de classificação:\n",
    "- Dataset:"
   ]
  },
  {
   "cell_type": "code",
   "execution_count": null,
   "metadata": {
    "id": "HwxHiM-wyZxP"
   },
   "outputs": [],
   "source": [
    "cancer = datasets.load_breast_cancer()\n",
    "print(cancer[\"DESCR\"])"
   ]
  },
  {
   "cell_type": "code",
   "execution_count": null,
   "metadata": {
    "id": "PWb1sy64yZxP"
   },
   "outputs": [],
   "source": [
    "X_train, X_test, y_train, y_test = train_test_split(cancer[\"data\"], cancer[\"target\"], test_size=0.25, random_state=8, )\n",
    "X_train.shape, X_test.shape"
   ]
  },
  {
   "cell_type": "markdown",
   "metadata": {
    "id": "wf23J2JlyZxQ"
   },
   "source": [
    "## MLPClassifier\n",
    "- https://scikit-learn.org/stable/modules/generated/sklearn.neural_network.MLPClassifier.html#sklearn.neural_network.MLPClassifier"
   ]
  },
  {
   "cell_type": "code",
   "execution_count": null,
   "metadata": {
    "id": "ophXjMZ2yZxR"
   },
   "outputs": [],
   "source": [
    "mlp = MLPClassifier(hidden_layer_sizes=(10, 5), activation='relu', solver='sgd', alpha=0.0001, \n",
    "                    batch_size=30, max_iter=200, shuffle=True, random_state=10, tol=0.0001, \n",
    "                    verbose=True)\n",
    "\n",
    "mlp_pipe = Pipeline([('scaler', StandardScaler()), ('MLP', mlp)])"
   ]
  },
  {
   "cell_type": "markdown",
   "metadata": {
    "id": "eCSP8p3eyZxS"
   },
   "source": [
    "- Treinando:"
   ]
  },
  {
   "cell_type": "code",
   "execution_count": null,
   "metadata": {
    "id": "uys20G-TyZxT",
    "tags": []
   },
   "outputs": [],
   "source": [
    "mlp_pipe.fit(X_train, y_train)"
   ]
  },
  {
   "cell_type": "markdown",
   "metadata": {
    "id": "p098LLCRyZxU"
   },
   "source": [
    "- Fazendo uma predição:"
   ]
  },
  {
   "cell_type": "code",
   "execution_count": null,
   "metadata": {
    "id": "CUJuLbaDyZxV"
   },
   "outputs": [],
   "source": [
    "y_hat = mlp_pipe.predict(X_test)"
   ]
  },
  {
   "cell_type": "markdown",
   "metadata": {
    "id": "OkEJPLeXyZxV"
   },
   "source": [
    "- Calculando a matriz de confusão:"
   ]
  },
  {
   "cell_type": "code",
   "execution_count": null,
   "metadata": {
    "id": "9q50VLMcyZxW"
   },
   "outputs": [],
   "source": [
    "skmet.confusion_matrix(y_test, y_hat)"
   ]
  },
  {
   "cell_type": "markdown",
   "metadata": {
    "id": "4H6pj6HAyZxW"
   },
   "source": [
    "- Obtendo o relatório de classificação:"
   ]
  },
  {
   "cell_type": "code",
   "execution_count": null,
   "metadata": {
    "id": "g-wRVJLRyZxX"
   },
   "outputs": [],
   "source": [
    "print(skmet.classification_report(y_test, y_hat))"
   ]
  },
  {
   "cell_type": "markdown",
   "metadata": {
    "id": "CiQW2uPQyZxX"
   },
   "source": [
    "# Problema de regressão"
   ]
  },
  {
   "cell_type": "markdown",
   "metadata": {
    "id": "r1Aiy562yZxX"
   },
   "source": [
    "- Dataset"
   ]
  },
  {
   "cell_type": "code",
   "execution_count": null,
   "metadata": {
    "id": "HkEQFdLXyZxY"
   },
   "outputs": [],
   "source": [
    "califa = datasets.fetch_california_housing()\n",
    "print(califa[\"DESCR\"])"
   ]
  },
  {
   "cell_type": "code",
   "execution_count": null,
   "metadata": {
    "id": "454inRSayZxY"
   },
   "outputs": [],
   "source": [
    "fig, ax = plt.subplots(figsize=(15,5))\n",
    "ax.scatter(califa[\"data\"][:1000, 2], califa[\"target\"][:1000])"
   ]
  },
  {
   "cell_type": "code",
   "execution_count": null,
   "metadata": {
    "id": "ExHKLxzzyZxZ"
   },
   "outputs": [],
   "source": [
    "X_train, X_test, y_train, y_test = train_test_split(califa[\"data\"], califa[\"target\"], test_size=0.25, random_state=8)\n",
    "X_train.shape, X_test.shape"
   ]
  },
  {
   "cell_type": "markdown",
   "metadata": {
    "id": "_Pp2mSTTyZxZ"
   },
   "source": [
    "## MLPRegression\n",
    "- https://scikit-learn.org/stable/modules/generated/sklearn.neural_network.MLPRegressor.html#sklearn.neural_network.MLPRegressor"
   ]
  },
  {
   "cell_type": "code",
   "execution_count": null,
   "metadata": {
    "id": "hqsMBWE0yZxa"
   },
   "outputs": [],
   "source": [
    "mlp = MLPRegressor(hidden_layer_sizes=(10,), activation='relu', solver='sgd', alpha=0.0001, \n",
    "                    batch_size=30, max_iter=200, shuffle=True, random_state=10, tol=0.0001, \n",
    "                    verbose=True)\n",
    "\n",
    "mlp_pipe = Pipeline([('scaler', StandardScaler()), ('MLP', mlp)])"
   ]
  },
  {
   "cell_type": "markdown",
   "metadata": {
    "id": "mDztjByryZxa"
   },
   "source": [
    "- Treinando:"
   ]
  },
  {
   "cell_type": "code",
   "execution_count": null,
   "metadata": {
    "id": "7SiHVg7uyZxb",
    "tags": []
   },
   "outputs": [],
   "source": [
    "mlp_pipe.fit(X_train, y_train)"
   ]
  },
  {
   "cell_type": "markdown",
   "metadata": {
    "id": "oyocAQ0vyZxb"
   },
   "source": [
    "- Realizando predição:"
   ]
  },
  {
   "cell_type": "code",
   "execution_count": null,
   "metadata": {
    "id": "bLVyRDoDyZxc"
   },
   "outputs": [],
   "source": [
    "y_hat = mlp_pipe.predict(X_test)"
   ]
  },
  {
   "cell_type": "markdown",
   "metadata": {
    "id": "FdFnp5PqyZxc"
   },
   "source": [
    "- Calculando erros:"
   ]
  },
  {
   "cell_type": "code",
   "execution_count": null,
   "metadata": {
    "id": "V7ltV4lsyZxc"
   },
   "outputs": [],
   "source": [
    "skmet.mean_absolute_error(y_test, y_hat)"
   ]
  },
  {
   "cell_type": "code",
   "execution_count": null,
   "metadata": {
    "id": "5O0j4QGayZxc"
   },
   "outputs": [],
   "source": [
    "skmet.mean_squared_error(y_test, y_hat)"
   ]
  },
  {
   "cell_type": "code",
   "execution_count": null,
   "metadata": {
    "id": "PPbSrlEwyZxd"
   },
   "outputs": [],
   "source": [
    "fig, ax = plt.subplots(figsize=(15,5))\n",
    "ax.plot(y_hat[0:100], marker=\"o\", linestyle=\"dotted\", label=\"Predito\", color=\"b\")\n",
    "ax.plot(y_test[0:100], marker=\"o\", linestyle=\"dotted\", label=\"Real\", color=\"g\")\n",
    "ax.legend()"
   ]
  },
  {
   "cell_type": "markdown",
   "metadata": {
    "id": "E3ohCmTnyZxd"
   },
   "source": [
    "# Exercícios\n",
    "1. Ajuste o treshold de classificação para, se possível, zerar os falsos negativos\n",
    "2. Gerar o pairplot usando seaborn pra ver variação dos dados no problema da regressão\n",
    "3. Utilizar o o método `partial_fit()` para gerar as curvas de aprendizado e acompanhar a evolução do aprendizado para ambos os problemas\n",
    "4. Tentar aumentar o tamanho da rede e manipular os parâmetros para obter uma predição melhor para o problema de regressão"
   ]
  }
 ],
 "metadata": {
  "colab": {
   "name": "01_MLP.ipynb",
   "provenance": []
  },
  "kernelspec": {
   "display_name": "Python 3 (ipykernel)",
   "language": "python",
   "name": "python3"
  },
  "language_info": {
   "codemirror_mode": {
    "name": "ipython",
    "version": 3
   },
   "file_extension": ".py",
   "mimetype": "text/x-python",
   "name": "python",
   "nbconvert_exporter": "python",
   "pygments_lexer": "ipython3",
   "version": "3.10.4"
  }
 },
 "nbformat": 4,
 "nbformat_minor": 4
}
