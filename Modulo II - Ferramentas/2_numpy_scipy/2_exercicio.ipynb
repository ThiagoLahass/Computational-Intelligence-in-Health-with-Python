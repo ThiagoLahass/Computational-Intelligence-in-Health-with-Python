{
 "cells": [
  {
   "cell_type": "markdown",
   "metadata": {},
   "source": [
    "# Exercícios"
   ]
  },
  {
   "cell_type": "markdown",
   "metadata": {},
   "source": [
    "## Parte 1: vetorização\n",
    "1. Faça uma função que receba dois arrays como parâmetro e calcule o **MSE (mean squared error)** entre eles\n",
    "2. Faça uma função que receba dois arrays como parâmetro e calcule o **MAE (mean absoluted error)** entre eles"
   ]
  },
  {
   "cell_type": "code",
   "execution_count": 2,
   "metadata": {},
   "outputs": [],
   "source": [
    "import numpy as np"
   ]
  },
  {
   "cell_type": "code",
   "execution_count": 9,
   "metadata": {},
   "outputs": [],
   "source": [
    "def mse_calc( arr1, arr2):\n",
    "    arr_dif = arr1 - arr2\n",
    "    arr_dif = np.power(arr_dif,2)\n",
    "    print(arr_dif.mean())\n"
   ]
  },
  {
   "cell_type": "code",
   "execution_count": 21,
   "metadata": {},
   "outputs": [
    {
     "name": "stdout",
     "output_type": "stream",
     "text": [
      "1.3333333333333333\n"
     ]
    }
   ],
   "source": [
    "arr1 = np.array([2,2,3])\n",
    "arr2 = np.array([0,2,3])\n",
    "\n",
    "mse_calc(arr1, arr2)"
   ]
  },
  {
   "cell_type": "code",
   "execution_count": 22,
   "metadata": {},
   "outputs": [],
   "source": [
    "def mae_calc( arr1, arr2):\n",
    "    arr_dif = arr1 - arr2\n",
    "    arr_dif = np.abs(arr_dif)\n",
    "    print(arr_dif.mean())"
   ]
  },
  {
   "cell_type": "code",
   "execution_count": 23,
   "metadata": {},
   "outputs": [
    {
     "name": "stdout",
     "output_type": "stream",
     "text": [
      "0.6666666666666666\n"
     ]
    }
   ],
   "source": [
    "mae_calc(arr1, arr2)"
   ]
  },
  {
   "cell_type": "markdown",
   "metadata": {},
   "source": [
    "## Parte 2: carregando arquivos e usando a lib\n",
    "1. Dentro da pasta `dados` existe um arquivo chamado `metricas.rar`. Nesse `.rar` você encontra uma série de arquivos `.dat` que pussui resultados de diferentes métricas. Seu objetivo aqui é carregar todos esses arquivos e calcular a matriz de correlação entre as métricas.\n",
    "\n",
    "**Dicas:**\n",
    "- Você conhece a matriz de correlação? Não? Estou sugiro que leia [esse post para entender mais sobre](https://datascience.eu/pt/matematica-e-estatistica/o-que-e-uma-matriz-de-correlacao/) ou veja [este vídeo](https://www.youtube.com/watch?v=JVVBaW14s0U)\n",
    "- Não sabe o que usar na NumPy? De uma olhada na [documentação](https://numpy.org/doc/stable/reference/routines.html)"
   ]
  },
  {
   "cell_type": "code",
   "execution_count": 3,
   "metadata": {},
   "outputs": [
    {
     "name": "stdout",
     "output_type": "stream",
     "text": [
      "37\n",
      "<class 'numpy.ndarray'>\n",
      "a <class 'numpy.ndarray'>\n",
      "teste, <class 'type'>\n",
      "<class 'numpy.ndarray'>\n"
     ]
    },
    {
     "ename": "TypeError",
     "evalue": "unsupported operand type(s) for /: 'type' and 'int'",
     "output_type": "error",
     "traceback": [
      "\u001b[0;31m---------------------------------------------------------------------------\u001b[0m",
      "\u001b[0;31mTypeError\u001b[0m                                 Traceback (most recent call last)",
      "Cell \u001b[0;32mIn[3], line 52\u001b[0m\n\u001b[1;32m     46\u001b[0m \u001b[38;5;28mprint\u001b[39m(matriz_metricas)\n\u001b[1;32m     48\u001b[0m \u001b[38;5;66;03m# Calcular a matriz de covariância\u001b[39;00m\n\u001b[1;32m     49\u001b[0m \u001b[38;5;66;03m# cov_matrix = np.cov(matriz_metricas)\u001b[39;00m\n\u001b[1;32m     50\u001b[0m \n\u001b[1;32m     51\u001b[0m \u001b[38;5;66;03m# Calcular a matriz de correlação a partir da matriz de covariância\u001b[39;00m\n\u001b[0;32m---> 52\u001b[0m correlation_matrix \u001b[38;5;241m=\u001b[39m np\u001b[38;5;241m.\u001b[39mcorrcoef(matriz_metricas)\n",
      "File \u001b[0;32m~/anaconda3/lib/python3.11/site-packages/numpy/lib/function_base.py:2889\u001b[0m, in \u001b[0;36mcorrcoef\u001b[0;34m(x, y, rowvar, bias, ddof, dtype)\u001b[0m\n\u001b[1;32m   2885\u001b[0m \u001b[38;5;28;01mif\u001b[39;00m bias \u001b[38;5;129;01mis\u001b[39;00m \u001b[38;5;129;01mnot\u001b[39;00m np\u001b[38;5;241m.\u001b[39m_NoValue \u001b[38;5;129;01mor\u001b[39;00m ddof \u001b[38;5;129;01mis\u001b[39;00m \u001b[38;5;129;01mnot\u001b[39;00m np\u001b[38;5;241m.\u001b[39m_NoValue:\n\u001b[1;32m   2886\u001b[0m     \u001b[38;5;66;03m# 2015-03-15, 1.10\u001b[39;00m\n\u001b[1;32m   2887\u001b[0m     warnings\u001b[38;5;241m.\u001b[39mwarn(\u001b[38;5;124m'\u001b[39m\u001b[38;5;124mbias and ddof have no effect and are deprecated\u001b[39m\u001b[38;5;124m'\u001b[39m,\n\u001b[1;32m   2888\u001b[0m                   \u001b[38;5;167;01mDeprecationWarning\u001b[39;00m, stacklevel\u001b[38;5;241m=\u001b[39m\u001b[38;5;241m2\u001b[39m)\n\u001b[0;32m-> 2889\u001b[0m c \u001b[38;5;241m=\u001b[39m cov(x, y, rowvar, dtype\u001b[38;5;241m=\u001b[39mdtype)\n\u001b[1;32m   2890\u001b[0m \u001b[38;5;28;01mtry\u001b[39;00m:\n\u001b[1;32m   2891\u001b[0m     d \u001b[38;5;241m=\u001b[39m diag(c)\n",
      "File \u001b[0;32m~/anaconda3/lib/python3.11/site-packages/numpy/lib/function_base.py:2724\u001b[0m, in \u001b[0;36mcov\u001b[0;34m(m, y, rowvar, bias, ddof, fweights, aweights, dtype)\u001b[0m\n\u001b[1;32m   2721\u001b[0m     \u001b[38;5;28;01melse\u001b[39;00m:\n\u001b[1;32m   2722\u001b[0m         w \u001b[38;5;241m*\u001b[39m\u001b[38;5;241m=\u001b[39m aweights\n\u001b[0;32m-> 2724\u001b[0m avg, w_sum \u001b[38;5;241m=\u001b[39m average(X, axis\u001b[38;5;241m=\u001b[39m\u001b[38;5;241m1\u001b[39m, weights\u001b[38;5;241m=\u001b[39mw, returned\u001b[38;5;241m=\u001b[39m\u001b[38;5;28;01mTrue\u001b[39;00m)\n\u001b[1;32m   2725\u001b[0m w_sum \u001b[38;5;241m=\u001b[39m w_sum[\u001b[38;5;241m0\u001b[39m]\n\u001b[1;32m   2727\u001b[0m \u001b[38;5;66;03m# Determine the normalization\u001b[39;00m\n",
      "File \u001b[0;32m~/anaconda3/lib/python3.11/site-packages/numpy/lib/function_base.py:520\u001b[0m, in \u001b[0;36maverage\u001b[0;34m(a, axis, weights, returned, keepdims)\u001b[0m\n\u001b[1;32m    517\u001b[0m     keepdims_kw \u001b[38;5;241m=\u001b[39m {\u001b[38;5;124m'\u001b[39m\u001b[38;5;124mkeepdims\u001b[39m\u001b[38;5;124m'\u001b[39m: keepdims}\n\u001b[1;32m    519\u001b[0m \u001b[38;5;28;01mif\u001b[39;00m weights \u001b[38;5;129;01mis\u001b[39;00m \u001b[38;5;28;01mNone\u001b[39;00m:\n\u001b[0;32m--> 520\u001b[0m     avg \u001b[38;5;241m=\u001b[39m a\u001b[38;5;241m.\u001b[39mmean(axis, \u001b[38;5;241m*\u001b[39m\u001b[38;5;241m*\u001b[39mkeepdims_kw)\n\u001b[1;32m    521\u001b[0m     avg_as_array \u001b[38;5;241m=\u001b[39m np\u001b[38;5;241m.\u001b[39masanyarray(avg)\n\u001b[1;32m    522\u001b[0m     scl \u001b[38;5;241m=\u001b[39m avg_as_array\u001b[38;5;241m.\u001b[39mdtype\u001b[38;5;241m.\u001b[39mtype(a\u001b[38;5;241m.\u001b[39msize\u001b[38;5;241m/\u001b[39mavg_as_array\u001b[38;5;241m.\u001b[39msize)\n",
      "File \u001b[0;32m~/anaconda3/lib/python3.11/site-packages/numpy/core/_methods.py:121\u001b[0m, in \u001b[0;36m_mean\u001b[0;34m(a, axis, dtype, out, keepdims, where)\u001b[0m\n\u001b[1;32m    119\u001b[0m \u001b[38;5;28;01mif\u001b[39;00m \u001b[38;5;28misinstance\u001b[39m(ret, mu\u001b[38;5;241m.\u001b[39mndarray):\n\u001b[1;32m    120\u001b[0m     \u001b[38;5;28;01mwith\u001b[39;00m _no_nep50_warning():\n\u001b[0;32m--> 121\u001b[0m         ret \u001b[38;5;241m=\u001b[39m um\u001b[38;5;241m.\u001b[39mtrue_divide(\n\u001b[1;32m    122\u001b[0m                 ret, rcount, out\u001b[38;5;241m=\u001b[39mret, casting\u001b[38;5;241m=\u001b[39m\u001b[38;5;124m'\u001b[39m\u001b[38;5;124munsafe\u001b[39m\u001b[38;5;124m'\u001b[39m, subok\u001b[38;5;241m=\u001b[39m\u001b[38;5;28;01mFalse\u001b[39;00m)\n\u001b[1;32m    123\u001b[0m     \u001b[38;5;28;01mif\u001b[39;00m is_float16_result \u001b[38;5;129;01mand\u001b[39;00m out \u001b[38;5;129;01mis\u001b[39;00m \u001b[38;5;28;01mNone\u001b[39;00m:\n\u001b[1;32m    124\u001b[0m         ret \u001b[38;5;241m=\u001b[39m arr\u001b[38;5;241m.\u001b[39mdtype\u001b[38;5;241m.\u001b[39mtype(ret)\n",
      "\u001b[0;31mTypeError\u001b[0m: unsupported operand type(s) for /: 'type' and 'int'"
     ]
    }
   ],
   "source": [
    "import rarfile\n",
    "import os\n",
    "import numpy as np\n",
    "import pandas as pd\n",
    "from sklearn.metrics import confusion_matrix\n",
    "from sklearn.metrics import ConfusionMatrixDisplay\n",
    "\n",
    "path_metricas_rar = \"/home/thiago_lahass/Documents/IA - UFES/Modulo II - Ferramentas/2_numpy_scipy/data/metricas.rar\"\n",
    "path_metricas_destino = \"data/metricas\"\n",
    "\n",
    "# Extrair os arquivos .dat do arquivo .rar\n",
    "# with rarfile.RarFile(path_metricas_rar, 'r') as rar_ref:\n",
    "#     rar_ref.extractall(path=path_metricas_destino)\n",
    "\n",
    "# Listar arquivos .dat na pasta de destino\n",
    "arquivos_dat = [os.path.join(path_metricas_destino, arquivo) for arquivo in os.listdir(path_metricas_destino) if arquivo.endswith('.dat')] \n",
    "\n",
    "# Calcular a matriz de correlação\n",
    "matriz_metricas = np.ndarray\n",
    "\n",
    "print(len(arquivos_dat))\n",
    "\n",
    "# Carregar dados do arquivo .dat em um DataFrame\n",
    "df = pd.read_csv(arquivos_dat[0], sep=' ')  # Assumindo que os dados estão separados por tabulação\n",
    "    \n",
    "# print(df)\n",
    "\n",
    "print(type(df.values.T))\n",
    "\n",
    "for i in range(5):\n",
    "    # Carregar dados do arquivo .dat em um DataFrame\n",
    "    df = pd.read_csv(arquivos_dat[i], sep=' ')  # Assumindo que os dados estão separados por tabulação\n",
    "    \n",
    "    # Adicionar à lista de matrizes de correlação\n",
    "    np.append(matriz_metricas, df.T)\n",
    "\n",
    "# for arquivo_dat in arquivos_dat:\n",
    "#     # Carregar dados do arquivo .dat em um DataFrame\n",
    "#     df = pd.read_csv(arquivo_dat, sep='\\t')  # Assumindo que os dados estão separados por tabulação\n",
    "    \n",
    "#     # Adicionar à lista de matrizes de correlação\n",
    "#     matriz_metricas.append(df.values.T)\n",
    "\n",
    "print(matriz_metricas)\n",
    "\n",
    "# Calcular a matriz de covariância\n",
    "# cov_matrix = np.cov(matriz_metricas)\n",
    "\n",
    "# Calcular a matriz de correlação a partir da matriz de covariância\n",
    "correlation_matrix = np.corrcoef(matriz_metricas)\n",
    "\n",
    "# print(\"Matriz de Covariância:\")\n",
    "# print(cov_matrix)\n",
    "\n",
    "# print(\"\\nMatriz de Correlação:\")\n",
    "# print(correlation_matrix)"
   ]
  },
  {
   "cell_type": "code",
   "execution_count": 42,
   "metadata": {},
   "outputs": [
    {
     "name": "stdout",
     "output_type": "stream",
     "text": [
      "[[ 1  2  3  4]\n",
      " [ 2  4  6  8]\n",
      " [ 3  6  9 12]\n",
      " [ 4  8 12 16]]\n",
      "Matriz de Covariância:\n",
      "[[ 1.66666667  3.33333333  5.          6.66666667]\n",
      " [ 3.33333333  6.66666667 10.         13.33333333]\n",
      " [ 5.         10.         15.         20.        ]\n",
      " [ 6.66666667 13.33333333 20.         26.66666667]]\n",
      "\n",
      "Matriz de Correlação:\n",
      "[[1. 1. 1. 1.]\n",
      " [1. 1. 1. 1.]\n",
      " [1. 1. 1. 1.]\n",
      " [1. 1. 1. 1.]]\n"
     ]
    }
   ],
   "source": [
    "data = np.array([\n",
    "    [1, 2, 3, 4],  # Métrica1\n",
    "    [2, 4, 6, 8],  # Métrica2\n",
    "    [3, 6, 9, 12],  # Métrica3\n",
    "    [4, 8, 12, 16]  # Métrica4\n",
    "])\n",
    "\n",
    "print(data)\n",
    "\n",
    "# Calcular a matriz de covariância\n",
    "cov_matrix = np.cov(data)\n",
    "\n",
    "# Calcular a matriz de correlação a partir da matriz de covariância\n",
    "correlation_matrix = np.corrcoef(data)\n",
    "\n",
    "print(\"Matriz de Covariância:\")\n",
    "print(cov_matrix)\n",
    "\n",
    "print(\"\\nMatriz de Correlação:\")\n",
    "print(correlation_matrix)"
   ]
  },
  {
   "cell_type": "code",
   "execution_count": null,
   "metadata": {},
   "outputs": [],
   "source": []
  }
 ],
 "metadata": {
  "kernelspec": {
   "display_name": "Python 3 (ipykernel)",
   "language": "python",
   "name": "python3"
  },
  "language_info": {
   "codemirror_mode": {
    "name": "ipython",
    "version": 3
   },
   "file_extension": ".py",
   "mimetype": "text/x-python",
   "name": "python",
   "nbconvert_exporter": "python",
   "pygments_lexer": "ipython3",
   "version": "3.11.7"
  }
 },
 "nbformat": 4,
 "nbformat_minor": 4
}
