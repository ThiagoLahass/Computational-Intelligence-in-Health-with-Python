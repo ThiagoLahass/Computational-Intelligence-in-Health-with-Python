





import numpy as np


def mse_calc( arr1, arr2):
    arr_dif = arr1 - arr2
    arr_dif = np.power(arr_dif,2)
    print(arr_dif.mean())



arr1 = np.array([2,2,3])
arr2 = np.array([0,2,3])

mse_calc(arr1, arr2)


def mae_calc( arr1, arr2):
    arr_dif = arr1 - arr2
    arr_dif = np.abs(arr_dif)
    print(arr_dif.mean())


mae_calc(arr1, arr2)





import rarfile
import os
import numpy as np
import pandas as pd
from sklearn.metrics import confusion_matrix
from sklearn.metrics import ConfusionMatrixDisplay

path_metricas_rar = "/home/thiago_lahass/Documents/IA - UFES/Modulo II - Ferramentas/2_numpy_scipy/data/metricas.rar"
path_metricas_destino = "data/metricas"

# Extrair os arquivos .dat do arquivo .rar
# with rarfile.RarFile(path_metricas_rar, 'r') as rar_ref:
#     rar_ref.extractall(path=path_metricas_destino)

# Listar arquivos .dat na pasta de destino
arquivos_dat = [os.path.join(path_metricas_destino, arquivo) for arquivo in os.listdir(path_metricas_destino) if arquivo.endswith('.dat')] 

# Calcular a matriz de correlação
matriz_metricas = np.ndarray

print(len(arquivos_dat))

# Carregar dados do arquivo .dat em um DataFrame
df = pd.read_csv(arquivos_dat[0], sep=' ')  # Assumindo que os dados estão separados por tabulação
    
# print(df)

print(type(df.values.T))

for i in range(5):
    # Carregar dados do arquivo .dat em um DataFrame
    df = pd.read_csv(arquivos_dat[i], sep=' ')  # Assumindo que os dados estão separados por tabulação
    
    # Adicionar à lista de matrizes de correlação
    np.append(matriz_metricas, df.T)

# for arquivo_dat in arquivos_dat:
#     # Carregar dados do arquivo .dat em um DataFrame
#     df = pd.read_csv(arquivo_dat, sep='\t')  # Assumindo que os dados estão separados por tabulação
    
#     # Adicionar à lista de matrizes de correlação
#     matriz_metricas.append(df.values.T)

print(matriz_metricas)

# Calcular a matriz de covariância
# cov_matrix = np.cov(matriz_metricas)

# Calcular a matriz de correlação a partir da matriz de covariância
correlation_matrix = np.corrcoef(matriz_metricas)

# print("Matriz de Covariância:")
# print(cov_matrix)

# print("\nMatriz de Correlação:")
# print(correlation_matrix)


data = np.array([
    [1, 2, 3, 4],  # Métrica1
    [2, 4, 6, 8],  # Métrica2
    [3, 6, 9, 12],  # Métrica3
    [4, 8, 12, 16]  # Métrica4
])

print(data)

# Calcular a matriz de covariância
cov_matrix = np.cov(data)

# Calcular a matriz de correlação a partir da matriz de covariância
correlation_matrix = np.corrcoef(data)

print("Matriz de Covariância:")
print(cov_matrix)

print("\nMatriz de Correlação:")
print(correlation_matrix)



