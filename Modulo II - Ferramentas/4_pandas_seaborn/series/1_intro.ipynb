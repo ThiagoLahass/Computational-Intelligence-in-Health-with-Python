{
 "cells": [
  {
   "cell_type": "markdown",
   "metadata": {},
   "source": [
    "# `series` em Pandas\n",
    "- Representa um array de uma dimensão. Em outras palavras, uma tabela com apenas uma coluna\n",
    "- Uma versão mais poderosa de uma lista do Python\n",
    "- Pode ter qualquer tipo de dado: inteiros, floats, booleanos etc"
   ]
  },
  {
   "cell_type": "code",
   "execution_count": 1,
   "metadata": {},
   "outputs": [],
   "source": [
    "import pandas as pd"
   ]
  },
  {
   "cell_type": "markdown",
   "metadata": {},
   "source": [
    "## Criando `Series` a partir de uma lista"
   ]
  },
  {
   "cell_type": "code",
   "execution_count": 3,
   "metadata": {},
   "outputs": [
    {
     "data": {
      "text/plain": [
       "0      banana\n",
       "1    melancia\n",
       "2     laranja\n",
       "3        pera\n",
       "dtype: object"
      ]
     },
     "execution_count": 3,
     "metadata": {},
     "output_type": "execute_result"
    }
   ],
   "source": [
    "frutas = [\"banana\", \"melancia\", \"laranja\", \"pera\"]\n",
    "pd.Series(frutas)"
   ]
  },
  {
   "cell_type": "markdown",
   "metadata": {},
   "source": [
    "- Observe que os valores são representados na mesma sequência da lista\n",
    "- `dtype` mostra o tipo. Nesse caso, está mostrango `object`, que para o pandas, siginifica uma `string`\n",
    "- Na esquerda, temos um componente extra chamado do **index**. Nesse exemplo, é mesmo do que os indices da lista\n",
    "- Uma vantagem de uma Serie em relação a Lista é que os index não precisam ser numéricos (o default é manter inteiro)"
   ]
  },
  {
   "cell_type": "code",
   "execution_count": 4,
   "metadata": {},
   "outputs": [
    {
     "data": {
      "text/plain": [
       "Andre     1\n",
       "Lucas    79\n",
       "José     23\n",
       "Nany     12\n",
       "Nadir    34\n",
       "dtype: int64"
      ]
     },
     "execution_count": 4,
     "metadata": {},
     "output_type": "execute_result"
    }
   ],
   "source": [
    "rifa = [1, 79, 23, 12, 34]\n",
    "nomes = [\"Andre\", \"Lucas\", \"José\", \"Nany\", \"Nadir\"]\n",
    "pd.Series(rifa, index=nomes)"
   ]
  },
  {
   "cell_type": "markdown",
   "metadata": {},
   "source": [
    "- Observe que agora estamos passando os indices como string\n",
    "- O `dtype` agora são inteiros"
   ]
  },
  {
   "cell_type": "markdown",
   "metadata": {},
   "source": [
    "## Criando `Series` a partir de um dicionário"
   ]
  },
  {
   "cell_type": "code",
   "execution_count": 5,
   "metadata": {},
   "outputs": [
    {
     "data": {
      "text/plain": [
       "Andre     1\n",
       "Lucas    79\n",
       "José     23\n",
       "Nany     12\n",
       "Nadir    34\n",
       "dtype: int64"
      ]
     },
     "execution_count": 5,
     "metadata": {},
     "output_type": "execute_result"
    }
   ],
   "source": [
    "rifas_dict = {p:n for p, n in zip(nomes, rifa)}\n",
    "pd.Series(rifas_dict)"
   ]
  },
  {
   "cell_type": "markdown",
   "metadata": {},
   "source": [
    "- Nesse caso, criamos o mesmo resultado, mas a partir de um dicionário\n",
    "\n",
    "- **Importante**: diferente dos dicionarios indices não precisam ser únicos. Eles podem se repetir!\n",
    "\n",
    "- Portanto, é uma `serie` é uma **mistura de dicionarios com lista**\n",
    "\n",
    "Exemplo repetindo indices:"
   ]
  },
  {
   "cell_type": "code",
   "execution_count": 6,
   "metadata": {},
   "outputs": [
    {
     "data": {
      "text/plain": [
       "Andre     1\n",
       "Lucas    79\n",
       "José     23\n",
       "Lucas    12\n",
       "Andre    34\n",
       "dtype: int64"
      ]
     },
     "execution_count": 6,
     "metadata": {},
     "output_type": "execute_result"
    }
   ],
   "source": [
    "rifa = [1, 79, 23, 12, 34]\n",
    "nomes = [\"Andre\", \"Lucas\", \"José\", \"Lucas\", \"Andre\"]\n",
    "pd.Series(rifa, index=nomes)"
   ]
  },
  {
   "cell_type": "code",
   "execution_count": null,
   "metadata": {},
   "outputs": [],
   "source": []
  }
 ],
 "metadata": {
  "kernelspec": {
   "display_name": "Python 3",
   "language": "python",
   "name": "python3"
  },
  "language_info": {
   "codemirror_mode": {
    "name": "ipython",
    "version": 3
   },
   "file_extension": ".py",
   "mimetype": "text/x-python",
   "name": "python",
   "nbconvert_exporter": "python",
   "pygments_lexer": "ipython3",
   "version": "3.12.2"
  }
 },
 "nbformat": 4,
 "nbformat_minor": 4
}
