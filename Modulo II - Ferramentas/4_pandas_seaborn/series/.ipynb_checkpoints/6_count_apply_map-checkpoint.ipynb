{
 "cells": [
  {
   "cell_type": "code",
   "execution_count": null,
   "metadata": {},
   "outputs": [],
   "source": [
    "import pandas as pd"
   ]
  },
  {
   "cell_type": "markdown",
   "metadata": {},
   "source": [
    "# Contando valores com o método `value_counts()`\n",
    "- É possível contar a quantidade de cada uma das entradas numa série"
   ]
  },
  {
   "cell_type": "code",
   "execution_count": null,
   "metadata": {},
   "outputs": [],
   "source": [
    "pokemon = pd.read_csv(\"../data/pokemon.csv\", index_col=\"Pokemon\", squeeze=True)\n",
    "pokemon"
   ]
  },
  {
   "cell_type": "code",
   "execution_count": null,
   "metadata": {},
   "outputs": [],
   "source": [
    "pokemon.value_counts()"
   ]
  },
  {
   "cell_type": "markdown",
   "metadata": {},
   "source": [
    "- Perceba que o método retornou a quantidade de cada tipo da série\n",
    "- Obviamente, a soma do resultado tem que ser igual ao total de pokemons"
   ]
  },
  {
   "cell_type": "code",
   "execution_count": null,
   "metadata": {},
   "outputs": [],
   "source": [
    "print(f\"Soma: {pokemon.value_counts().sum()}\")\n",
    "print(f\"Total: {pokemon.count()}\")"
   ]
  },
  {
   "cell_type": "markdown",
   "metadata": {},
   "source": [
    "- O método `value_counts()` tem alguns parâmetros que podem ser utilizados (sempre interessante consultar a documentação)"
   ]
  },
  {
   "cell_type": "code",
   "execution_count": null,
   "metadata": {},
   "outputs": [],
   "source": [
    "pokemon.value_counts(normalize=True)"
   ]
  },
  {
   "cell_type": "code",
   "execution_count": null,
   "metadata": {},
   "outputs": [],
   "source": [
    "pokemon.value_counts(ascending=True, dropna=True)"
   ]
  },
  {
   "cell_type": "markdown",
   "metadata": {},
   "source": [
    "# Usando método `apply()`\n",
    "- Esse método é utilizado para aplicar alguma operação customizada (ou função) em todos os elementos da série\n",
    "- Obviamente, o pandas nao vai cobrir tudo o que você quer operar em cima de uma série\n",
    "- Esse método espera receber uma função (que pode ser uma lambda) para operar em cima da série"
   ]
  },
  {
   "cell_type": "code",
   "execution_count": null,
   "metadata": {},
   "outputs": [],
   "source": [
    "google = pd.read_csv(\"../data/google_stock_price.csv\", squeeze=True)\n",
    "google.head()"
   ]
  },
  {
   "cell_type": "markdown",
   "metadata": {},
   "source": [
    "- Vamos definir uma função para ser aplicada na série"
   ]
  },
  {
   "cell_type": "code",
   "execution_count": null,
   "metadata": {},
   "outputs": [],
   "source": [
    "def classifica_preco(preco):\n",
    "    if preco < 300:\n",
    "        return \"Baixo\"\n",
    "    elif preco < 650:\n",
    "        return \"Medio\"\n",
    "    else:\n",
    "        return \"Caro\""
   ]
  },
  {
   "cell_type": "markdown",
   "metadata": {},
   "source": [
    "- Agora vamos aplicar a função"
   ]
  },
  {
   "cell_type": "code",
   "execution_count": null,
   "metadata": {},
   "outputs": [],
   "source": [
    "google.apply(classifica_preco)"
   ]
  },
  {
   "cell_type": "markdown",
   "metadata": {},
   "source": [
    "- Observe que recebemos uma nova série com o resultado da operação customizada que definimos\n",
    "- Além disso, o método nao modifica a seria original, ele cria outra\n",
    "- A função precisa receber um parametro apenas e retornar um valor"
   ]
  },
  {
   "cell_type": "markdown",
   "metadata": {},
   "source": [
    "- Como disse antes, podemos usar uma função `lambda` (ou função anonima) quando temos uma operação bem simples para fazer\n",
    "- Vamos supor que eu quero converter todos os valores de USD para BRL\n",
    "- Para isso, podemos fazer"
   ]
  },
  {
   "cell_type": "code",
   "execution_count": null,
   "metadata": {},
   "outputs": [],
   "source": [
    "google.apply(lambda preco: preco*4.7)"
   ]
  },
  {
   "cell_type": "markdown",
   "metadata": {},
   "source": [
    "# Usando o método `map()`\n",
    "- Esse método serve para mapear duas séries (ou uma série e um dicionário) que possuem alguma chave em comum\n",
    "- funciona para achar interseção entre duas séries"
   ]
  },
  {
   "cell_type": "code",
   "execution_count": null,
   "metadata": {},
   "outputs": [],
   "source": [
    "pokemon = pd.read_csv(\"../data/pokemon.csv\", usecols=[\"Pokemon\"], squeeze=True)\n",
    "pokemon_types = pd.read_csv(\"../data/pokemon.csv\", index_col=\"Pokemon\", squeeze=True)"
   ]
  },
  {
   "cell_type": "code",
   "execution_count": null,
   "metadata": {},
   "outputs": [],
   "source": [
    "pokemon"
   ]
  },
  {
   "cell_type": "code",
   "execution_count": null,
   "metadata": {},
   "outputs": [],
   "source": [
    "pokemon_types.head()"
   ]
  },
  {
   "cell_type": "markdown",
   "metadata": {},
   "source": [
    "- Agora podemos mapear uma série com a outra. Aquelas que possuem chaves iguals são mantidos\n",
    "    - Nesse caso vai manter tudo porque estamos carregando o mesmo arquivo"
   ]
  },
  {
   "cell_type": "code",
   "execution_count": null,
   "metadata": {},
   "outputs": [],
   "source": [
    "pokemon.map(pokemon_types)"
   ]
  },
  {
   "cell_type": "markdown",
   "metadata": {},
   "source": [
    "- Também é possivel usar um dicionario para mapeamento"
   ]
  },
  {
   "cell_type": "code",
   "execution_count": null,
   "metadata": {},
   "outputs": [],
   "source": [
    "pokemon_dict = {\n",
    "    \"Bulbasaur\": \"Grass\",\n",
    "    \"Ivysaur\": \"Grass\",\n",
    "    \"Venusaur\": \"Grass\",\n",
    "    \"Jesimon\": \"God\",\n",
    "    \"Digimon\": \"other\"    \n",
    "}\n",
    "\n",
    "pokemon.map(pokemon_dict)"
   ]
  },
  {
   "cell_type": "markdown",
   "metadata": {},
   "source": [
    "- Observe que aqueles valores que nao tem interseção, são colocados como `NaN`\n",
    "- Podemos remover eles do resultado"
   ]
  },
  {
   "cell_type": "code",
   "execution_count": null,
   "metadata": {},
   "outputs": [],
   "source": [
    "pokemon.map(pokemon_dict).dropna()"
   ]
  },
  {
   "cell_type": "code",
   "execution_count": null,
   "metadata": {},
   "outputs": [],
   "source": []
  }
 ],
 "metadata": {
  "kernelspec": {
   "display_name": "Python 3",
   "language": "python",
   "name": "python3"
  },
  "language_info": {
   "codemirror_mode": {
    "name": "ipython",
    "version": 3
   },
   "file_extension": ".py",
   "mimetype": "text/x-python",
   "name": "python",
   "nbconvert_exporter": "python",
   "pygments_lexer": "ipython3",
   "version": "3.8.5"
  }
 },
 "nbformat": 4,
 "nbformat_minor": 4
}
