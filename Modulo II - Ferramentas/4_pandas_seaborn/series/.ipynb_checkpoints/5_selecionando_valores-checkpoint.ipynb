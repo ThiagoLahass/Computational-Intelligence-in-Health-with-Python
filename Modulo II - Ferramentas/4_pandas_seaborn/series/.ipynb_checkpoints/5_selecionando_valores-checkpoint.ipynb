{
 "cells": [
  {
   "cell_type": "code",
   "execution_count": null,
   "metadata": {},
   "outputs": [],
   "source": [
    "import pandas as pd"
   ]
  },
  {
   "cell_type": "markdown",
   "metadata": {},
   "source": [
    "# Selecionado valores pela posição do index"
   ]
  },
  {
   "cell_type": "code",
   "execution_count": null,
   "metadata": {},
   "outputs": [],
   "source": [
    "pokemon = pd.read_csv(\"../data/pokemon.csv\", usecols=[\"Pokemon\"], squeeze=True)\n",
    "google = pd.read_csv(\"../data/google_stock_price.csv\", squeeze=True)"
   ]
  },
  {
   "cell_type": "markdown",
   "metadata": {},
   "source": [
    "- Primeiramente, vamos imprimir os primeiros valores de uma serie"
   ]
  },
  {
   "cell_type": "code",
   "execution_count": null,
   "metadata": {},
   "outputs": [],
   "source": [
    "pokemon.head()"
   ]
  },
  {
   "cell_type": "markdown",
   "metadata": {},
   "source": [
    "- Nesse caso, a série tem indices numéricos que começa do zero\n",
    "- A maneira de selecionar valores em uma série é similar a uma lista do Python\n",
    "- Podemos usar o a notação de colchetes `[]` e passar a posição de um indice\n",
    "    - **Obs**: Se o indice fosse uma string, poderiamos passar a string, vamos fazer isso logo mais"
   ]
  },
  {
   "cell_type": "code",
   "execution_count": null,
   "metadata": {},
   "outputs": [],
   "source": [
    "pokemon[3]"
   ]
  },
  {
   "cell_type": "markdown",
   "metadata": {},
   "source": [
    "- Podemos passar uma lista de indices para selecionar vários pokemons\n",
    "    - Nesse caso, vamos obter uma nova série como resultado"
   ]
  },
  {
   "cell_type": "code",
   "execution_count": null,
   "metadata": {},
   "outputs": [],
   "source": [
    "pokemon[[3, 9, 400]]"
   ]
  },
  {
   "cell_type": "markdown",
   "metadata": {},
   "source": [
    "- Também podemos usar a notação de `slices` do Python"
   ]
  },
  {
   "cell_type": "code",
   "execution_count": null,
   "metadata": {},
   "outputs": [],
   "source": [
    "pokemon[50:55]"
   ]
  },
  {
   "cell_type": "code",
   "execution_count": null,
   "metadata": {},
   "outputs": [],
   "source": [
    "pokemon[-5:-1]"
   ]
  },
  {
   "cell_type": "markdown",
   "metadata": {},
   "source": [
    "# Selecionado valores pelo label do index\n",
    "- Até o momento carregamos nossos pokemons usando a coluna numerica\n",
    "- Agora vamos carregar o csv usando os pokemons como indices\n",
    "- Para isso, vamos usar a função `read_csv` ao nosso favor"
   ]
  },
  {
   "cell_type": "code",
   "execution_count": null,
   "metadata": {},
   "outputs": [],
   "source": [
    "pokemon = pd.read_csv(\"../data/pokemon.csv\", index_col=\"Pokemon\", squeeze=True)\n",
    "pokemon"
   ]
  },
  {
   "cell_type": "markdown",
   "metadata": {},
   "source": [
    "- Observe que agora os pokemons viraram os indices e o tipo dele virou o valor\n",
    "- Agora que nossos indices são labels (strings) podemos selecionar por eles\n",
    "- Porém, **ainda é possível selecionar por posição**\n",
    "    - Pandas é muito flexivel (isso pode ser bom ou ruim, depende do ponto de vista)\n",
    "    - Ele vai associar a posição do label com um valor numerico\n",
    "- Vou selecionar a posição 3, que no caso é o indice `Charmander` que tem que retornar `Fire`"
   ]
  },
  {
   "cell_type": "code",
   "execution_count": null,
   "metadata": {},
   "outputs": [],
   "source": [
    "pokemon[3]"
   ]
  },
  {
   "cell_type": "markdown",
   "metadata": {},
   "source": [
    "- O slice também fuciona:"
   ]
  },
  {
   "cell_type": "code",
   "execution_count": null,
   "metadata": {},
   "outputs": [],
   "source": [
    "pokemon[0:5]"
   ]
  },
  {
   "cell_type": "markdown",
   "metadata": {},
   "source": [
    "- Perfeito, mas nossa intenção aqui é extrair por label, por posição a gente já fez anteriormente\n",
    "- Simples: basta usar o nome do label:"
   ]
  },
  {
   "cell_type": "code",
   "execution_count": null,
   "metadata": {},
   "outputs": [],
   "source": [
    "pokemon[\"Charmander\"]"
   ]
  },
  {
   "cell_type": "markdown",
   "metadata": {},
   "source": [
    "- Também podemos usar uma lista de indices\n",
    "    - Vamos receber uma outra serie com os resultados"
   ]
  },
  {
   "cell_type": "code",
   "execution_count": null,
   "metadata": {},
   "outputs": [],
   "source": [
    "pokemon[[\"Charmander\", \"Pikachu\", \"Bulbasaur\"]]"
   ]
  },
  {
   "cell_type": "markdown",
   "metadata": {},
   "source": [
    "- Pode parecer estranho, mas também é possível usar `slice` para selecionar via label\n",
    "- Neste caso, ele usa a posição do label para selecionar em sequência"
   ]
  },
  {
   "cell_type": "code",
   "execution_count": null,
   "metadata": {},
   "outputs": [],
   "source": [
    "pokemon[\"Bulbasaur\":\"Charmander\"]"
   ]
  },
  {
   "cell_type": "markdown",
   "metadata": {},
   "source": [
    "- **Importante:** se usarmos `slice` com labels, o intervalo é fechado, ou seja, `Bulbasaur` e `Charmander` fazem parte do resultado. Isso não acontece com o index\n",
    "- Temos que ter cuidado ao utilizar essa feature\n",
    "- Assim como em um dicionário, se você passar um indice que não existe, será retornado uma excessão com `KeyError`"
   ]
  },
  {
   "cell_type": "code",
   "execution_count": null,
   "metadata": {},
   "outputs": [],
   "source": [
    "pokemon[\"Jesimon\"]"
   ]
  },
  {
   "cell_type": "code",
   "execution_count": null,
   "metadata": {},
   "outputs": [],
   "source": [
    "pokemon[[\"Jesimon\", \"Pikachu\"]]"
   ]
  },
  {
   "cell_type": "markdown",
   "metadata": {},
   "source": [
    "- Uma maneira de solucionar os casos em que em uma lista de labels uns existam e outros não é usando o método `reindex`\n",
    "- Em resumo, ele criar um `NaN` para os casos em que o label não existe e não teremos mais uma excessão"
   ]
  },
  {
   "cell_type": "code",
   "execution_count": null,
   "metadata": {},
   "outputs": [],
   "source": [
    "pokemon.reindex(index=[\"Jesimon\", \"Pikachu\"])"
   ]
  },
  {
   "cell_type": "markdown",
   "metadata": {},
   "source": [
    "# Selecionando usando o método `get()`\n",
    "- Uma outra maneira de selecionar valores pelos indices é usando o `get()`\n",
    "- Basicamente a gente passa o indice por parametro (pode ser label ou valor numerico) e ele retorna o valor\n",
    "- É muito similar ao `[]`, a diferença é que é possível definir um valor padrão para quando o indice nao existe"
   ]
  },
  {
   "cell_type": "code",
   "execution_count": null,
   "metadata": {},
   "outputs": [],
   "source": [
    "pokemon.head()"
   ]
  },
  {
   "cell_type": "code",
   "execution_count": null,
   "metadata": {},
   "outputs": [],
   "source": [
    "pokemon.get(0)"
   ]
  },
  {
   "cell_type": "code",
   "execution_count": null,
   "metadata": {},
   "outputs": [],
   "source": [
    "pokemon.get(\"Pikachu\")"
   ]
  },
  {
   "cell_type": "markdown",
   "metadata": {},
   "source": [
    "- Quando a gente passa um indice que não existe, ele retorn `None` e portanto não imprime nada aqui no notebook"
   ]
  },
  {
   "cell_type": "code",
   "execution_count": null,
   "metadata": {},
   "outputs": [],
   "source": [
    "print(pokemon.get(10000))"
   ]
  },
  {
   "cell_type": "code",
   "execution_count": null,
   "metadata": {},
   "outputs": [],
   "source": [
    "print(pokemon.get(\"Jesimon\"))"
   ]
  },
  {
   "cell_type": "markdown",
   "metadata": {},
   "source": [
    "- Porém, podemos passar o valor `default` como parametro para definir o que retornar nessa ocasião"
   ]
  },
  {
   "cell_type": "code",
   "execution_count": null,
   "metadata": {},
   "outputs": [],
   "source": [
    "pokemon.get(\"Jesimon\", default=\"Nao existe\")"
   ]
  },
  {
   "cell_type": "code",
   "execution_count": null,
   "metadata": {},
   "outputs": [],
   "source": [
    "pokemon.get(20000, default=\"Nao existe\")"
   ]
  },
  {
   "cell_type": "code",
   "execution_count": null,
   "metadata": {},
   "outputs": [],
   "source": [
    "pokemon.get([\"Jesimon\", \"Pikachu\"], default=\"Algum indice nao existe\")"
   ]
  },
  {
   "cell_type": "markdown",
   "metadata": {},
   "source": [
    "# Selecionando os indices dos maiores e menores valores da serie\n",
    "- Como ja vimos no Notebook 2, podemos usar os métodos `min` e `max` para selecionar o menor e maior valor da série, respectivamente\n",
    "- Agora vamos selecionar o indice desses valores com os métodos `idxmin` e `idxmax`\n",
    "- Primeiramente, vamos obter os valores minimo e maximo:"
   ]
  },
  {
   "cell_type": "code",
   "execution_count": null,
   "metadata": {},
   "outputs": [],
   "source": [
    "print (f\"Min: {google.min()}\\nMax: {google.max()}\")"
   ]
  },
  {
   "cell_type": "markdown",
   "metadata": {},
   "source": [
    "- Agora, vamos obter os indices dos mesmos:"
   ]
  },
  {
   "cell_type": "code",
   "execution_count": null,
   "metadata": {},
   "outputs": [],
   "source": [
    "print (f\"Idx Min: {google.idxmin()}\\nIdx Max: {google.idxmax()}\")"
   ]
  },
  {
   "cell_type": "markdown",
   "metadata": {},
   "source": [
    "- Vamos verificar o valor de cada posição:"
   ]
  },
  {
   "cell_type": "code",
   "execution_count": null,
   "metadata": {},
   "outputs": [],
   "source": [
    "print (f\"Min: {google[11]}\\nMax: {google[3011]}\")"
   ]
  },
  {
   "cell_type": "code",
   "execution_count": null,
   "metadata": {},
   "outputs": [],
   "source": []
  }
 ],
 "metadata": {
  "kernelspec": {
   "display_name": "Python 3",
   "language": "python",
   "name": "python3"
  },
  "language_info": {
   "codemirror_mode": {
    "name": "ipython",
    "version": 3
   },
   "file_extension": ".py",
   "mimetype": "text/x-python",
   "name": "python",
   "nbconvert_exporter": "python",
   "pygments_lexer": "ipython3",
   "version": "3.8.5"
  }
 },
 "nbformat": 4,
 "nbformat_minor": 4
}
