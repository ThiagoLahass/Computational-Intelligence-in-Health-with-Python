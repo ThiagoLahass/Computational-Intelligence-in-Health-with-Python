{
 "cells": [
  {
   "cell_type": "code",
   "execution_count": null,
   "metadata": {},
   "outputs": [],
   "source": [
    "import pandas as pd"
   ]
  },
  {
   "cell_type": "markdown",
   "metadata": {},
   "source": [
    "# Usando o método `read_csv` para ler um arquivo .csv\n",
    "Primeiramente vamos ler o um arquivo csv chamado `pokemon.csv` usando a função:"
   ]
  },
  {
   "cell_type": "code",
   "execution_count": null,
   "metadata": {},
   "outputs": [],
   "source": [
    "pd.read_csv(\"../data/pokemon.csv\")"
   ]
  },
  {
   "cell_type": "markdown",
   "metadata": {},
   "source": [
    "- A função `read_csv` tem dezenas de parâmetros. Para entender cada um deles, temos que recorrer a [documentação](https://pandas.pydata.org/docs/reference/api/pandas.read_csv.html)\n",
    "- Perceba que a resposta do método foi uma tabela com duas colunas, que difere de uma série\n",
    "- Na verdade, essa tabela se chama `DataFrame`, mas vamos falar sobre ele em breve\n",
    "- Por agora, vamos carregar apenas uma coluna para termos uma série. Para isso, vamos usar:\n",
    "    - O parâmetro `usecols` e passar apenas a coluna Pokemon (assim, temos uma unica coluna)\n",
    "    - O parâmetro `squeeze` para forçar nossa dataframe se tornar uma série"
   ]
  },
  {
   "cell_type": "code",
   "execution_count": null,
   "metadata": {},
   "outputs": [],
   "source": [
    "pokemon = pd.read_csv(\"../data/pokemon.csv\", usecols=[\"Pokemon\"], squeeze=True)\n",
    "pokemon"
   ]
  },
  {
   "cell_type": "markdown",
   "metadata": {},
   "source": [
    "- Observe que temos 721 pokemons (linhas)\n",
    "- Porém, o Pandas está mostrando apenas 10. Isso é apenas para economizar espaço e não explodir nossa tela\n",
    "- Podemos dar uma olhada apenas no inicio e no fim da serie usando os métodos `head` and `tail`"
   ]
  },
  {
   "cell_type": "code",
   "execution_count": null,
   "metadata": {},
   "outputs": [],
   "source": [
    "pokemon.head(10) # Monstra as 10 primeiras linhas. Se nao passarmos o 10, o padrão é 5"
   ]
  },
  {
   "cell_type": "code",
   "execution_count": null,
   "metadata": {},
   "outputs": [],
   "source": [
    "pokemon.tail(3) # Monstra as 3 últimas linhas. Se nao passarmos o 3, o padrão é 5"
   ]
  },
  {
   "cell_type": "code",
   "execution_count": null,
   "metadata": {},
   "outputs": [],
   "source": [
    "pokemon.tail()"
   ]
  },
  {
   "cell_type": "markdown",
   "metadata": {},
   "source": [
    "## Usando funções padrões do Python com a serie\n",
    "- Podemos usar `len`, `type`, `sorted`, `list`, `max`, `min`, etc"
   ]
  },
  {
   "cell_type": "code",
   "execution_count": null,
   "metadata": {},
   "outputs": [],
   "source": [
    "len(pokemon)"
   ]
  },
  {
   "cell_type": "code",
   "execution_count": null,
   "metadata": {},
   "outputs": [],
   "source": [
    "type(pokemon)"
   ]
  },
  {
   "cell_type": "code",
   "execution_count": null,
   "metadata": {},
   "outputs": [],
   "source": [
    "sorted(pokemon)"
   ]
  },
  {
   "cell_type": "code",
   "execution_count": null,
   "metadata": {},
   "outputs": [],
   "source": [
    "list(pokemon)"
   ]
  },
  {
   "cell_type": "code",
   "execution_count": null,
   "metadata": {},
   "outputs": [],
   "source": [
    "max(pokemon)"
   ]
  },
  {
   "cell_type": "code",
   "execution_count": null,
   "metadata": {},
   "outputs": [],
   "source": [
    "min(pokemon)"
   ]
  },
  {
   "cell_type": "code",
   "execution_count": null,
   "metadata": {},
   "outputs": [],
   "source": []
  }
 ],
 "metadata": {
  "kernelspec": {
   "display_name": "Python 3",
   "language": "python",
   "name": "python3"
  },
  "language_info": {
   "codemirror_mode": {
    "name": "ipython",
    "version": 3
   },
   "file_extension": ".py",
   "mimetype": "text/x-python",
   "name": "python",
   "nbconvert_exporter": "python",
   "pygments_lexer": "ipython3",
   "version": "3.8.5"
  }
 },
 "nbformat": 4,
 "nbformat_minor": 4
}
