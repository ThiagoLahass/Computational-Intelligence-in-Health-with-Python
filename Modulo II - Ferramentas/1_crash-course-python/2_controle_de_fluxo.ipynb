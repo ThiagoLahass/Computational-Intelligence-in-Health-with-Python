{
 "cells": [
  {
   "cell_type": "markdown",
   "metadata": {},
   "source": [
    "# Estrutura condicional\n",
    "- Para utilizar a estrutura condicional em Python, assim como na maioria das linguagens, utilizamos a palavra reservada `if`\n",
    "- Como já mencionado, a estrutura do bloco é delimitada pela indentação\n",
    "\n",
    "```\n",
    "if <condição>:\n",
    "    # bloco de comandos\n",
    "    <comando 1>\n",
    "    ...\n",
    "    <comando n>\n",
    "```\n",
    "\n"
   ]
  },
  {
   "cell_type": "code",
   "execution_count": 1,
   "metadata": {},
   "outputs": [],
   "source": [
    "idade = 20\n",
    "if idade > 30:\n",
    "    print(\"Idoso\")"
   ]
  },
  {
   "cell_type": "markdown",
   "metadata": {},
   "source": [
    "- Podemos combinas o comando `if` com `else` e/ou com `elif`:"
   ]
  },
  {
   "cell_type": "code",
   "execution_count": 2,
   "metadata": {},
   "outputs": [
    {
     "name": "stdout",
     "output_type": "stream",
     "text": [
      "Jovem\n"
     ]
    }
   ],
   "source": [
    "if idade <= 20:\n",
    "    print(\"Jovem\")\n",
    "else:\n",
    "    print(\"Idoso\")"
   ]
  },
  {
   "cell_type": "code",
   "execution_count": 4,
   "metadata": {},
   "outputs": [
    {
     "name": "stdout",
     "output_type": "stream",
     "text": [
      "Meia idade\n"
     ]
    }
   ],
   "source": [
    "idade = 25\n",
    "if idade <= 20:\n",
    "    print(\"Jovem\")\n",
    "elif idade <= 25:    \n",
    "    print(\"Meia idade\")\n",
    "else:\n",
    "    print(\"Idoso\")"
   ]
  },
  {
   "cell_type": "markdown",
   "metadata": {},
   "source": [
    "- Obviamente podemos usar expressões booleanas"
   ]
  },
  {
   "cell_type": "code",
   "execution_count": 6,
   "metadata": {},
   "outputs": [
    {
     "name": "stdout",
     "output_type": "stream",
     "text": [
      "Idade legal\n"
     ]
    }
   ],
   "source": [
    "if idade >= 20 and idade <= 30:\n",
    "    print(\"Idade legal\")\n",
    "else:\n",
    "    print(\"Idade nem tão legal\")"
   ]
  },
  {
   "cell_type": "markdown",
   "metadata": {},
   "source": [
    "- Também podemos aninhar `ifs`"
   ]
  },
  {
   "cell_type": "code",
   "execution_count": 11,
   "metadata": {},
   "outputs": [
    {
     "name": "stdout",
     "output_type": "stream",
     "text": [
      "O numero é par | E maior que 5\n"
     ]
    }
   ],
   "source": [
    "num = 10\n",
    "if num % 2 == 0:\n",
    "    print(\"O numero é par\", end=\"\")\n",
    "    if num >= 5:\n",
    "        print(\" | E maior que 5\")"
   ]
  },
  {
   "cell_type": "markdown",
   "metadata": {},
   "source": [
    "### Exemplo de utilização:\n",
    "- Implementando a fórmula de Bhaskara\n",
    "    - Equação do 2º grau: $$ ax^2 + bx + c = 0 $$\n",
    "    - Bhaskara: $$ x = \\frac{-b \\pm \\sqrt{b^2 - 4ac}}{2a} $$"
   ]
  },
  {
   "cell_type": "code",
   "execution_count": 10,
   "metadata": {},
   "outputs": [
    {
     "name": "stdout",
     "output_type": "stream",
     "text": [
      "x1 = 2.4725906780123963\n",
      "x2 = -2.9725906780123963\n"
     ]
    }
   ],
   "source": [
    "from math import sqrt\n",
    "a, b, c = 10, 5, 4\n",
    "delta = b**b - 4*a*c\n",
    "if delta < 0:\n",
    "    print(\"Essa função só funciona para raizes positivas\")\n",
    "else:\n",
    "    x1 = (-b + sqrt(delta)) / (2*a) \n",
    "    x2 = (-b - sqrt(delta)) / (2*a)\n",
    "    \n",
    "    print(f\"x1 = {x1}\")\n",
    "    print(f\"x2 = {x2}\")"
   ]
  },
  {
   "cell_type": "markdown",
   "metadata": {},
   "source": [
    "### Pontos de atenção\n",
    "- A indentação é fundamental\n",
    "    - Pode ser fonte de problema se o TAB estiver configurado com 4 ou 8 espaços\n",
    "- Ao finalizar a expressão é necessário colocar `:`"
   ]
  },
  {
   "cell_type": "markdown",
   "metadata": {},
   "source": [
    "# Estruturas de repetição\n",
    "- Existem duas maneiras principais de utilizar repetição (*loops*) em Python\n",
    "    - Usando `while`\n",
    "    - Usando `for`\n",
    "\n",
    "\n",
    "## O comando `while`\n",
    "- Funciona similar a outras linguagens\n",
    "- O comando avalia a expressão em questão e se ela for verdadeira o bloco de código na sequência é executado\n",
    "    - Esse comportamento é repetido até que a expressão se torne falsa\n",
    "- **Importante:** lembre-se da indentação e dos `:`"
   ]
  },
  {
   "cell_type": "code",
   "execution_count": 14,
   "metadata": {},
   "outputs": [
    {
     "name": "stdout",
     "output_type": "stream",
     "text": [
      "1\n",
      "2\n",
      "3\n",
      "Acabou o while\n"
     ]
    }
   ],
   "source": [
    "contador = 1\n",
    "while contador < 4:\n",
    "    print(contador)\n",
    "    contador += 1\n",
    "print(\"Acabou o while\")"
   ]
  },
  {
   "cell_type": "markdown",
   "metadata": {},
   "source": [
    "- Perceba que você tem que cuidar do contador, caso contrário teremos um loop infinito"
   ]
  },
  {
   "cell_type": "markdown",
   "metadata": {},
   "source": [
    "## O comando `for`\n",
    "- Uma outra maneira de executar um loop\n",
    "- Muito útil para operar em listas (vamos falar sobre as listas na sequência)\n",
    "- Tudo que dar pra fazer com `while` também da pra fazer com `for`\n",
    "    - Porém, com sintaxe diferente\n",
    "- Normalmente, o `for` utiliza a função `range` para gerar uma sequência de números\n",
    "    - Voltaremos a falar dessa função em breve"
   ]
  },
  {
   "cell_type": "code",
   "execution_count": 16,
   "metadata": {},
   "outputs": [
    {
     "name": "stdout",
     "output_type": "stream",
     "text": [
      "0\n",
      "1\n",
      "2\n",
      "3\n",
      "Acabou o for\n"
     ]
    }
   ],
   "source": [
    "limite = 4\n",
    "for k in range(limite):\n",
    "    print(k)\n",
    "print(\"Acabou o for\")"
   ]
  },
  {
   "cell_type": "markdown",
   "metadata": {},
   "source": [
    "### Exemplo: calculando o fatorial de um número\n"
   ]
  },
  {
   "cell_type": "code",
   "execution_count": 18,
   "metadata": {},
   "outputs": [
    {
     "name": "stdout",
     "output_type": "stream",
     "text": [
      "120\n"
     ]
    }
   ],
   "source": [
    "n = 5\n",
    "fat = 1\n",
    "while n > 0:\n",
    "    fat = fat * n\n",
    "    n = n - 1    \n",
    "print(fat)"
   ]
  },
  {
   "cell_type": "markdown",
   "metadata": {},
   "source": [
    "## Os comandos `break` e `continue`\n",
    "- Assim como em outras linguagens, esses comandos são utilizados para interromper um loop\n",
    "- `break`: serve para parar todas as execuções do loop\n",
    "- `continue`: serve para parar o loop atual e avaliar a proxima expressão que pode ou não retornar para o loop"
   ]
  },
  {
   "cell_type": "markdown",
   "metadata": {},
   "source": [
    "- Exemplo `break`\n",
    "    - Perceba que a execução para assim que a expressão do `if` é satisfeita"
   ]
  },
  {
   "cell_type": "code",
   "execution_count": 20,
   "metadata": {},
   "outputs": [
    {
     "name": "stdout",
     "output_type": "stream",
     "text": [
      "1\n",
      "2\n",
      "3\n",
      "4\n",
      "5\n"
     ]
    }
   ],
   "source": [
    "n = 0\n",
    "while n < 10:    \n",
    "    n += 1\n",
    "    if n == 5:\n",
    "        break\n",
    "    print(n)   "
   ]
  },
  {
   "cell_type": "markdown",
   "metadata": {},
   "source": [
    "- Exemplo `continue`:\n",
    "    - Perceba que quando o `if` é satisfeito, o loop é resetado e volta para o início"
   ]
  },
  {
   "cell_type": "code",
   "execution_count": 22,
   "metadata": {},
   "outputs": [
    {
     "name": "stdout",
     "output_type": "stream",
     "text": [
      "1\n",
      "2\n",
      "3\n",
      "4\n",
      "6\n",
      "7\n",
      "8\n",
      "9\n",
      "10\n"
     ]
    }
   ],
   "source": [
    "n = 0\n",
    "while n < 10:    \n",
    "    n += 1\n",
    "    if n == 5:\n",
    "        continue    \n",
    "    print(n)"
   ]
  }
 ],
 "metadata": {
  "kernelspec": {
   "display_name": "Python 3",
   "language": "python",
   "name": "python3"
  },
  "language_info": {
   "codemirror_mode": {
    "name": "ipython",
    "version": 3
   },
   "file_extension": ".py",
   "mimetype": "text/x-python",
   "name": "python",
   "nbconvert_exporter": "python",
   "pygments_lexer": "ipython3",
   "version": "3.8.5"
  }
 },
 "nbformat": 4,
 "nbformat_minor": 4
}
