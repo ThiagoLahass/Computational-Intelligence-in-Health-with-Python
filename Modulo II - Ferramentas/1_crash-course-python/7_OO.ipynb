{
 "cells": [
  {
   "cell_type": "markdown",
   "metadata": {},
   "source": [
    "# Orientação a objetos\n",
    "- Python é uma linguagem orientada a objetos\n",
    "- Para criar uma classe, fazemos"
   ]
  },
  {
   "cell_type": "code",
   "execution_count": 14,
   "metadata": {},
   "outputs": [],
   "source": [
    "class Animal:\n",
    "    def __init__(self, nome, peso, idade=None):\n",
    "        self.nome = nome\n",
    "        self.peso = peso\n",
    "        self.idade = idade\n",
    "        \n",
    "    def print(self):\n",
    "        print(\"-\" * 50)\n",
    "        print(f\"- Nome: {self.nome}\")\n",
    "        print(f\"- Peso: {self.peso} Kg\")\n",
    "        print(f\"- Idade: {self.idade} anos\")\n",
    "        print(\"-\" * 50)\n",
    "        \n",
    "    def expectativa_de_vida(self):\n",
    "        if self.idade is not None:\n",
    "            return self.idade * 7.5\n",
    "        return None\n",
    "    \n",
    "    def converte_peso_gramas(self):\n",
    "        return self.peso * 1000"
   ]
  },
  {
   "cell_type": "markdown",
   "metadata": {},
   "source": [
    "- O método especial `__init__` funciona como um construtor e é chamado automaticamente após a criação de um objeto\n",
    "- Todo método de uma classe recebe como primeiro parâmetro uma referência à instância que chama o método, permitindo assim que o objeto acesse os seus próprios atributos e métodos. \n",
    "- Por convenção, chamamos esse primeiro parâmetro de `self`, mas qualquer outro nome poderia ser utilizado."
   ]
  },
  {
   "cell_type": "code",
   "execution_count": 15,
   "metadata": {},
   "outputs": [],
   "source": [
    "bicho = Animal(\"Bob\", 5, 7)"
   ]
  },
  {
   "cell_type": "code",
   "execution_count": 16,
   "metadata": {},
   "outputs": [
    {
     "name": "stdout",
     "output_type": "stream",
     "text": [
      "--------------------------------------------------\n",
      "- Nome: Bob\n",
      "- Peso: 5 Kg\n",
      "- Idade: 7 anos\n",
      "--------------------------------------------------\n"
     ]
    }
   ],
   "source": [
    "bicho.print()"
   ]
  },
  {
   "cell_type": "code",
   "execution_count": 17,
   "metadata": {},
   "outputs": [
    {
     "data": {
      "text/plain": [
       "52.5"
      ]
     },
     "execution_count": 17,
     "metadata": {},
     "output_type": "execute_result"
    }
   ],
   "source": [
    "bicho.expectativa_de_vida()"
   ]
  },
  {
   "cell_type": "code",
   "execution_count": 18,
   "metadata": {},
   "outputs": [
    {
     "data": {
      "text/plain": [
       "5000"
      ]
     },
     "execution_count": 18,
     "metadata": {},
     "output_type": "execute_result"
    }
   ],
   "source": [
    "bicho.converte_peso_gramas()"
   ]
  },
  {
   "cell_type": "markdown",
   "metadata": {},
   "source": [
    "## Herança\n",
    "- A sintaxe de herança me Python é a seguinte:"
   ]
  },
  {
   "cell_type": "code",
   "execution_count": 19,
   "metadata": {},
   "outputs": [],
   "source": [
    "class Cachorro(Animal):\n",
    "    \n",
    "    def __init__(self, nome, peso, raca, idade=None):\n",
    "        super().__init__(nome, peso, idade)\n",
    "        self.raca = raca\n",
    "        \n",
    "    def print(self):\n",
    "        print(\"-\" * 50)\n",
    "        print(f\"- Nome: {self.nome}\")\n",
    "        print(f\"- Peso: {self.peso} Kg\")\n",
    "        print(f\"- Idade: {self.idade} anos\")\n",
    "        print(f\"- Raca: {self.raca}\")\n",
    "        print(\"-\" * 50)\n",
    "        \n",
    "    def latido(self):\n",
    "        print(\"AU AU AU\")"
   ]
  },
  {
   "cell_type": "code",
   "execution_count": 20,
   "metadata": {},
   "outputs": [],
   "source": [
    "dogao = Cachorro(\"Arnaldo\", 10, \"Vira lata\", idade=15)"
   ]
  },
  {
   "cell_type": "code",
   "execution_count": 21,
   "metadata": {},
   "outputs": [
    {
     "name": "stdout",
     "output_type": "stream",
     "text": [
      "--------------------------------------------------\n",
      "- Nome: Arnaldo\n",
      "- Peso: 10 Kg\n",
      "- Idade: 15 anos\n",
      "- Raca: Vira lata\n",
      "--------------------------------------------------\n"
     ]
    }
   ],
   "source": [
    "dogao.print()"
   ]
  },
  {
   "cell_type": "code",
   "execution_count": 22,
   "metadata": {},
   "outputs": [
    {
     "data": {
      "text/plain": [
       "112.5"
      ]
     },
     "execution_count": 22,
     "metadata": {},
     "output_type": "execute_result"
    }
   ],
   "source": [
    "dogao.expectativa_de_vida()"
   ]
  },
  {
   "cell_type": "code",
   "execution_count": 23,
   "metadata": {},
   "outputs": [
    {
     "name": "stdout",
     "output_type": "stream",
     "text": [
      "AU AU AU\n"
     ]
    }
   ],
   "source": [
    "dogao.latido()"
   ]
  }
 ],
 "metadata": {
  "kernelspec": {
   "display_name": "Python 3",
   "language": "python",
   "name": "python3"
  },
  "language_info": {
   "codemirror_mode": {
    "name": "ipython",
    "version": 3
   },
   "file_extension": ".py",
   "mimetype": "text/x-python",
   "name": "python",
   "nbconvert_exporter": "python",
   "pygments_lexer": "ipython3",
   "version": "3.8.5"
  }
 },
 "nbformat": 4,
 "nbformat_minor": 4
}
