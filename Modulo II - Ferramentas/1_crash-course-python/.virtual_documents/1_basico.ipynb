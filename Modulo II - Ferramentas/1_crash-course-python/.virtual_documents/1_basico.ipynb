


num = input("Insira um numero:")
num = int(num) # str p/ int
if num % 2 == 0:
    print("O numero é par")
else:
    print("O numero é ímpar")





type(10)


type(10.2)





"daniboy"





int(10.98)


float('10.98')








val = 10
val


flag = True
flag


nome = "daniboy"
nome





a = b = c = 1
a


a, b, c = 1, 2, 3
c





val = 10.13
val





val = 10
val += 20
val


val *= 2
val





ent = input()
ent


ent = input("Escreva alguma coisa")
ent


idade = input("Digite sua idade: ")
idade = int(idade)
idade





print("Sua idade é igual a", idade)


print(f"Sua idade é igual {idade}")


print("Sua idade é igual a {}".format(idade))





x = 10
y = 5
z = x * y
z


x ** 2


x % 4





2 ** 3 / 3


3 + 4 / 2


(3 + 4) / 2





"Machine" + " Learning"


"A" * 3


"A" + "V" * 3





9 == 9


x = 7 != 7
x


1 >= 10 or 7.7 < 11


not True
