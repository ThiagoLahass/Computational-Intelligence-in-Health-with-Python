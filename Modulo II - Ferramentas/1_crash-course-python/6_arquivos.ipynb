{
 "cells": [
  {
   "cell_type": "markdown",
   "metadata": {},
   "source": [
    "# Trabalhando com arquivos\n",
    "- Podemos trabalhar com arquivos em Python usando algumas funções especias que veremos a seguir"
   ]
  },
  {
   "cell_type": "markdown",
   "metadata": {},
   "source": [
    "## Abrindo um arquivo\n",
    "- Para abrir um arquivo usamos a função `open()`\n",
    "- Podemos abrir com os seguinte parâmetros:\n",
    "    - `r`: Leitura. Nesse modo podemos somente ler os dados do arquivo.\n",
    "    - `w`: Escrita. Nesse modo podemos escrever/modificar os dados do arquivo.\n",
    "    - `r+`: Leitura/escrita. Nesse modo podemos ler e também escrever/modificar os dados do arquivo.\n",
    "    - `a`: Anexação. Nesse modo podemos somente adicionar novos dados no final do arquivo\n",
    "    \n",
    "    \n",
    "- Ao tentar abrir um arquivo inexistente para leitura (r), a função open gerará um erro.\n",
    "- Ao abrir um arquivo para escrita (w), seu conteúdo é primeiramente apagado. Se o arquivo não existir, um novo arquivo será criado\n",
    "- Ao tentar abrir um arquivo inexistente para leitura leitura/escrita (r+), a função open gerará um erro. Se o arquivo existir, seu conteúdo não será primeiramente apagado.\n",
    "- Ao tentar abrir um arquivo inexistente para anexação (a), um novo arquivo será criado."
   ]
  },
  {
   "cell_type": "markdown",
   "metadata": {},
   "source": [
    "### Criando um arquivo"
   ]
  },
  {
   "cell_type": "code",
   "execution_count": null,
   "metadata": {},
   "outputs": [],
   "source": [
    "arq = open(\"teste_1.txt\", 'w')"
   ]
  },
  {
   "cell_type": "markdown",
   "metadata": {},
   "source": [
    "### Escrevendo algumas linhas no arquivo"
   ]
  },
  {
   "cell_type": "code",
   "execution_count": 2,
   "metadata": {},
   "outputs": [
    {
     "data": {
      "text/plain": [
       "24"
      ]
     },
     "execution_count": 2,
     "metadata": {},
     "output_type": "execute_result"
    }
   ],
   "source": [
    "arq.write(\"Essa vai ser uma linhas\\n\")"
   ]
  },
  {
   "cell_type": "code",
   "execution_count": 3,
   "metadata": {},
   "outputs": [
    {
     "data": {
      "text/plain": [
       "21"
      ]
     },
     "execution_count": 3,
     "metadata": {},
     "output_type": "execute_result"
    }
   ],
   "source": [
    "arq.write(\"Comecando outra lina\\n\")"
   ]
  },
  {
   "cell_type": "markdown",
   "metadata": {},
   "source": [
    "### Fechando o arquivo para salvar o mesmo"
   ]
  },
  {
   "cell_type": "code",
   "execution_count": 4,
   "metadata": {},
   "outputs": [],
   "source": [
    "arq.close()"
   ]
  },
  {
   "cell_type": "markdown",
   "metadata": {},
   "source": [
    "### Agora vamos abrir o mesmo arquivo e ler essas linhas"
   ]
  },
  {
   "cell_type": "code",
   "execution_count": 6,
   "metadata": {},
   "outputs": [],
   "source": [
    "arq2 = open(\"teste_1.txt\", 'r')"
   ]
  },
  {
   "cell_type": "code",
   "execution_count": 7,
   "metadata": {},
   "outputs": [
    {
     "data": {
      "text/plain": [
       "['Essa vai ser uma linhas\\n', 'Comecando outra lina\\n']"
      ]
     },
     "execution_count": 7,
     "metadata": {},
     "output_type": "execute_result"
    }
   ],
   "source": [
    "linhas = arq2.readlines()\n",
    "linhas"
   ]
  },
  {
   "cell_type": "code",
   "execution_count": 8,
   "metadata": {},
   "outputs": [],
   "source": [
    "arq2.close()"
   ]
  }
 ],
 "metadata": {
  "kernelspec": {
   "display_name": "Python 3",
   "language": "python",
   "name": "python3"
  },
  "language_info": {
   "codemirror_mode": {
    "name": "ipython",
    "version": 3
   },
   "file_extension": ".py",
   "mimetype": "text/x-python",
   "name": "python",
   "nbconvert_exporter": "python",
   "pygments_lexer": "ipython3",
   "version": "3.8.5"
  }
 },
 "nbformat": 4,
 "nbformat_minor": 4
}
