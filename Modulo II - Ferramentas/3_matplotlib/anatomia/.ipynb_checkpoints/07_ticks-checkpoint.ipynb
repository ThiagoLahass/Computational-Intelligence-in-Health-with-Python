{
 "cells": [
  {
   "cell_type": "markdown",
   "metadata": {},
   "source": [
    "# Ticks: customizando os ticks de um plot\n",
    "- De maneira visual, ticks são definidos da seguinte forma:\n",
    "\n",
    "![](../assets/matplotlib-ticks.png)\n"
   ]
  },
  {
   "cell_type": "markdown",
   "metadata": {},
   "source": [
    "- Cada eixo possui os atributos `xaxis` e `yaxis` que contém todas as propriedades de linhas, ticks e labels\n",
    "    - Que é o que constitui um eixo\n",
    "- A biblioteca tem o conceito de Major e Minor tick mark\n",
    "    - **Major**: são normalmente maiores e que possuem um valor\n",
    "    - **Minor**: são menores, podem não aparecer e raramente possuem valores\n",
    "- Podemos customizar tanto a localização quanto o label dos ticks utilizado um `formatter` e um `locator`, respectivamente"
   ]
  },
  {
   "cell_type": "code",
   "execution_count": 15,
   "metadata": {},
   "outputs": [],
   "source": [
    "import matplotlib.pyplot as plt"
   ]
  },
  {
   "cell_type": "markdown",
   "metadata": {},
   "source": [
    "- Vamos criar uma `Figure` e um `Axes` vazio para trabalhamos o conceito de ticks"
   ]
  },
  {
   "cell_type": "code",
   "execution_count": 16,
   "metadata": {},
   "outputs": [
    {
     "data": {
      "image/png": "[encoded data removed]",
      "text/plain": [
       "<Figure size 720x360 with 1 Axes>"
      ]
     },
     "metadata": {
      "needs_background": "light"
     },
     "output_type": "display_data"
    }
   ],
   "source": [
    "fig, ax = plt.subplots(figsize=(10, 5))"
   ]
  },
  {
   "cell_type": "markdown",
   "metadata": {},
   "source": [
    "- Vamos dar uma olhada no atributo `xaxis`\n",
    "    - Tudo que fizermos para `xaxis`, vale para `yaxis`. Logo, não vamos fazer duas vezes"
   ]
  },
  {
   "cell_type": "code",
   "execution_count": 17,
   "metadata": {},
   "outputs": [
    {
     "name": "stdout",
     "output_type": "stream",
     "text": [
      "<matplotlib.ticker.AutoLocator object at 0x7f9f36fc3f70>\n",
      "<matplotlib.ticker.NullLocator object at 0x7f9f36ab3640>\n"
     ]
    }
   ],
   "source": [
    "print(ax.xaxis.get_major_locator())\n",
    "print(ax.xaxis.get_minor_locator())"
   ]
  },
  {
   "cell_type": "code",
   "execution_count": 18,
   "metadata": {},
   "outputs": [
    {
     "name": "stdout",
     "output_type": "stream",
     "text": [
      "<matplotlib.ticker.ScalarFormatter object at 0x7f9f36ab37f0>\n",
      "<matplotlib.ticker.NullFormatter object at 0x7f9f36f55100>\n"
     ]
    }
   ],
   "source": [
    "print(ax.xaxis.get_major_formatter())\n",
    "print(ax.xaxis.get_minor_formatter())"
   ]
  },
  {
   "cell_type": "markdown",
   "metadata": {},
   "source": [
    "- Perceba que onde não possui informações, nós temos a classe `NullFormatter`\n",
    "    - Isso significa que nao vai ter nada ali\n",
    "    - Eles ocorrem justamente para os Minors\n",
    "- Podemos remover todos ticks:"
   ]
  },
  {
   "cell_type": "code",
   "execution_count": 19,
   "metadata": {},
   "outputs": [
    {
     "data": {
      "image/png": "[encoded data removed]",
      "text/plain": [
       "<Figure size 720x360 with 1 Axes>"
      ]
     },
     "execution_count": 19,
     "metadata": {},
     "output_type": "execute_result"
    }
   ],
   "source": [
    "ax.xaxis.set_major_locator(plt.NullLocator())\n",
    "ax.xaxis.set_major_formatter(plt.NullFormatter())\n",
    "fig"
   ]
  },
  {
   "cell_type": "markdown",
   "metadata": {},
   "source": [
    "- Podemos reduzir ou aumentar o numeto de ticks:"
   ]
  },
  {
   "cell_type": "code",
   "execution_count": 24,
   "metadata": {},
   "outputs": [
    {
     "data": {
      "image/png": "[encoded data removed]",
      "text/plain": [
       "<Figure size 720x360 with 1 Axes>"
      ]
     },
     "execution_count": 24,
     "metadata": {},
     "output_type": "execute_result"
    }
   ],
   "source": [
    "ax.xaxis.set_major_locator(plt.MaxNLocator(10))\n",
    "ax.xaxis.set_major_formatter(plt.ScalarFormatter())\n",
    "fig"
   ]
  },
  {
   "cell_type": "markdown",
   "metadata": {},
   "source": [
    "- Podemos formatar o a string que vai para o ticker:"
   ]
  },
  {
   "cell_type": "code",
   "execution_count": 28,
   "metadata": {},
   "outputs": [
    {
     "data": {
      "image/png": "[encoded data removed]",
      "text/plain": [
       "<Figure size 720x360 with 1 Axes>"
      ]
     },
     "execution_count": 28,
     "metadata": {},
     "output_type": "execute_result"
    }
   ],
   "source": [
    "def format_tick(value, tick_number):\n",
    "    if value == 0.0:\n",
    "        return \"Inicio\"\n",
    "    elif value == 0.5:\n",
    "        return \"Meio\"\n",
    "    elif value == 1.0:\n",
    "        return \"Fim\"\n",
    "    else:\n",
    "        return round(value,2)\n",
    "    \n",
    "    \n",
    "ax.xaxis.set_major_formatter(plt.FuncFormatter(format_tick))\n",
    "fig"
   ]
  },
  {
   "cell_type": "markdown",
   "metadata": {},
   "source": [
    "- Existem vários tipos de Fomatters e Locators\n",
    "- Você encontra todos eles na [documentação dos ticks](https://matplotlib.org/stable/api/ticker_api.html)\n",
    "- O que é relevante saber é que na maioria das vezes os dois vão vim acompanhados (ou podemos tomar um warning)"
   ]
  },
  {
   "cell_type": "markdown",
   "metadata": {},
   "source": [
    "## Acessando e alterando os ticks\n",
    "- Podemos acessar um tick da seguinte forma"
   ]
  },
  {
   "cell_type": "code",
   "execution_count": 29,
   "metadata": {},
   "outputs": [
    {
     "data": {
      "text/plain": [
       "[<matplotlib.axis.XTick at 0x7f9f36e132b0>,\n",
       " <matplotlib.axis.XTick at 0x7f9f36e136d0>,\n",
       " <matplotlib.axis.XTick at 0x7f9f3702e640>,\n",
       " <matplotlib.axis.XTick at 0x7f9f36e18550>,\n",
       " <matplotlib.axis.XTick at 0x7f9f36f55af0>,\n",
       " <matplotlib.axis.XTick at 0x7f9f36f55c10>,\n",
       " <matplotlib.axis.XTick at 0x7f9f36867190>,\n",
       " <matplotlib.axis.XTick at 0x7f9f36876a00>,\n",
       " <matplotlib.axis.XTick at 0x7f9f36876070>,\n",
       " <matplotlib.axis.XTick at 0x7f9f368823a0>,\n",
       " <matplotlib.axis.XTick at 0x7f9f368828b0>]"
      ]
     },
     "execution_count": 29,
     "metadata": {},
     "output_type": "execute_result"
    }
   ],
   "source": [
    "todos_ticks = ax.xaxis.get_major_ticks()\n",
    "todos_ticks"
   ]
  },
  {
   "cell_type": "markdown",
   "metadata": {},
   "source": [
    "- Temos 10 ticks principais (na figura, de 0.0 até 1.0)\n",
    "- Na figura, teremos 2 ticks\n",
    "    - O inferior e o superior\n",
    "    - Por padrão, só o inferior vem visível\n",
    "- Nós podemos customizar cada um deles\n",
    "- O wrapper mais facil de usar para alterar os tickes é mostrado a seguir"
   ]
  },
  {
   "cell_type": "code",
   "execution_count": 30,
   "metadata": {},
   "outputs": [
    {
     "data": {
      "image/png": "[encoded data removed]",
      "text/plain": [
       "<Figure size 720x360 with 1 Axes>"
      ]
     },
     "execution_count": 30,
     "metadata": {},
     "output_type": "execute_result"
    }
   ],
   "source": [
    "ax.tick_params(axis='x', # mudanças ocorrem apenas no eixo x\n",
    "               reset=True, # resetando o valor padrão dos ticks\n",
    "               labelcolor='red', # definindo a cor dos ticks\n",
    "               labelsize=14, # definindo o tamanho da fonte\n",
    "               )\n",
    "\n",
    "fig"
   ]
  },
  {
   "cell_type": "code",
   "execution_count": 31,
   "metadata": {},
   "outputs": [
    {
     "data": {
      "image/png": "[encoded data removed]",
      "text/plain": [
       "<Figure size 720x360 with 1 Axes>"
      ]
     },
     "execution_count": 31,
     "metadata": {},
     "output_type": "execute_result"
    }
   ],
   "source": [
    "ax.tick_params(\n",
    "    axis='x',          # mudanças ocorrem apenas no eixo x\n",
    "    reset=True,        # resetando o valor padrão dos ticks\n",
    "    which='both',      # tanto majors e minors ticks são afetadosboth major and minor ticks are affected\n",
    "    labelcolor='red',  # alterando a cor\n",
    "    bottom=False,      # desligando os ticks de baixo\n",
    "    top=True,          # ligando os ticks to top\n",
    "    labeltop=True,     # ligando os labels dos ticks do top\n",
    "    labelbottom=False) # desligando os labels dos ticks do bot\n",
    "\n",
    "fig"
   ]
  }
 ],
 "metadata": {
  "kernelspec": {
   "display_name": "Python 3",
   "language": "python",
   "name": "python3"
  },
  "language_info": {
   "codemirror_mode": {
    "name": "ipython",
    "version": 3
   },
   "file_extension": ".py",
   "mimetype": "text/x-python",
   "name": "python",
   "nbconvert_exporter": "python",
   "pygments_lexer": "ipython3",
   "version": "3.8.5"
  }
 },
 "nbformat": 4,
 "nbformat_minor": 4
}
