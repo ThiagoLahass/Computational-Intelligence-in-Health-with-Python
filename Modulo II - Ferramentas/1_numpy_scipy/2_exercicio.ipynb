{
 "cells": [
  {
   "cell_type": "markdown",
   "metadata": {},
   "source": [
    "# Exercícios"
   ]
  },
  {
   "cell_type": "markdown",
   "metadata": {},
   "source": [
    "## Parte 1: vetorização\n",
    "1. Faça uma função que receba dois arrays como parâmetro e calcule o **MSE (mean squared error)** entre eles\n",
    "2. Faça uma função que receba dois arrays como parâmetro e calcule o **MAE (mean squared error)** entre eles"
   ]
  },
  {
   "cell_type": "code",
   "execution_count": null,
   "metadata": {},
   "outputs": [],
   "source": []
  },
  {
   "cell_type": "markdown",
   "metadata": {},
   "source": [
    "## Parte 2: carregando arquivos e usando a lib\n",
    "1. Dentro da pasta `dados` existe um arquivo chamado `metricas.rar`. Nesse `.rar` você encontra uma série de arquivos `.dat` que pussui resultados de diferentes métricas. Seu objetivo aqui é carregar todos esses arquivos e calcular a matriz de correlação entre as métricas.\n",
    "\n",
    "**Dicas:**\n",
    "- Você conhece a matriz de correlação? Não? Estou sugiro que leia [esse post para entender mais sobre](https://datascience.eu/pt/matematica-e-estatistica/o-que-e-uma-matriz-de-correlacao/) ou veja [este vídeo](https://www.youtube.com/watch?v=JVVBaW14s0U)\n",
    "- Não sabe o que usar na NumPy? De uma olhada na [documentação](https://numpy.org/doc/stable/reference/routines.html)"
   ]
  },
  {
   "cell_type": "code",
   "execution_count": null,
   "metadata": {},
   "outputs": [],
   "source": []
  }
 ],
 "metadata": {
  "kernelspec": {
   "display_name": "Python 3",
   "language": "python",
   "name": "python3"
  },
  "language_info": {
   "codemirror_mode": {
    "name": "ipython",
    "version": 3
   },
   "file_extension": ".py",
   "mimetype": "text/x-python",
   "name": "python",
   "nbconvert_exporter": "python",
   "pygments_lexer": "ipython3",
   "version": "3.8.5"
  }
 },
 "nbformat": 4,
 "nbformat_minor": 4
}
