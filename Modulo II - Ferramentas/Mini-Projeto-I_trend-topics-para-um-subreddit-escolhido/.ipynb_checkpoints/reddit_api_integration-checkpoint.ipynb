{
 "cells": [
  {
   "cell_type": "markdown",
   "id": "bfea92f4-5f09-4b84-a9ef-ebe36e35b461",
   "metadata": {},
   "source": [
    "### A ideia do projeto é bem simples:\n",
    "- Você deve criar uma aplicação que gera um trend topics para um subreddit escolhido\n",
    "- Seu programa deve receber como entrada:\n",
    "    - Um subreddit, por exemplo: https://www.reddit.com/r/skincancer/\n",
    "    - Uma data inicial e final\n",
    "    - Um número N de palavras para realizar o ranking\n",
    "- Seu programa deve retornar como saída:\n",
    "    - As N palavras mais comentadas do período (da maior para a menor) salvas em formato JSON\n",
    "    - Uma imagem com uma nuvem de palavras paras as mais frequentes do período (não precisa ser as N mais frequentes)\n"
   ]
  },
  {
   "cell_type": "code",
   "execution_count": 1,
   "id": "59c39d69-fddb-4f3d-b922-5d9d0c673363",
   "metadata": {},
   "outputs": [],
   "source": [
    "import praw"
   ]
  },
  {
   "cell_type": "code",
   "execution_count": null,
   "id": "ea6bbdbe",
   "metadata": {},
   "outputs": [],
   "source": []
  }
 ],
 "metadata": {
  "kernelspec": {
   "display_name": "Python 3 (ipykernel)",
   "language": "python",
   "name": "python3"
  },
  "language_info": {
   "codemirror_mode": {
    "name": "ipython",
    "version": 3
   },
   "file_extension": ".py",
   "mimetype": "text/x-python",
   "name": "python",
   "nbconvert_exporter": "python",
   "pygments_lexer": "ipython3",
   "version": "3.12.2"
  }
 },
 "nbformat": 4,
 "nbformat_minor": 5
}
