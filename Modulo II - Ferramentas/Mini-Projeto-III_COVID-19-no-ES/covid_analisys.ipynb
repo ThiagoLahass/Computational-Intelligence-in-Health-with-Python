{
 "cells": [
  {
   "cell_type": "markdown",
   "metadata": {},
   "source": [
    "# Analise dos dados de COVID-19 no estado do ES utilizando pandas e seaborn\n",
    "- Dados utilizados disponível em https://coronavirus.es.gov.br/painel-covid-19-es"
   ]
  },
  {
   "cell_type": "markdown",
   "metadata": {},
   "source": [
    "1. Listando em, ​ordem alfabética, as cidades do estado com mais de N casos de COVID-19"
   ]
  },
  {
   "cell_type": "code",
   "execution_count": 1,
   "metadata": {},
   "outputs": [],
   "source": [
    "import pandas as pd"
   ]
  },
  {
   "cell_type": "code",
   "execution_count": 11,
   "metadata": {},
   "outputs": [
    {
     "data": {
      "text/html": [
       "<div>\n",
       "<style scoped>\n",
       "    .dataframe tbody tr th:only-of-type {\n",
       "        vertical-align: middle;\n",
       "    }\n",
       "\n",
       "    .dataframe tbody tr th {\n",
       "        vertical-align: top;\n",
       "    }\n",
       "\n",
       "    .dataframe thead th {\n",
       "        text-align: right;\n",
       "    }\n",
       "</style>\n",
       "<table border=\"1\" class=\"dataframe\">\n",
       "  <thead>\n",
       "    <tr style=\"text-align: right;\">\n",
       "      <th></th>\n",
       "      <th>DataDiagnostico</th>\n",
       "      <th>Municipio</th>\n",
       "    </tr>\n",
       "  </thead>\n",
       "  <tbody>\n",
       "    <tr>\n",
       "      <th>4511603</th>\n",
       "      <td>2020-10-26</td>\n",
       "      <td>ABADIA DE GOIAS</td>\n",
       "    </tr>\n",
       "    <tr>\n",
       "      <th>4096732</th>\n",
       "      <td>2021-02-01</td>\n",
       "      <td>ABADIA DE GOIAS</td>\n",
       "    </tr>\n",
       "    <tr>\n",
       "      <th>3425308</th>\n",
       "      <td>2021-06-28</td>\n",
       "      <td>ABADIA DE GOIAS</td>\n",
       "    </tr>\n",
       "    <tr>\n",
       "      <th>3307809</th>\n",
       "      <td>2021-07-15</td>\n",
       "      <td>ABADIA DE GOIAS</td>\n",
       "    </tr>\n",
       "    <tr>\n",
       "      <th>3161157</th>\n",
       "      <td>2021-08-19</td>\n",
       "      <td>ABADIA DE GOIAS</td>\n",
       "    </tr>\n",
       "  </tbody>\n",
       "</table>\n",
       "</div>"
      ],
      "text/plain": [
       "        DataDiagnostico        Municipio\n",
       "4511603      2020-10-26  ABADIA DE GOIAS\n",
       "4096732      2021-02-01  ABADIA DE GOIAS\n",
       "3425308      2021-06-28  ABADIA DE GOIAS\n",
       "3307809      2021-07-15  ABADIA DE GOIAS\n",
       "3161157      2021-08-19  ABADIA DE GOIAS"
      ]
     },
     "execution_count": 11,
     "metadata": {},
     "output_type": "execute_result"
    }
   ],
   "source": [
    "data = pd.read_csv(\"data/COVID-ES.csv\", sep=\";\", encoding=\"latin1\", usecols=[\"Municipio\", \"DataDiagnostico\"], parse_dates=[\"DataDiagnostico\"])\n",
    "data.sort_values(by=[\"Municipio\", \"DataDiagnostico\"], ascending=True, inplace=True)\n",
    "data.dropna(how=\"all\", inplace=True)\n",
    "data.head()"
   ]
  },
  {
   "cell_type": "code",
   "execution_count": 12,
   "metadata": {},
   "outputs": [
    {
     "data": {
      "text/plain": [
       "Municipio\n",
       "SERRA                      694949\n",
       "VITORIA                    634458\n",
       "VILA VELHA                 567317\n",
       "CARIACICA                  440506\n",
       "LINHARES                   223897\n",
       "                            ...  \n",
       "PANAMBI                         1\n",
       "PARAGUACU                       1\n",
       "PARAISOPOLIS                    1\n",
       "NOVO GAMA                       1\n",
       "NOVO HORIZONTE DO NORTE         1\n",
       "Name: count, Length: 1987, dtype: int64"
      ]
     },
     "execution_count": 12,
     "metadata": {},
     "output_type": "execute_result"
    }
   ],
   "source": [
    "cities_count = data[\"Municipio\"].value_counts()\n",
    "cities_count"
   ]
  },
  {
   "cell_type": "code",
   "execution_count": 13,
   "metadata": {},
   "outputs": [
    {
     "data": {
      "text/plain": [
       "Municipio\n",
       "SERRA                      694949\n",
       "VITORIA                    634458\n",
       "VILA VELHA                 567317\n",
       "CARIACICA                  440506\n",
       "LINHARES                   223897\n",
       "CACHOEIRO DE ITAPEMIRIM    209549\n",
       "SAO MATEUS                 168711\n",
       "COLATINA                   161823\n",
       "ARACRUZ                    149699\n",
       "GUARAPARI                  117297\n",
       "VIANA                       85598\n",
       "NOVA VENECIA                59065\n",
       "SAO GABRIEL DA PALHA        57247\n",
       "CASTELO                     53239\n",
       "SANTA TERESA                51888\n",
       "Name: count, dtype: int64"
      ]
     },
     "execution_count": 13,
     "metadata": {},
     "output_type": "execute_result"
    }
   ],
   "source": [
    "N = 50000\n",
    "mask_cut_value = cities_count > N\n",
    "more_than_n_cases_cities = cities_count[mask_cut_value]\n",
    "more_than_n_cases_cities"
   ]
  },
  {
   "cell_type": "code",
   "execution_count": 14,
   "metadata": {},
   "outputs": [
    {
     "data": {
      "text/plain": [
       "Municipio\n",
       "ARACRUZ                    149699\n",
       "CACHOEIRO DE ITAPEMIRIM    209549\n",
       "CARIACICA                  440506\n",
       "CASTELO                     53239\n",
       "COLATINA                   161823\n",
       "GUARAPARI                  117297\n",
       "LINHARES                   223897\n",
       "NOVA VENECIA                59065\n",
       "SANTA TERESA                51888\n",
       "SAO GABRIEL DA PALHA        57247\n",
       "SAO MATEUS                 168711\n",
       "SERRA                      694949\n",
       "VIANA                       85598\n",
       "VILA VELHA                 567317\n",
       "VITORIA                    634458\n",
       "Name: count, dtype: int64"
      ]
     },
     "execution_count": 14,
     "metadata": {},
     "output_type": "execute_result"
    }
   ],
   "source": [
    "more_than_n_cases_cities.sort_index(inplace=True)\n",
    "more_than_n_cases_cities"
   ]
  },
  {
   "cell_type": "markdown",
   "metadata": {},
   "source": [
    "2. Determinando quantos casos de Covid-19 foram diagnosticados entre as datas d1 e d2, na qual d1 será sempre menor que d2"
   ]
  },
  {
   "cell_type": "code",
   "execution_count": 33,
   "metadata": {},
   "outputs": [
    {
     "data": {
      "text/plain": [
       "8256"
      ]
     },
     "execution_count": 33,
     "metadata": {},
     "output_type": "execute_result"
    }
   ],
   "source": [
    "d1 = \"2024-01-01\"\n",
    "d2 = \"2024-01-30\"\n",
    "mask_between_date = data[\"DataDiagnostico\"].between(d1, d2)\n",
    "between_cases = data[mask_between_date]\n",
    "len(between_cases.index)"
   ]
  },
  {
   "cell_type": "markdown",
   "metadata": {},
   "source": [
    "3. Listando as cidades top N de casos de covid entre a data d1 e d2, na qual d1 será sempre menor que d2. A saída deverá ser ordenada em ordem decrescente por número de casos"
   ]
  },
  {
   "cell_type": "code",
   "execution_count": 40,
   "metadata": {},
   "outputs": [
    {
     "data": {
      "text/plain": [
       "Municipio\n",
       "VITORIA                    1670\n",
       "VILA VELHA                 1166\n",
       "SERRA                       853\n",
       "SAO MATEUS                  661\n",
       "CARIACICA                   467\n",
       "COLATINA                    321\n",
       "GUARAPARI                   274\n",
       "CACHOEIRO DE ITAPEMIRIM     244\n",
       "SAO GABRIEL DA PALHA        176\n",
       "PEDRO CANARIO               141\n",
       "ECOPORANGA                  114\n",
       "BARRA DE SAO FRANCISCO      113\n",
       "CONCEICAO DA BARRA          112\n",
       "CASTELO                     104\n",
       "Name: count, dtype: int64"
      ]
     },
     "execution_count": 40,
     "metadata": {},
     "output_type": "execute_result"
    }
   ],
   "source": [
    "between_cases\n",
    "cities_count = between_cases[\"Municipio\"].value_counts()\n",
    "N = 100\n",
    "mask_cut_value = cities_count > N\n",
    "more_than_n_cases_cities = cities_count[mask_cut_value]\n",
    "more_than_n_cases_cities.sort_values(ascending=False)"
   ]
  },
  {
   "cell_type": "markdown",
   "metadata": {},
   "source": [
    "4. Determinando a % de pessoas confirmadas que ficaram internadas, % de pessoas que morreram e a % de pessoas internadas que morreram, de um dado município ou de todas as cidades."
   ]
  },
  {
   "cell_type": "code",
   "execution_count": null,
   "metadata": {},
   "outputs": [],
   "source": []
  },
  {
   "cell_type": "markdown",
   "metadata": {},
   "source": [
    "5. Determinando a média e desvio padrão da idade das pessoas que morreram e a % de pessoas que morreram e não possuíam nenhuma comorbidade​ entre a data d1 e d2 na qual d1 será sempre menor que d2."
   ]
  },
  {
   "cell_type": "code",
   "execution_count": null,
   "metadata": {},
   "outputs": [],
   "source": []
  },
  {
   "cell_type": "markdown",
   "metadata": {},
   "source": [
    "## Visualização"
   ]
  },
  {
   "cell_type": "markdown",
   "metadata": {},
   "source": [
    "1. Fazendo um gráfico que mostre a evolução de casos e mortes de covid para uma cidade C"
   ]
  },
  {
   "cell_type": "code",
   "execution_count": null,
   "metadata": {},
   "outputs": [],
   "source": []
  },
  {
   "cell_type": "markdown",
   "metadata": {},
   "source": [
    "2. Fazendo um gráfico que mostre a dispersão de número de casos por idade dados um grupo de cidades"
   ]
  },
  {
   "cell_type": "code",
   "execution_count": null,
   "metadata": {},
   "outputs": [],
   "source": []
  },
  {
   "cell_type": "markdown",
   "metadata": {},
   "source": [
    "3. Fazendo um ou mais gráfico que mostre a variação de casos dado grupo de cidades"
   ]
  },
  {
   "cell_type": "code",
   "execution_count": null,
   "metadata": {},
   "outputs": [],
   "source": []
  },
  {
   "cell_type": "markdown",
   "metadata": {},
   "source": [
    "4. Fazendo um ou mais gráficos que mostre o ranking the casos dado um grupo de cidades"
   ]
  },
  {
   "cell_type": "code",
   "execution_count": null,
   "metadata": {},
   "outputs": [],
   "source": []
  },
  {
   "cell_type": "markdown",
   "metadata": {},
   "source": [
    "5. Tópico criativo: crie um gráfico que você ache interessante e que não foi listado nos 4 itens anteriores"
   ]
  },
  {
   "cell_type": "code",
   "execution_count": null,
   "metadata": {},
   "outputs": [],
   "source": []
  }
 ],
 "metadata": {
  "kernelspec": {
   "display_name": "mycondaenv",
   "language": "python",
   "name": "python3"
  },
  "language_info": {
   "codemirror_mode": {
    "name": "ipython",
    "version": 3
   },
   "file_extension": ".py",
   "mimetype": "text/x-python",
   "name": "python",
   "nbconvert_exporter": "python",
   "pygments_lexer": "ipython3",
   "version": "3.12.2"
  }
 },
 "nbformat": 4,
 "nbformat_minor": 2
}
