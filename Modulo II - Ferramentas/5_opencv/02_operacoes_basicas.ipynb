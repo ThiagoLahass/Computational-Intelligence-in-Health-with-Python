{
 "cells": [
  {
   "cell_type": "markdown",
   "metadata": {},
   "source": [
    "# Operações básicas com imagens\n",
    "- Agora que já vimos como carregar as imagens em um arquivo `.py`, vamos continuar explorando o opencv usando notebooks pra ficar mais fácil meclar texto e código\n",
    "    - Para isso vamos plotar os resultados usando matplotlib\n",
    "    - Todavia, você pode replicar usando `.py` tranquilamente"
   ]
  },
  {
   "cell_type": "code",
   "execution_count": null,
   "metadata": {},
   "outputs": [],
   "source": [
    "import cv2\n",
    "import numpy as np\n",
    "import matplotlib.pyplot as plt"
   ]
  },
  {
   "cell_type": "markdown",
   "metadata": {},
   "source": [
    "## Convertendo espaço de cor\n",
    "- Apesar de que não vamos explorar a fundo outros espaçoes de cor, é interessante saber que a biblioteca oferece centenas de opções"
   ]
  },
  {
   "cell_type": "code",
   "execution_count": null,
   "metadata": {},
   "outputs": [],
   "source": [
    "print([x for x in dir(cv2) if x.startswith('COLOR_')])"
   ]
  },
  {
   "cell_type": "markdown",
   "metadata": {},
   "source": [
    "- Vamos focar no RGB, HSV e GRAY\n",
    "- Então vamos carregar nossa imagem exemplo e trabalhar nela"
   ]
  },
  {
   "cell_type": "code",
   "execution_count": null,
   "metadata": {},
   "outputs": [],
   "source": [
    "img_goku = cv2.imread(\"assets/goku.png\", cv2.IMREAD_COLOR)\n",
    "img_goku = cv2.cvtColor(img_goku, cv2.COLOR_BGR2RGB)\n",
    "plt.imshow(img_goku)"
   ]
  },
  {
   "cell_type": "markdown",
   "metadata": {},
   "source": [
    "- Vamos converter para níveis de cinza"
   ]
  },
  {
   "cell_type": "code",
   "execution_count": null,
   "metadata": {},
   "outputs": [],
   "source": [
    "img_goku_gray = cv2.cvtColor(img_goku, cv2.COLOR_RGB2GRAY)\n",
    "plt.imshow(img_goku_gray, cmap='gray')"
   ]
  },
  {
   "cell_type": "markdown",
   "metadata": {},
   "source": [
    "- Como seria essa transformação de tons de cinza?\n",
    "    - É basicamente uma agregação entre os 3 canais de cor\n",
    "    - Por exemplo, uma média"
   ]
  },
  {
   "cell_type": "code",
   "execution_count": null,
   "metadata": {},
   "outputs": [],
   "source": [
    "img_goku[0,0,:]"
   ]
  },
  {
   "cell_type": "code",
   "execution_count": null,
   "metadata": {},
   "outputs": [],
   "source": [
    "img_goku_gray[0,0]"
   ]
  },
  {
   "cell_type": "markdown",
   "metadata": {},
   "source": [
    "- Podemos fazer isso manualmente, modificando o peso de cada cor\n",
    "- Primeiro, vamos verificar a intensidade de contribuição de cada canal"
   ]
  },
  {
   "cell_type": "code",
   "execution_count": null,
   "metadata": {},
   "outputs": [],
   "source": [
    "plt.imshow(img_goku[:, :, 0], cmap='gray')"
   ]
  },
  {
   "cell_type": "markdown",
   "metadata": {},
   "source": [
    "- Alternativamente, poderiamos usar o método `split()`"
   ]
  },
  {
   "cell_type": "code",
   "execution_count": null,
   "metadata": {},
   "outputs": [],
   "source": [
    "r, g, b = cv2.split(img_goku)\n",
    "plt.imshow(r, cmap='gray')"
   ]
  },
  {
   "cell_type": "markdown",
   "metadata": {},
   "source": [
    "- Agora vamos fazer a agregação"
   ]
  },
  {
   "cell_type": "code",
   "execution_count": null,
   "metadata": {},
   "outputs": [],
   "source": [
    "img_goku_gray_2 = 0.8 * img_goku[:, :, 0] + 0.1 * img_goku[:, :, 1] + 0. * img_goku[:, :, 2]\n",
    "plt.imshow(img_goku_gray_2, cmap='gray')"
   ]
  },
  {
   "cell_type": "markdown",
   "metadata": {},
   "source": [
    "- Podemos fazer a conversão pra outro espaço de cor, no caso HSV (Hue, Saturation, Value)"
   ]
  },
  {
   "cell_type": "code",
   "execution_count": null,
   "metadata": {},
   "outputs": [],
   "source": [
    "img_goku_hsv = cv2.cvtColor(img_goku, cv2.COLOR_RGB2HSV)\n",
    "plt.imshow(img_goku_hsv)"
   ]
  },
  {
   "cell_type": "markdown",
   "metadata": {},
   "source": [
    "- Podemos dar uma olhada em como fica cada canal"
   ]
  },
  {
   "cell_type": "code",
   "execution_count": null,
   "metadata": {},
   "outputs": [],
   "source": [
    "plt.imshow(img_goku_hsv[:, :, 2], cmap='gray')"
   ]
  },
  {
   "cell_type": "markdown",
   "metadata": {},
   "source": [
    "- Podemos fazer um combinação de canais dois tipos de espaço de cor"
   ]
  },
  {
   "cell_type": "code",
   "execution_count": null,
   "metadata": {},
   "outputs": [],
   "source": [
    "r, g, b = cv2.split(img_goku)\n",
    "h, s, v = cv2.split(img_goku_hsv)\n",
    "new_img = cv2.merge((b, b, v))\n",
    "plt.imshow(new_img)"
   ]
  },
  {
   "cell_type": "markdown",
   "metadata": {},
   "source": [
    "# Redimensionando uma imagem\n",
    "- Uma operação muito comum é redimensionar imagens\n",
    "    - Duas opções: aumentar ou diminuir resolução\n",
    "- Para ambos os casos, existem diversos algoritmos para obter o resultado final\n",
    "    - Basicamente, precisamos olhar para os pixels vizinhos para agregar (diminuir) ou preencher (aumenar) os novos pixels\n",
    "    \n",
    "![](assets/scaling.png)\n",
    "\n",
    "\n",
    "- A biblioteca possui o método `resize()` para aplicar a operação"
   ]
  },
  {
   "cell_type": "code",
   "execution_count": null,
   "metadata": {},
   "outputs": [],
   "source": [
    "img_vi = cv2.cvtColor(cv2.imread(\"assets/vi.jpg\"), cv2.COLOR_BGR2RGB)\n",
    "plt.imshow(img_vi)"
   ]
  },
  {
   "cell_type": "markdown",
   "metadata": {},
   "source": [
    "- Vamos usar a o método passando uma dimensão desejada e um método de interpolação"
   ]
  },
  {
   "cell_type": "code",
   "execution_count": null,
   "metadata": {},
   "outputs": [],
   "source": [
    "img_vi_res = cv2.resize(img_vi, (350, 250), interpolation=cv2.INTER_AREA)\n",
    "plt.imshow(img_vi_res)"
   ]
  },
  {
   "cell_type": "markdown",
   "metadata": {},
   "source": [
    "- Outra opção é passar o fator de resolução em cada eixo"
   ]
  },
  {
   "cell_type": "code",
   "execution_count": null,
   "metadata": {},
   "outputs": [],
   "source": [
    "img_vi_res = cv2.resize(img_vi, None, fx=0.25, fy=0.25, interpolation=cv2.INTER_AREA)\n",
    "plt.imshow(img_vi_res)"
   ]
  },
  {
   "cell_type": "markdown",
   "metadata": {},
   "source": [
    "- Existem diversos tipos de interpolação, com vantagens e desvantagens\n",
    "    - Ex: `INTER_LINEAR`, `INTER_CUBIC`\n",
    "- Normalmente, para ampliar uma imagem, é desejavel usar `INTER_LINEAR` ou `INTER_CUBIC` e para diminuir `INTER_AREA`\n",
    "    - A cubica oferece um resultado melhor, mas é mais demorada"
   ]
  },
  {
   "cell_type": "code",
   "execution_count": null,
   "metadata": {},
   "outputs": [],
   "source": [
    "img_vi_res = cv2.resize(img_vi, None, fx=1.25, fy=1.25, interpolation=cv2.INTER_CUBIC)\n",
    "plt.imshow(img_vi_res)"
   ]
  },
  {
   "cell_type": "markdown",
   "metadata": {},
   "source": [
    "- Podemos fazer uma função para fazer redimensionamento a partir de uma valor de escala"
   ]
  },
  {
   "cell_type": "code",
   "execution_count": null,
   "metadata": {},
   "outputs": [],
   "source": [
    "def redimensiona_img(img, scale=0.5):\n",
    "    height = int(img.shape[0] * scale)\n",
    "    width = int(img.shape[1] * scale)\n",
    "    return cv2.resize(img, (width, height), interpolation=cv2.INTER_AREA)"
   ]
  },
  {
   "cell_type": "code",
   "execution_count": null,
   "metadata": {},
   "outputs": [],
   "source": [
    "plt.imshow(redimensiona_img(img_vi, 0.25))"
   ]
  },
  {
   "cell_type": "markdown",
   "metadata": {},
   "source": [
    "## Transformações em uma imagem (*image transformation*)\n",
    "- OpenCV oferece o método `warpAffine()` para realização de [*warping*](https://en.wikipedia.org/wiki/Image_warping)\n",
    "    - Translação, Rotação, etc\n",
    "    - Não vamos entrar a fundo em Transformações Afins (*affine transformations*) e Euclideanas\n",
    "    - [Material complementar](https://www.cis.rit.edu/class/simg782/lectures/lecture_02/lec782_05_02.pdf)\n",
    "    \n",
    "### Translação\n",
    "- É basicamente o deslocamento da localização da imagem ao adicionar ou subtrair das coordenadas `x` e `y`\n",
    "- Para isso, precisamos de uma matriz de transformação:\n",
    "\n",
    "$$\n",
    "\\begin{bmatrix}\n",
    "1 & 0 & t_x \\\\\n",
    "0 & 1 & t_y\n",
    "\\end{bmatrix}\n",
    "$$\n",
    "\n",
    "- Precisamos determinas os valores de $t_x$ e $t_y$ que vão transladar a imagem de acordo com os valores informados\n",
    "- As direções são as seguintes:\n",
    "    - $t_x < 0$: vai para esquerda\n",
    "    - $t_x > 0$: vai para direita\n",
    "    - $t_y < 0$: vai para cima\n",
    "    - $t_y > 0$: vai para baixo"
   ]
  },
  {
   "cell_type": "code",
   "execution_count": null,
   "metadata": {},
   "outputs": [],
   "source": [
    "def translate_img(img, tx, ty):\n",
    "    height, width = img.shape[0], img.shape[1]\n",
    "    T = np.array([\n",
    "        [1, 0, tx],\n",
    "        [0, 1, ty]\n",
    "    ], dtype=np.float32)\n",
    "    new_img = cv2.warpAffine(img, # imagem original\n",
    "                             T, # matriz de transformação linear\n",
    "                             (width, height) # dimensão da nova imagem\n",
    "                            )\n",
    "    return new_img"
   ]
  },
  {
   "cell_type": "code",
   "execution_count": null,
   "metadata": {},
   "outputs": [],
   "source": [
    "img_vi_res = cv2.resize(img_vi, None, fx=0.25, fy=0.25, interpolation=cv2.INTER_AREA)"
   ]
  },
  {
   "cell_type": "code",
   "execution_count": null,
   "metadata": {},
   "outputs": [],
   "source": [
    "trans_vi = translate_img(img_vi_res, -100, -100)\n",
    "plt.imshow(trans_vi)"
   ]
  },
  {
   "cell_type": "markdown",
   "metadata": {},
   "source": [
    "### Rotação\n",
    "- A intenção aqui é fazer uma rotação dado um angulo $\\theta$\n",
    "- Isso também é feito através de uma matriz de transformação linear. Neste caso, uma matriz de rotação:\n",
    "\n",
    "$$MR = \n",
    "\\begin{bmatrix}\n",
    "   cos\\theta & -sin\\theta \\\\\n",
    "   sin\\theta & cos\\theta\n",
    "\\end{bmatrix}\n",
    "$$\n",
    "\n",
    "- Porém, o OpenCV oferece uma opção de rotação com ajuste de centralização e *scale*, o que resulta na seguinte matriz:\n",
    "\n",
    "$$MR = \n",
    "\\begin{bmatrix}\n",
    "   \\alpha & \\beta & (1-\\alpha).c.x - \\beta.c.y\\\\\n",
    "   -\\beta & \\alpha & \\beta.c.x + (1-\\alpha).c.y   \n",
    "\\end{bmatrix}\n",
    "$$\n",
    "\n",
    "Na qual $c$ é o centro e $\\alpha = scale.cos\\theta$ e $\\beta = scale.sin\\theta$\n",
    "\n",
    "- Para obter essa matriz, a biblioteca nos fornece o método `getRotationMatrix2D()`\n",
    "    - Ele recebe o centro da rotação, o angulo e a escala\n",
    "    - O algulo rotaciona em sentido anti-horario"
   ]
  },
  {
   "cell_type": "code",
   "execution_count": null,
   "metadata": {},
   "outputs": [],
   "source": [
    "def rotate_img(img, angle, scale=1.0, rot_pos=None):\n",
    "    height, width = img.shape[0], img.shape[1]\n",
    "    \n",
    "    # Neste caso, centro de rotação vai ser o centro da imagem\n",
    "    if rot_pos is None:\n",
    "        rot_pos = (width//2, height//2)\n",
    "    \n",
    "    rot_matrix = cv2.getRotationMatrix2D(rot_pos, angle, scale)\n",
    "    \n",
    "    img_rot = cv2.warpAffine(img, # imagem original\n",
    "                             rot_matrix, # matriz de transformação linear\n",
    "                             (width, height) # dimensão da nova imagem\n",
    "                            )\n",
    "    return img_rot"
   ]
  },
  {
   "cell_type": "code",
   "execution_count": null,
   "metadata": {},
   "outputs": [],
   "source": [
    "rot_vi = rotate_img(img_vi_res, 45)\n",
    "plt.imshow(rot_vi)"
   ]
  },
  {
   "cell_type": "markdown",
   "metadata": {},
   "source": [
    "- A biblioteca também oferece o método `flip()` para executar rotações\n",
    "    - `0`: inverte a imagem na vertical\n",
    "    - `1`: inverte na horizontal\n",
    "    - `-1`: faz as duas operações acima"
   ]
  },
  {
   "cell_type": "code",
   "execution_count": null,
   "metadata": {},
   "outputs": [],
   "source": [
    "flip_vi = cv2.flip(img_vi_res, -1)\n",
    "plt.imshow(flip_vi)"
   ]
  },
  {
   "cell_type": "markdown",
   "metadata": {},
   "source": [
    "- **Tip:**: podemos fazer um crop na imagem usando apenas numpy"
   ]
  },
  {
   "cell_type": "code",
   "execution_count": null,
   "metadata": {},
   "outputs": [],
   "source": [
    "crop_vi = img_vi_res[100:300, 200:600, :]\n",
    "plt.imshow(crop_vi)"
   ]
  },
  {
   "cell_type": "markdown",
   "metadata": {},
   "source": [
    "___\n",
    "## Exercício\n",
    "- Pegue uma imagem, rotacione ela e retorne um centro dela cropado de acordo com as posições que usuário indicar\n",
    "___"
   ]
  }
 ],
 "metadata": {
  "kernelspec": {
   "display_name": "Python 3 (ipykernel)",
   "language": "python",
   "name": "python3"
  },
  "language_info": {
   "codemirror_mode": {
    "name": "ipython",
    "version": 3
   },
   "file_extension": ".py",
   "mimetype": "text/x-python",
   "name": "python",
   "nbconvert_exporter": "python",
   "pygments_lexer": "ipython3",
   "version": "3.10.4"
  }
 },
 "nbformat": 4,
 "nbformat_minor": 4
}
