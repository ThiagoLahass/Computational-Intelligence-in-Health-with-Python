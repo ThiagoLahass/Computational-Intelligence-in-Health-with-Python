{
 "cells": [
  {
   "cell_type": "markdown",
   "metadata": {},
   "source": [
    "# Representação de uma imagem, espaço de cor e carregar imagens\n",
    "- Uma imagem nada mais é do que um grupo de matrizes 2D (normalmente, 3) que representa algum espaço de cor\n",
    "- Um **espaço de cor** nada mais é do que um padrão que organiza como as cores são representadas\n",
    "- O padrão mais utilizado é o RGB (red, green, blue)\n",
    "    - Nesse padrão, cada pixel possui 3 valores que representam a intensidade de cada uma 3 cores fundamentais\n",
    "    - A intensidade normalmente vai de 0 a 255, mas pode ser normalizado para 0 a 1\n",
    "     \n",
    "    \n",
    "    \n",
    "![](assets/img.png)\n",
    "    \n",
    "    \n",
    "- Com essas 3 cores primárias, podemos chegar em \"todas\" as outras  \n",
    "\n",
    "![](assets/cores.png)\n",
    "\n",
    "\n",
    "    \n",
    "- Existem diversos outros espaços de cores, mas não minha intenção discutir todos eles aqui\n",
    "    - Saiba mais [neste tutorial](https://www.mathworks.com/help/images/understanding-color-spaces-and-color-space-conversion.html#:~:text=through%20mathematical%20transformations.-,RGB,from%20%5B0%2C%201%5D.)\n",
    "    \n",
    "    \n",
    "___\n",
    "- Também podemos representar uma imagem níveis de cinza\n",
    "    - Neste caso, temos uma matriz 2D na qual cada valor representa um nível de cinza do pixel\n",
    "    - Mesma ideia do RGB, [0-255] ou [0-1]"
   ]
  },
  {
   "cell_type": "code",
   "execution_count": null,
   "metadata": {},
   "outputs": [],
   "source": [
    "import numpy as np\n",
    "import matplotlib.pyplot as plt\n",
    "import cv2"
   ]
  },
  {
   "cell_type": "markdown",
   "metadata": {},
   "source": [
    "# Criando imagens\n",
    "- Podemos criar uma imagem de 500 x 500 pixels em níveis de cinza\n",
    "- Vamos usar numpy para criar um array aleatória\n",
    "- E vamos plotar usando matplotlib"
   ]
  },
  {
   "cell_type": "code",
   "execution_count": null,
   "metadata": {},
   "outputs": [],
   "source": [
    "img = np.random.randint(0, 255, (500, 500))\n",
    "ax = plt.imshow(img, cmap=\"gray\")"
   ]
  },
  {
   "cell_type": "markdown",
   "metadata": {},
   "source": [
    "- Podemos transformar essa imagem em colorida apenas adicionando mais dois canais para representar as intensidades de Red, Green e Blue"
   ]
  },
  {
   "cell_type": "code",
   "execution_count": null,
   "metadata": {},
   "outputs": [],
   "source": [
    "img = np.random.randint(0, 255, (500, 500, 3))\n",
    "plt.imshow(img)"
   ]
  },
  {
   "cell_type": "markdown",
   "metadata": {},
   "source": [
    "- Uma com todos os pixels igual a `red=0`, `green=0` e `blue=0`, assume valor preto (ausência de cor)"
   ]
  },
  {
   "cell_type": "code",
   "execution_count": null,
   "metadata": {},
   "outputs": [],
   "source": [
    "img = np.zeros((500, 500, 3))\n",
    "plt.imshow(img)"
   ]
  },
  {
   "cell_type": "markdown",
   "metadata": {},
   "source": [
    "- Uma com todos os pixels igual a `red=255`, `green=255` e `blue=255`, assume valor branco (união de todas as cores)\n",
    "    - No caso de normalizado, todos os valores assume 1"
   ]
  },
  {
   "cell_type": "code",
   "execution_count": null,
   "metadata": {},
   "outputs": [],
   "source": [
    "img = np.ones((500, 500, 3))\n",
    "plt.imshow(img)"
   ]
  },
  {
   "cell_type": "markdown",
   "metadata": {},
   "source": [
    "- Se temos os 3 valores com mesmo valor (diferente de 0 ou 1), teremos um tom de cinza"
   ]
  },
  {
   "cell_type": "code",
   "execution_count": null,
   "metadata": {},
   "outputs": [],
   "source": [
    "img = np.ones((500, 500, 3)) * 0.5\n",
    "plt.imshow(img)"
   ]
  },
  {
   "cell_type": "markdown",
   "metadata": {},
   "source": [
    "- Se setarmos apenas um canal como 255 (ou 1), teremos a cor daquele canal"
   ]
  },
  {
   "cell_type": "code",
   "execution_count": null,
   "metadata": {},
   "outputs": [],
   "source": [
    "img = np.stack([np.ones((500, 500)), np.zeros((500, 500)), np.zeros((500, 500))], axis=2)\n",
    "plt.imshow(img)"
   ]
  },
  {
   "cell_type": "markdown",
   "metadata": {},
   "source": [
    "# Carregando uma imagem com opencv\n",
    "- Para carregar uma imagem com opencv utilizamos o método `imread()`\n",
    "    - Esse método recebe o caminho completo até a imagem\n",
    "    - E nos devolve um `np.ndarray`"
   ]
  },
  {
   "cell_type": "code",
   "execution_count": null,
   "metadata": {},
   "outputs": [],
   "source": [
    "goku_img = cv2.imread(\"assets/goku.png\")\n",
    "type(goku_img)"
   ]
  },
  {
   "cell_type": "code",
   "execution_count": null,
   "metadata": {},
   "outputs": [],
   "source": [
    "goku_img.shape"
   ]
  },
  {
   "cell_type": "markdown",
   "metadata": {},
   "source": [
    "- Podemos plotar ela usando matplotlib"
   ]
  },
  {
   "cell_type": "code",
   "execution_count": null,
   "metadata": {},
   "outputs": [],
   "source": [
    "plt.imshow(goku_img)"
   ]
  },
  {
   "cell_type": "markdown",
   "metadata": {},
   "source": [
    "- Mas espera, tem algo de estranho nessa imagem. Goku está da cor do Caos :o\n",
    "- Acontece, que por [razões históricas](https://learnopencv.com/why-does-opencv-use-bgr-color-format/#:~:text=Why%20did%20they%20choose%20BGR,use%20the%20BGR%20format%200x00bbggrr.), o OpenCV mantém o padrão BGR ao invés de RGB\n",
    "- Portanto, os canais R e B estão invertidos\n",
    "- Podemos realizar uma conversão de maneira fácil usando o método `cvtColor()`"
   ]
  },
  {
   "cell_type": "code",
   "execution_count": null,
   "metadata": {},
   "outputs": [],
   "source": [
    "goku_img = cv2.cvtColor(goku_img, cv2.COLOR_BGR2RGB)\n",
    "plt.imshow(goku_img)"
   ]
  },
  {
   "cell_type": "markdown",
   "metadata": {},
   "source": [
    "- Agora sim, Goku está apto para salvar a humanidade novamente"
   ]
  },
  {
   "cell_type": "markdown",
   "metadata": {},
   "source": [
    "# Exercício\n",
    "- Converta o formato BGR para RGB sem usar OpenCV, apenas NumPy"
   ]
  }
 ],
 "metadata": {
  "kernelspec": {
   "display_name": "Python 3 (ipykernel)",
   "language": "python",
   "name": "python3"
  },
  "language_info": {
   "codemirror_mode": {
    "name": "ipython",
    "version": 3
   },
   "file_extension": ".py",
   "mimetype": "text/x-python",
   "name": "python",
   "nbconvert_exporter": "python",
   "pygments_lexer": "ipython3",
   "version": "3.10.4"
  }
 },
 "nbformat": 4,
 "nbformat_minor": 4
}
