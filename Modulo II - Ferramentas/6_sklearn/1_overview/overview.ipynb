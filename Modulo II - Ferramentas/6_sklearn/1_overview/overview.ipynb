{
 "cells": [
  {
   "cell_type": "markdown",
   "metadata": {},
   "source": [
    "# Visão geral da biblioteca `sklearn`\n",
    "Esse notebook faz parte do material de apoio do tutorial [Introdução ao Scikit-learn - Parte 1: uma visão geral](http://computacaointeligente.com.br/outros/intro-sklearn-part-2/)\n",
    "\n",
    "**Observação:** os dados e funções neste notebook servem apenas para exemplificar os módulos da biblioteca"
   ]
  },
  {
   "cell_type": "markdown",
   "metadata": {},
   "source": [
    "## Estimadores básicos"
   ]
  },
  {
   "cell_type": "code",
   "execution_count": 2,
   "metadata": {},
   "outputs": [
    {
     "name": "stderr",
     "output_type": "stream",
     "text": [
      "/home/thiago_lahass/miniconda3/envs/mycondaenv/lib/python3.12/site-packages/sklearn/neural_network/_multilayer_perceptron.py:691: ConvergenceWarning: Stochastic Optimizer: Maximum iterations (200) reached and the optimization hasn't converged yet.\n",
      "  warnings.warn(\n"
     ]
    }
   ],
   "source": [
    "from sklearn.neural_network import MLPClassifier\n",
    "mlp = MLPClassifier()\n",
    "X = [[1, 2, 3, 4],  # Entrada com 3 amostras de 4 atributos\n",
    "     [4, 5, 6, 7],  \n",
    "     [7, 8, 9, 8]]\n",
    "y = [0, 1, 1] # Uma saída para cada amostra\n",
    "\n",
    "mlp.fit(X, y)\n",
    "\n",
    "X_teste = [[1, 6, 3, 1],  # Teste com 2 amostras\n",
    "           [4, 2, 4, 9]]\n",
    "y_pred = mlp.predict(X_teste) # y_pred será um array com duas predições, ex: [1, 0] "
   ]
  },
  {
   "cell_type": "markdown",
   "metadata": {},
   "source": [
    "## Pré-processamento e transformadores"
   ]
  },
  {
   "cell_type": "code",
   "execution_count": 3,
   "metadata": {},
   "outputs": [
    {
     "name": "stdout",
     "output_type": "stream",
     "text": [
      "Dados originais:\n",
      "[[1, 6, 3, 1], [4, 2, 4, 9]]\n",
      "\n",
      "Dados normalizados:\n",
      "[[0.14285714 0.75       0.33333333 0.125     ]\n",
      " [0.57142857 0.25       0.44444444 1.125     ]]\n"
     ]
    }
   ],
   "source": [
    "from sklearn.preprocessing import MaxAbsScaler\n",
    "normalizador = MaxAbsScaler()\n",
    "X = [[1, 2, 3, 4],  # Entrada com 3 amostras de 4 atributos\n",
    "     [4, 5, 6, 7],  \n",
    "     [7, 8, 9, 8]]\n",
    "normalizador.fit(X) # Calcula o max de cada atributo\n",
    "X_teste = [[1, 6, 3, 1],\n",
    "           [4, 2, 4, 9]]\n",
    "X_teste_norm = normalizador.transform(X_teste) # normaliza X_teste de acordo com X\n",
    "print(\"Dados originais:\")\n",
    "print(X_teste)\n",
    "print(\"\\nDados normalizados:\")\n",
    "print(X_teste_norm)"
   ]
  },
  {
   "cell_type": "markdown",
   "metadata": {},
   "source": [
    "## Avaliação de modelos"
   ]
  },
  {
   "cell_type": "code",
   "execution_count": 4,
   "metadata": {},
   "outputs": [
    {
     "name": "stdout",
     "output_type": "stream",
     "text": [
      "Acuracia: 0.75\n",
      "Acurácia balanceada: 0.75\n"
     ]
    }
   ],
   "source": [
    "from sklearn.metrics import accuracy_score, balanced_accuracy_score\n",
    "y = [1, 0, 1, 0]\n",
    "y_pred = [0, 0, 1, 0]\n",
    "print(f\"Acuracia: {accuracy_score(y, y_pred)}\")\n",
    "print(f\"Acurácia balanceada: {balanced_accuracy_score(y, y_pred)}\")"
   ]
  },
  {
   "cell_type": "markdown",
   "metadata": {},
   "source": [
    "## Pipelines"
   ]
  },
  {
   "cell_type": "code",
   "execution_count": 5,
   "metadata": {},
   "outputs": [
    {
     "name": "stdout",
     "output_type": "stream",
     "text": [
      "Acuracia: 1.0\n",
      "Acurácia balanceada: 1.0\n"
     ]
    },
    {
     "name": "stderr",
     "output_type": "stream",
     "text": [
      "/home/thiago_lahass/miniconda3/envs/mycondaenv/lib/python3.12/site-packages/sklearn/neural_network/_multilayer_perceptron.py:691: ConvergenceWarning: Stochastic Optimizer: Maximum iterations (200) reached and the optimization hasn't converged yet.\n",
      "  warnings.warn(\n",
      "/home/thiago_lahass/miniconda3/envs/mycondaenv/lib/python3.12/site-packages/sklearn/metrics/_classification.py:386: UserWarning: A single label was found in 'y_true' and 'y_pred'. For the confusion matrix to have the correct shape, use the 'labels' parameter to pass all known labels.\n",
      "  warnings.warn(\n"
     ]
    }
   ],
   "source": [
    "from sklearn.neural_network import MLPClassifier\n",
    "from sklearn.preprocessing import MaxAbsScaler\n",
    "from sklearn.pipeline import Pipeline\n",
    "from sklearn.metrics import accuracy_score, balanced_accuracy_score\n",
    "from sklearn.model_selection import train_test_split\n",
    "\n",
    "X = [[1, 2, 3, 4],  \n",
    "     [4, 5, 6, 7],  \n",
    "     [7, 8, 9, 8],\n",
    "     [1, 5, 7, 9]]\n",
    "y = [0, 1, 1, 0] \n",
    "\n",
    "X_treino, X_teste, y_treino, y_teste = train_test_split(X, y, random_state=10)\n",
    "\n",
    "meu_pipeline = Pipeline(steps=[\n",
    "   (\"normalizacao\", MaxAbsScaler()),  \n",
    "   (\"MLP\", MLPClassifier())\n",
    " ])\n",
    "\n",
    "meu_pipeline.fit(X_treino, y_treino)\n",
    "y_pred = meu_pipeline.predict(X_teste)\n",
    "print(f\"Acuracia: {accuracy_score(y_teste, y_pred)}\")\n",
    "print(f\"Acurácia balanceada: {balanced_accuracy_score(y_teste, y_pred)}\")"
   ]
  },
  {
   "cell_type": "markdown",
   "metadata": {},
   "source": [
    "## Busca automática de parâmetros"
   ]
  },
  {
   "cell_type": "code",
   "execution_count": 6,
   "metadata": {},
   "outputs": [
    {
     "name": "stdout",
     "output_type": "stream",
     "text": [
      "Melhor LR: {'MLP__learning_rate_init': 0.1}\n",
      "Score: <bound method BaseSearchCV.score of GridSearchCV(cv=2,\n",
      "             estimator=Pipeline(steps=[('normalizacao', MaxAbsScaler()),\n",
      "                                       ('MLP', MLPClassifier())]),\n",
      "             param_grid={'MLP__learning_rate_init': [0.1, 0.01, 0.001]})>\n"
     ]
    },
    {
     "name": "stderr",
     "output_type": "stream",
     "text": [
      "/home/thiago_lahass/miniconda3/envs/mycondaenv/lib/python3.12/site-packages/sklearn/neural_network/_multilayer_perceptron.py:691: ConvergenceWarning: Stochastic Optimizer: Maximum iterations (200) reached and the optimization hasn't converged yet.\n",
      "  warnings.warn(\n",
      "/home/thiago_lahass/miniconda3/envs/mycondaenv/lib/python3.12/site-packages/sklearn/neural_network/_multilayer_perceptron.py:691: ConvergenceWarning: Stochastic Optimizer: Maximum iterations (200) reached and the optimization hasn't converged yet.\n",
      "  warnings.warn(\n"
     ]
    }
   ],
   "source": [
    "from sklearn.model_selection import GridSearchCV\n",
    "param_busca={\n",
    "  'MLP__learning_rate_init': [0.1, 0.01, 0.001]\n",
    "}\n",
    "buscador = GridSearchCV(estimator=meu_pipeline, param_grid=param_busca, cv=2)\n",
    "buscador.fit(X, y)\n",
    "print(\"Melhor LR:\", buscador.best_params_)\n",
    "print(\"Score:\", buscador.score)"
   ]
  }
 ],
 "metadata": {
  "kernelspec": {
   "display_name": "Python 3 (ipykernel)",
   "language": "python",
   "name": "python3"
  },
  "language_info": {
   "codemirror_mode": {
    "name": "ipython",
    "version": 3
   },
   "file_extension": ".py",
   "mimetype": "text/x-python",
   "name": "python",
   "nbconvert_exporter": "python",
   "pygments_lexer": "ipython3",
   "version": "3.12.2"
  }
 },
 "nbformat": 4,
 "nbformat_minor": 4
}
