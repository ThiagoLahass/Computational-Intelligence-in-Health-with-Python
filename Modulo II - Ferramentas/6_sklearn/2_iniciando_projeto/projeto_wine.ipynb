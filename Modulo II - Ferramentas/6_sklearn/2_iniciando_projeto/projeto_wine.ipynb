{
 "cells": [
  {
   "cell_type": "markdown",
   "metadata": {},
   "source": [
    "# Classificando a base de [wine](https://archive.ics.uci.edu/ml/datasets/Wine) usando um KNN\n",
    "Esse notebook faz parte do material de apoio do tutorial [Introdução ao Scikit-learn - Parte 2: iniciando um projeto](http://computacaointeligente.com.br/outros/intro-sklearn-part-2/)"
   ]
  },
  {
   "cell_type": "code",
   "execution_count": 1,
   "metadata": {},
   "outputs": [],
   "source": [
    "from sklearn.datasets import load_wine\n",
    "from sklearn.preprocessing import MinMaxScaler\n",
    "from sklearn.neighbors import KNeighborsClassifier\n",
    "from sklearn.pipeline import Pipeline\n",
    "from sklearn.metrics import classification_report\n",
    "from sklearn.model_selection import train_test_split\n",
    "from sklearn.metrics import confusion_matrix\n",
    "from sklearn.model_selection import GridSearchCV"
   ]
  },
  {
   "cell_type": "markdown",
   "metadata": {},
   "source": [
    "## Carregando os dados "
   ]
  },
  {
   "cell_type": "code",
   "execution_count": 3,
   "metadata": {},
   "outputs": [
    {
     "name": "stdout",
     "output_type": "stream",
     "text": [
      "['class_0' 'class_1' 'class_2']\n",
      ".. _wine_dataset:\n",
      "\n",
      "Wine recognition dataset\n",
      "------------------------\n",
      "\n",
      "**Data Set Characteristics:**\n",
      "\n",
      ":Number of Instances: 178\n",
      ":Number of Attributes: 13 numeric, predictive attributes and the class\n",
      ":Attribute Information:\n",
      "    - Alcohol\n",
      "    - Malic acid\n",
      "    - Ash\n",
      "    - Alcalinity of ash\n",
      "    - Magnesium\n",
      "    - Total phenols\n",
      "    - Flavanoids\n",
      "    - Nonflavanoid phenols\n",
      "    - Proanthocyanins\n",
      "    - Color intensity\n",
      "    - Hue\n",
      "    - OD280/OD315 of diluted wines\n",
      "    - Proline\n",
      "    - class:\n",
      "        - class_0\n",
      "        - class_1\n",
      "        - class_2\n",
      "\n",
      ":Summary Statistics:\n",
      "\n",
      "============================= ==== ===== ======= =====\n",
      "                                Min   Max   Mean     SD\n",
      "============================= ==== ===== ======= =====\n",
      "Alcohol:                      11.0  14.8    13.0   0.8\n",
      "Malic Acid:                   0.74  5.80    2.34  1.12\n",
      "Ash:                          1.36  3.23    2.36  0.27\n",
      "Alcalinity of Ash:            10.6  30.0    19.5   3.3\n",
      "Magnesium:                    70.0 162.0    99.7  14.3\n",
      "Total Phenols:                0.98  3.88    2.29  0.63\n",
      "Flavanoids:                   0.34  5.08    2.03  1.00\n",
      "Nonflavanoid Phenols:         0.13  0.66    0.36  0.12\n",
      "Proanthocyanins:              0.41  3.58    1.59  0.57\n",
      "Colour Intensity:              1.3  13.0     5.1   2.3\n",
      "Hue:                          0.48  1.71    0.96  0.23\n",
      "OD280/OD315 of diluted wines: 1.27  4.00    2.61  0.71\n",
      "Proline:                       278  1680     746   315\n",
      "============================= ==== ===== ======= =====\n",
      "\n",
      ":Missing Attribute Values: None\n",
      ":Class Distribution: class_0 (59), class_1 (71), class_2 (48)\n",
      ":Creator: R.A. Fisher\n",
      ":Donor: Michael Marshall (MARSHALL%PLU@io.arc.nasa.gov)\n",
      ":Date: July, 1988\n",
      "\n",
      "This is a copy of UCI ML Wine recognition datasets.\n",
      "https://archive.ics.uci.edu/ml/machine-learning-databases/wine/wine.data\n",
      "\n",
      "The data is the results of a chemical analysis of wines grown in the same\n",
      "region in Italy by three different cultivators. There are thirteen different\n",
      "measurements taken for different constituents found in the three types of\n",
      "wine.\n",
      "\n",
      "Original Owners:\n",
      "\n",
      "Forina, M. et al, PARVUS -\n",
      "An Extendible Package for Data Exploration, Classification and Correlation.\n",
      "Institute of Pharmaceutical and Food Analysis and Technologies,\n",
      "Via Brigata Salerno, 16147 Genoa, Italy.\n",
      "\n",
      "Citation:\n",
      "\n",
      "Lichman, M. (2013). UCI Machine Learning Repository\n",
      "[https://archive.ics.uci.edu/ml]. Irvine, CA: University of California,\n",
      "School of Information and Computer Science.\n",
      "\n",
      "|details-start|\n",
      "**References**\n",
      "|details-split|\n",
      "\n",
      "(1) S. Aeberhard, D. Coomans and O. de Vel,\n",
      "Comparison of Classifiers in High Dimensional Settings,\n",
      "Tech. Rep. no. 92-02, (1992), Dept. of Computer Science and Dept. of\n",
      "Mathematics and Statistics, James Cook University of North Queensland.\n",
      "(Also submitted to Technometrics).\n",
      "\n",
      "The data was used with many others for comparing various\n",
      "classifiers. The classes are separable, though only RDA\n",
      "has achieved 100% correct classification.\n",
      "(RDA : 100%, QDA 99.4%, LDA 98.9%, 1NN 96.1% (z-transformed data))\n",
      "(All results using the leave-one-out technique)\n",
      "\n",
      "(2) S. Aeberhard, D. Coomans and O. de Vel,\n",
      "\"THE CLASSIFICATION PERFORMANCE OF RDA\"\n",
      "Tech. Rep. no. 92-01, (1992), Dept. of Computer Science and Dept. of\n",
      "Mathematics and Statistics, James Cook University of North Queensland.\n",
      "(Also submitted to Journal of Chemometrics).\n",
      "\n",
      "|details-end|\n",
      "\n"
     ]
    }
   ],
   "source": [
    "wine_dataset = load_wine()\n",
    "X = wine_dataset['data']\n",
    "y = wine_dataset['target']\n",
    "nome_das_classes = wine_dataset.target_names\n",
    "descricao = wine_dataset['DESCR']\n",
    "print(descricao)"
   ]
  },
  {
   "cell_type": "markdown",
   "metadata": {},
   "source": [
    "## Pre-processamento\n",
    "- Dividir o dataset em treino e teste\n",
    "- Normalizar os dados usando `MinMaxScaler`"
   ]
  },
  {
   "cell_type": "code",
   "execution_count": 4,
   "metadata": {},
   "outputs": [
    {
     "name": "stdout",
     "output_type": "stream",
     "text": [
      "Tamanho do conjunto de treino: 124\n",
      "Tamanho do conjunto de teste: 54\n"
     ]
    }
   ],
   "source": [
    "X_treino, X_teste, y_treino, y_teste = train_test_split(X, y, test_size=0.3, shuffle=True, random_state=32)\n",
    "print(f\"Tamanho do conjunto de treino: {len(X_treino)}\")\n",
    "print(f\"Tamanho do conjunto de teste: {len(X_teste)}\")"
   ]
  },
  {
   "cell_type": "markdown",
   "metadata": {},
   "source": [
    "### Normalizando os dados"
   ]
  },
  {
   "cell_type": "code",
   "execution_count": 5,
   "metadata": {},
   "outputs": [],
   "source": [
    "normalizador = MinMaxScaler()\n",
    "normalizador.fit(X_treino)\n",
    "X_treino_norm = normalizador.transform(X_treino)\n",
    "X_teste_norm = normalizador.transform(X_teste)"
   ]
  },
  {
   "cell_type": "markdown",
   "metadata": {},
   "source": [
    "## Configurando e treinando o KNN\n",
    "- Número de vizinhos = 3"
   ]
  },
  {
   "cell_type": "code",
   "execution_count": 6,
   "metadata": {},
   "outputs": [
    {
     "name": "stdout",
     "output_type": "stream",
     "text": [
      "Acurácia de treinamento: 0.967741935483871\n"
     ]
    }
   ],
   "source": [
    "knn = KNeighborsClassifier(n_neighbors=3)\n",
    "knn.fit(X_treino_norm, y_treino)\n",
    "print(f\"Acurácia de treinamento: {knn.score(X_treino_norm, y_treino)}\")"
   ]
  },
  {
   "cell_type": "markdown",
   "metadata": {},
   "source": [
    "### Explorando alguns métodos da classe `KNeighborsClassifier`"
   ]
  },
  {
   "cell_type": "code",
   "execution_count": 7,
   "metadata": {},
   "outputs": [
    {
     "name": "stdout",
     "output_type": "stream",
     "text": [
      "Acurácia de teste: 0.9814814814814815\n",
      "Predições para cada amostra:\n",
      "- Amostra 1: label = 1 | probabilidades = [0. 1. 0.]\n",
      "- Amostra 2: label = 1 | probabilidades = [0. 1. 0.]\n",
      "- Amostra 3: label = 0 | probabilidades = [1. 0. 0.]\n",
      "- Amostra 4: label = 2 | probabilidades = [0. 0. 1.]\n",
      "- Amostra 5: label = 2 | probabilidades = [0. 0. 1.]\n",
      "- Amostra 6: label = 0 | probabilidades = [1. 0. 0.]\n",
      "- Amostra 7: label = 0 | probabilidades = [1. 0. 0.]\n",
      "- Amostra 8: label = 2 | probabilidades = [0. 0. 1.]\n",
      "- Amostra 9: label = 0 | probabilidades = [1. 0. 0.]\n",
      "- Amostra 10: label = 0 | probabilidades = [1. 0. 0.]\n",
      "- Amostra 11: label = 1 | probabilidades = [0. 1. 0.]\n",
      "- Amostra 12: label = 2 | probabilidades = [0. 0. 1.]\n",
      "- Amostra 13: label = 0 | probabilidades = [0.66666667 0.33333333 0.        ]\n",
      "- Amostra 14: label = 0 | probabilidades = [1. 0. 0.]\n",
      "- Amostra 15: label = 0 | probabilidades = [1. 0. 0.]\n",
      "- Amostra 16: label = 2 | probabilidades = [0. 0. 1.]\n",
      "- Amostra 17: label = 1 | probabilidades = [0.33333333 0.66666667 0.        ]\n",
      "- Amostra 18: label = 1 | probabilidades = [0. 1. 0.]\n",
      "- Amostra 19: label = 0 | probabilidades = [1. 0. 0.]\n",
      "- Amostra 20: label = 0 | probabilidades = [1. 0. 0.]\n",
      "- Amostra 21: label = 1 | probabilidades = [0. 1. 0.]\n",
      "- Amostra 22: label = 2 | probabilidades = [0. 0. 1.]\n",
      "- Amostra 23: label = 2 | probabilidades = [0. 0. 1.]\n",
      "- Amostra 24: label = 2 | probabilidades = [0. 0. 1.]\n",
      "- Amostra 25: label = 1 | probabilidades = [0. 1. 0.]\n",
      "- Amostra 26: label = 2 | probabilidades = [0. 0. 1.]\n",
      "- Amostra 27: label = 0 | probabilidades = [1. 0. 0.]\n",
      "- Amostra 28: label = 0 | probabilidades = [1. 0. 0.]\n",
      "- Amostra 29: label = 0 | probabilidades = [1. 0. 0.]\n",
      "- Amostra 30: label = 0 | probabilidades = [1. 0. 0.]\n",
      "- Amostra 31: label = 2 | probabilidades = [0. 0. 1.]\n",
      "- Amostra 32: label = 0 | probabilidades = [1. 0. 0.]\n",
      "- Amostra 33: label = 2 | probabilidades = [0. 0. 1.]\n",
      "- Amostra 34: label = 1 | probabilidades = [0.33333333 0.66666667 0.        ]\n",
      "- Amostra 35: label = 0 | probabilidades = [1. 0. 0.]\n",
      "- Amostra 36: label = 1 | probabilidades = [0. 1. 0.]\n",
      "- Amostra 37: label = 2 | probabilidades = [0. 0. 1.]\n",
      "- Amostra 38: label = 0 | probabilidades = [1. 0. 0.]\n",
      "- Amostra 39: label = 2 | probabilidades = [0. 0. 1.]\n",
      "- Amostra 40: label = 2 | probabilidades = [0. 0. 1.]\n",
      "- Amostra 41: label = 0 | probabilidades = [1. 0. 0.]\n",
      "- Amostra 42: label = 1 | probabilidades = [0. 1. 0.]\n",
      "- Amostra 43: label = 2 | probabilidades = [0. 0. 1.]\n",
      "- Amostra 44: label = 2 | probabilidades = [0. 0. 1.]\n",
      "- Amostra 45: label = 0 | probabilidades = [1. 0. 0.]\n",
      "- Amostra 46: label = 0 | probabilidades = [1. 0. 0.]\n",
      "- Amostra 47: label = 0 | probabilidades = [1. 0. 0.]\n",
      "- Amostra 48: label = 2 | probabilidades = [0. 0. 1.]\n",
      "- Amostra 49: label = 0 | probabilidades = [1. 0. 0.]\n",
      "- Amostra 50: label = 1 | probabilidades = [0. 1. 0.]\n",
      "- Amostra 51: label = 1 | probabilidades = [0. 1. 0.]\n",
      "- Amostra 52: label = 1 | probabilidades = [0. 1. 0.]\n",
      "- Amostra 53: label = 1 | probabilidades = [0. 1. 0.]\n",
      "- Amostra 54: label = 1 | probabilidades = [0. 1. 0.]\n"
     ]
    }
   ],
   "source": [
    "y_pred = knn.predict(X_teste_norm) # retorna a classe diretamente\n",
    "y_pred_prob = knn.predict_proba(X_teste_norm) # retorna a probabilidade de cada classe\n",
    "acc_teste = knn.score(X_teste_norm, y_teste)\n",
    "print(f\"Acurácia de teste: {acc_teste}\")\n",
    "print(\"Predições para cada amostra:\")\n",
    "k = 1\n",
    "for l, p in zip(y_pred, y_pred_prob):\n",
    "    print(f\"- Amostra {k}: label = {l} | probabilidades = {p}\")\n",
    "    k+=1"
   ]
  },
  {
   "cell_type": "markdown",
   "metadata": {},
   "source": [
    "### Relatório de classificação\n",
    "- Obtendo um relatório de classificação com informações de recall, precision, F1-score.\n",
    "- Imprimir a matriz de confusão"
   ]
  },
  {
   "cell_type": "code",
   "execution_count": 8,
   "metadata": {},
   "outputs": [
    {
     "name": "stdout",
     "output_type": "stream",
     "text": [
      "Relatório de classificação:\n",
      "              precision    recall  f1-score   support\n",
      "\n",
      "     class_0       1.00      1.00      1.00        22\n",
      "     class_1       1.00      0.94      0.97        16\n",
      "     class_2       0.94      1.00      0.97        16\n",
      "\n",
      "    accuracy                           0.98        54\n",
      "   macro avg       0.98      0.98      0.98        54\n",
      "weighted avg       0.98      0.98      0.98        54\n",
      "\n"
     ]
    }
   ],
   "source": [
    "relatorio = classification_report(y_teste, y_pred, target_names=nome_das_classes)\n",
    "print(\"Relatório de classificação:\")\n",
    "print(relatorio)"
   ]
  },
  {
   "cell_type": "code",
   "execution_count": 9,
   "metadata": {},
   "outputs": [
    {
     "name": "stdout",
     "output_type": "stream",
     "text": [
      "Matriz de confusão:\n",
      "[[22  0  0]\n",
      " [ 0 15  1]\n",
      " [ 0  0 16]]\n"
     ]
    }
   ],
   "source": [
    "mat_conf = confusion_matrix(y_teste, y_pred)\n",
    "print(\"Matriz de confusão:\")\n",
    "print(mat_conf)"
   ]
  },
  {
   "cell_type": "markdown",
   "metadata": {},
   "source": [
    "# Empacotando o nosso modelo em um `pipeline`\n",
    "Para fins de aprendizagem, vamos juntar todo o processo de pre-processamento e modelagem dentro de um pipeline. A principal utilidade é simplificar o código e também utilizar-lo para o busca de parâmetros. Como já foi discutido cada passo nas células anteriores, aqui vamos fazer tudo na mesma célula."
   ]
  },
  {
   "cell_type": "code",
   "execution_count": 10,
   "metadata": {},
   "outputs": [
    {
     "name": "stdout",
     "output_type": "stream",
     "text": [
      "Acurácia de treinamento: 0.967741935483871\n"
     ]
    }
   ],
   "source": [
    "knn_pipeline = Pipeline(steps=[\n",
    "  (\"normalizacao\", MinMaxScaler()),  \n",
    "  (\"KNN\", KNeighborsClassifier(n_neighbors=3))\n",
    "])\n",
    "knn_pipeline.fit(X_treino, y_treino)\n",
    "y_pred = knn_pipeline.predict(X_teste)\n",
    "y_pred_prob = knn_pipeline.predict_proba(X_teste)\n",
    "print(f\"Acurácia de treinamento: {knn_pipeline.score(X_treino, y_treino)}\")"
   ]
  },
  {
   "cell_type": "markdown",
   "metadata": {},
   "source": [
    "# Buscando números de vizinhos utilizando `GridSearchCV`"
   ]
  },
  {
   "cell_type": "code",
   "execution_count": 11,
   "metadata": {},
   "outputs": [
    {
     "name": "stdout",
     "output_type": "stream",
     "text": [
      "Melhor K: {'KNN__n_neighbors': 7}\n"
     ]
    }
   ],
   "source": [
    "param_busca={\n",
    "  'KNN__n_neighbors': [3, 5, 7]\n",
    "}\n",
    "buscador = GridSearchCV(knn_pipeline, param_grid=param_busca)\n",
    "buscador.fit(X, y)\n",
    "print(\"Melhor K:\", buscador.best_params_)"
   ]
  },
  {
   "cell_type": "code",
   "execution_count": 12,
   "metadata": {},
   "outputs": [
    {
     "data": {
      "text/html": [
       "<div>\n",
       "<style scoped>\n",
       "    .dataframe tbody tr th:only-of-type {\n",
       "        vertical-align: middle;\n",
       "    }\n",
       "\n",
       "    .dataframe tbody tr th {\n",
       "        vertical-align: top;\n",
       "    }\n",
       "\n",
       "    .dataframe thead th {\n",
       "        text-align: right;\n",
       "    }\n",
       "</style>\n",
       "<table border=\"1\" class=\"dataframe\">\n",
       "  <thead>\n",
       "    <tr style=\"text-align: right;\">\n",
       "      <th></th>\n",
       "      <th>mean_fit_time</th>\n",
       "      <th>std_fit_time</th>\n",
       "      <th>mean_score_time</th>\n",
       "      <th>std_score_time</th>\n",
       "      <th>param_KNN__n_neighbors</th>\n",
       "      <th>params</th>\n",
       "      <th>split0_test_score</th>\n",
       "      <th>split1_test_score</th>\n",
       "      <th>split2_test_score</th>\n",
       "      <th>split3_test_score</th>\n",
       "      <th>split4_test_score</th>\n",
       "      <th>mean_test_score</th>\n",
       "      <th>std_test_score</th>\n",
       "      <th>rank_test_score</th>\n",
       "    </tr>\n",
       "  </thead>\n",
       "  <tbody>\n",
       "    <tr>\n",
       "      <th>0</th>\n",
       "      <td>0.001325</td>\n",
       "      <td>0.000225</td>\n",
       "      <td>0.003473</td>\n",
       "      <td>0.000741</td>\n",
       "      <td>3</td>\n",
       "      <td>{'KNN__n_neighbors': 3}</td>\n",
       "      <td>0.916667</td>\n",
       "      <td>0.944444</td>\n",
       "      <td>1.000000</td>\n",
       "      <td>1.0</td>\n",
       "      <td>0.914286</td>\n",
       "      <td>0.955079</td>\n",
       "      <td>0.038180</td>\n",
       "      <td>2</td>\n",
       "    </tr>\n",
       "    <tr>\n",
       "      <th>1</th>\n",
       "      <td>0.000952</td>\n",
       "      <td>0.000207</td>\n",
       "      <td>0.002402</td>\n",
       "      <td>0.000265</td>\n",
       "      <td>5</td>\n",
       "      <td>{'KNN__n_neighbors': 5}</td>\n",
       "      <td>0.888889</td>\n",
       "      <td>0.944444</td>\n",
       "      <td>1.000000</td>\n",
       "      <td>1.0</td>\n",
       "      <td>0.914286</td>\n",
       "      <td>0.949524</td>\n",
       "      <td>0.044810</td>\n",
       "      <td>3</td>\n",
       "    </tr>\n",
       "    <tr>\n",
       "      <th>2</th>\n",
       "      <td>0.000724</td>\n",
       "      <td>0.000066</td>\n",
       "      <td>0.002088</td>\n",
       "      <td>0.000274</td>\n",
       "      <td>7</td>\n",
       "      <td>{'KNN__n_neighbors': 7}</td>\n",
       "      <td>0.972222</td>\n",
       "      <td>0.944444</td>\n",
       "      <td>0.972222</td>\n",
       "      <td>1.0</td>\n",
       "      <td>0.971429</td>\n",
       "      <td>0.972063</td>\n",
       "      <td>0.017571</td>\n",
       "      <td>1</td>\n",
       "    </tr>\n",
       "  </tbody>\n",
       "</table>\n",
       "</div>"
      ],
      "text/plain": [
       "   mean_fit_time  std_fit_time  mean_score_time  std_score_time  \\\n",
       "0       0.001325      0.000225         0.003473        0.000741   \n",
       "1       0.000952      0.000207         0.002402        0.000265   \n",
       "2       0.000724      0.000066         0.002088        0.000274   \n",
       "\n",
       "  param_KNN__n_neighbors                   params  split0_test_score  \\\n",
       "0                      3  {'KNN__n_neighbors': 3}           0.916667   \n",
       "1                      5  {'KNN__n_neighbors': 5}           0.888889   \n",
       "2                      7  {'KNN__n_neighbors': 7}           0.972222   \n",
       "\n",
       "   split1_test_score  split2_test_score  split3_test_score  split4_test_score  \\\n",
       "0           0.944444           1.000000                1.0           0.914286   \n",
       "1           0.944444           1.000000                1.0           0.914286   \n",
       "2           0.944444           0.972222                1.0           0.971429   \n",
       "\n",
       "   mean_test_score  std_test_score  rank_test_score  \n",
       "0         0.955079        0.038180                2  \n",
       "1         0.949524        0.044810                3  \n",
       "2         0.972063        0.017571                1  "
      ]
     },
     "execution_count": 12,
     "metadata": {},
     "output_type": "execute_result"
    }
   ],
   "source": [
    "import pandas as pd\n",
    "pd.DataFrame.from_dict(buscador.cv_results_)"
   ]
  },
  {
   "cell_type": "markdown",
   "metadata": {},
   "source": [
    "# Salvando o modelo\n",
    "Na documentação oficial é descrito duas maneiras de persistir modelos da `sklearn`: utilizando `pickle` ou `joblib`. Porém, a mesma recomenda a `joblib` pois ela é mais eficiente para carregar arrays com muitos dados, que é o caso da maioria dos modelos."
   ]
  },
  {
   "cell_type": "markdown",
   "metadata": {},
   "source": [
    "Vamos iniciar salvando o nosso modelo empacotado dentro do `pipeline`"
   ]
  },
  {
   "cell_type": "code",
   "execution_count": 13,
   "metadata": {},
   "outputs": [
    {
     "data": {
      "text/plain": [
       "['knn_pipeline.joblib']"
      ]
     },
     "execution_count": 13,
     "metadata": {},
     "output_type": "execute_result"
    }
   ],
   "source": [
    "import joblib\n",
    "joblib.dump(knn_pipeline, 'knn_pipeline.joblib') "
   ]
  },
  {
   "cell_type": "markdown",
   "metadata": {},
   "source": [
    "Para carregar, é igualmente fácil"
   ]
  },
  {
   "cell_type": "code",
   "execution_count": 14,
   "metadata": {},
   "outputs": [
    {
     "name": "stdout",
     "output_type": "stream",
     "text": [
      "Acurácia de treinamento: 0.967741935483871\n"
     ]
    }
   ],
   "source": [
    "knn_pipeline_carregado = joblib.load('knn_pipeline.joblib') \n",
    "y_pred_prob = knn_pipeline_carregado.predict_proba(X_teste)\n",
    "print(f\"Acurácia de treinamento: {knn_pipeline_carregado.score(X_treino, y_treino)}\")"
   ]
  }
 ],
 "metadata": {
  "kernelspec": {
   "display_name": "Python 3 (ipykernel)",
   "language": "python",
   "name": "python3"
  },
  "language_info": {
   "codemirror_mode": {
    "name": "ipython",
    "version": 3
   },
   "file_extension": ".py",
   "mimetype": "text/x-python",
   "name": "python",
   "nbconvert_exporter": "python",
   "pygments_lexer": "ipython3",
   "version": "3.12.2"
  }
 },
 "nbformat": 4,
 "nbformat_minor": 4
}
