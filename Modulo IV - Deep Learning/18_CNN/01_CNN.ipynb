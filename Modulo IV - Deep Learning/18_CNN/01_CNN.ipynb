{
 "cells": [
  {
   "cell_type": "markdown",
   "id": "003a9cd1",
   "metadata": {},
   "source": [
    "# Construindo uma CNN com Pytorch\n",
    "- A intenção desse Notebook é aprendermos a construir uma CNN utilizando os building blocks do PyTorch\n",
    "- Os conceitos são:\n",
    "     - Carregar um dataset usando `torchvision.datasets`\n",
    "     - Entender o `torch.utils.data.Dataset`\n",
    "     - Entender o `torchvision.transform`\n",
    "     - Aprender a usar um `Dataloader`\n",
    "     - Criar um modelo estendendo a classe `nn.Module`\n",
    "     - Treinar a rede em uma GPU "
   ]
  },
  {
   "cell_type": "code",
   "execution_count": 2,
   "id": "358f2c01",
   "metadata": {},
   "outputs": [],
   "source": [
    "import torchvision\n",
    "import torchvision.transforms as transforms\n",
    "import torch\n",
    "import torch.nn as nn"
   ]
  },
  {
   "cell_type": "markdown",
   "id": "1365574c",
   "metadata": {},
   "source": [
    "## Carregando a CIFAR10 novamente\n",
    "- Para mais informações, veja o notebook da aula anterior"
   ]
  },
  {
   "cell_type": "code",
   "execution_count": 4,
   "id": "5d9ff2ee",
   "metadata": {},
   "outputs": [
    {
     "name": "stdout",
     "output_type": "stream",
     "text": [
      "Files already downloaded and verified\n",
      "Files already downloaded and verified\n"
     ]
    }
   ],
   "source": [
    "cifar_train = torchvision.datasets.CIFAR10(root=\"/home/patcha/datasets\", \n",
    "                                          train=True, \n",
    "                                          download=True,\n",
    "                                          transform=transforms.ToTensor())\n",
    "\n",
    "cifar_test = torchvision.datasets.CIFAR10(root=\"/home/patcha/datasets\", \n",
    "                                          train=False, \n",
    "                                          download=True,\n",
    "                                          transform=transforms.ToTensor())"
   ]
  },
  {
   "cell_type": "code",
   "execution_count": 5,
   "id": "b065d519",
   "metadata": {},
   "outputs": [],
   "source": [
    "batch_size = 30\n",
    "train_dataloader = torch.utils.data.DataLoader(dataset=cifar_train, \n",
    "                                               batch_size=batch_size, \n",
    "                                               shuffle=True)\n",
    "\n",
    "test_dataloader = torch.utils.data.DataLoader(dataset=cifar_test, \n",
    "                                               batch_size=batch_size, \n",
    "                                               shuffle=True)"
   ]
  },
  {
   "cell_type": "markdown",
   "id": "aaa362d3",
   "metadata": {},
   "source": [
    "## Criando uma CNN\n",
    "- Agora vamos criar nossa CNN\n",
    "- Novamente, a maneira padrão de criar redes neurais dentro do Pytorch é estendendo a classe `nn.Module`\n",
    "    - Lembra da ideia das peças de LEGO\n",
    "- Neste caso, vamos usar as seguintes \"peças\":\n",
    "    - `nn.Sequential`: https://pytorch.org/docs/stable/generated/torch.nn.Sequential.html\n",
    "    - `nn.Conv2d`: https://pytorch.org/docs/stable/generated/torch.nn.Conv2d.html\n",
    "    - `nn.BatchNorm2d`: https://pytorch.org/docs/stable/generated/torch.nn.BatchNorm2d.html\n",
    "    - `nn.ReLU`: https://pytorch.org/docs/stable/generated/torch.nn.ReLU.html\n",
    "    - `nn.MaxPool2d`: https://pytorch.org/docs/stable/generated/torch.nn.MaxPool2d.html"
   ]
  },
  {
   "cell_type": "code",
   "execution_count": 29,
   "id": "dd33c754",
   "metadata": {},
   "outputs": [],
   "source": [
    "class ConvNet(nn.Module):\n",
    "    def __init__(self, num_classes=10):\n",
    "        super(ConvNet, self).__init__()\n",
    "        self.layer1 = nn.Sequential(\n",
    "            nn.Conv2d(3, 16, kernel_size=5, stride=1, padding=2),\n",
    "            nn.BatchNorm2d(16),\n",
    "            nn.ReLU(),\n",
    "            nn.MaxPool2d(kernel_size=2, stride=2))\n",
    "        self.layer2 = nn.Sequential(\n",
    "            nn.Conv2d(16, 32, kernel_size=5, stride=1, padding=2),\n",
    "            nn.BatchNorm2d(32),\n",
    "            nn.ReLU(),\n",
    "            nn.MaxPool2d(kernel_size=2, stride=2))\n",
    "        self.fc = nn.Linear(2048, num_classes)\n",
    "        \n",
    "    def forward(self, x):\n",
    "        out = self.layer1(x)        \n",
    "        out = self.layer2(out)\n",
    "        # Fazendo a operação de flatten        \n",
    "        out = out.reshape(out.size(0), -1)        \n",
    "        out = self.fc(out)\n",
    "        return out"
   ]
  },
  {
   "cell_type": "markdown",
   "id": "91f7bdf2",
   "metadata": {},
   "source": [
    "- Agora podemos instanciar o nosso modelo:"
   ]
  },
  {
   "cell_type": "code",
   "execution_count": 30,
   "id": "3efa1454",
   "metadata": {},
   "outputs": [
    {
     "data": {
      "text/plain": [
       "ConvNet(\n",
       "  (layer1): Sequential(\n",
       "    (0): Conv2d(3, 16, kernel_size=(5, 5), stride=(1, 1), padding=(2, 2))\n",
       "    (1): BatchNorm2d(16, eps=1e-05, momentum=0.1, affine=True, track_running_stats=True)\n",
       "    (2): ReLU()\n",
       "    (3): MaxPool2d(kernel_size=2, stride=2, padding=0, dilation=1, ceil_mode=False)\n",
       "  )\n",
       "  (layer2): Sequential(\n",
       "    (0): Conv2d(16, 32, kernel_size=(5, 5), stride=(1, 1), padding=(2, 2))\n",
       "    (1): BatchNorm2d(32, eps=1e-05, momentum=0.1, affine=True, track_running_stats=True)\n",
       "    (2): ReLU()\n",
       "    (3): MaxPool2d(kernel_size=2, stride=2, padding=0, dilation=1, ceil_mode=False)\n",
       "  )\n",
       "  (fc): Linear(in_features=2048, out_features=10, bias=True)\n",
       ")"
      ]
     },
     "execution_count": 30,
     "metadata": {},
     "output_type": "execute_result"
    }
   ],
   "source": [
    "model = ConvNet()\n",
    "model"
   ]
  },
  {
   "cell_type": "markdown",
   "id": "3dc94922",
   "metadata": {},
   "source": [
    "- Agora podemos determinar nossa função de custo e otimizador\n",
    "- Para esse notebook vamos aproveitar o que já fizemos no anterior"
   ]
  },
  {
   "cell_type": "code",
   "execution_count": 31,
   "id": "26b3c5c0",
   "metadata": {},
   "outputs": [],
   "source": [
    "loss_func = nn.CrossEntropyLoss()\n",
    "optimizer = torch.optim.Adam(model.parameters(), lr=0.0001)  "
   ]
  },
  {
   "cell_type": "markdown",
   "id": "634a2ad1",
   "metadata": {},
   "source": [
    "- Agora vamos fazer nosso loop de treinamento\n",
    "- Agora, vamos mandar nosso modelo para GPU se ela estiver disponível"
   ]
  },
  {
   "cell_type": "code",
   "execution_count": 32,
   "id": "67d2901b",
   "metadata": {},
   "outputs": [
    {
     "name": "stdout",
     "output_type": "stream",
     "text": [
      "- Epoch [1/10] | Loss: 1.5743\n",
      "- Epoch [2/10] | Loss: 1.0791\n",
      "- Epoch [3/10] | Loss: 0.9940\n",
      "- Epoch [4/10] | Loss: 0.8071\n",
      "- Epoch [5/10] | Loss: 0.9047\n",
      "- Epoch [6/10] | Loss: 0.8011\n",
      "- Epoch [7/10] | Loss: 0.8180\n",
      "- Epoch [8/10] | Loss: 1.1310\n",
      "- Epoch [9/10] | Loss: 0.8319\n",
      "- Epoch [10/10] | Loss: 0.9865\n"
     ]
    }
   ],
   "source": [
    "num_epochs = 10\n",
    "device = torch.device('cuda' if torch.cuda.is_available() else 'cpu')\n",
    "\n",
    "# Movendo o modelo para o device alvo\n",
    "model.to(device)\n",
    "\n",
    "for epoch in range(num_epochs):\n",
    "    for k, (batch_images, batch_labels) in enumerate(train_dataloader):  \n",
    "        \n",
    "        # Aplicando um flatten na imagem e movendo ela para o device alvo\n",
    "        batch_images = batch_images.to(device)\n",
    "        batch_labels = batch_labels.to(device)\n",
    "        \n",
    "        # Fazendo a forward pass\n",
    "        # observe que o modelo é agnóstico ao batch size\n",
    "        outputs = model(batch_images)\n",
    "        loss = loss_func(outputs, batch_labels)\n",
    "        \n",
    "        # Fazendo a otimização\n",
    "        optimizer.zero_grad()\n",
    "        loss.backward()\n",
    "        optimizer.step()        \n",
    "    \n",
    "    print (f\"- Epoch [{epoch+1}/{num_epochs}] | Loss: {loss.item():.4f}\")                  "
   ]
  },
  {
   "cell_type": "markdown",
   "id": "d2cf3356",
   "metadata": {},
   "source": [
    "### Fazendo inferência no conjunto de teste\n",
    "- A inferência é basicamente igual a do notebook anterior"
   ]
  },
  {
   "cell_type": "code",
   "execution_count": 34,
   "id": "7bdaec05",
   "metadata": {},
   "outputs": [
    {
     "name": "stdout",
     "output_type": "stream",
     "text": [
      "Accuracy: 68.66%\n"
     ]
    }
   ],
   "source": [
    "with torch.no_grad():\n",
    "    correct, total = 0, 0\n",
    "    for images, labels in test_dataloader:\n",
    "        images = images.to(device)\n",
    "        labels = labels.to(device)\n",
    "        outputs = model(images)\n",
    "        _, predicted = torch.max(outputs.data, 1)\n",
    "        total += labels.size(0)\n",
    "        correct += (predicted == labels).sum().item()\n",
    "\n",
    "    print(f\"Accuracy: {100 * correct / total}%\")"
   ]
  },
  {
   "cell_type": "markdown",
   "id": "4a9237a7",
   "metadata": {},
   "source": [
    "- Salvando o modelo:"
   ]
  },
  {
   "cell_type": "code",
   "execution_count": null,
   "id": "189d4cb9",
   "metadata": {},
   "outputs": [],
   "source": [
    "torch.save(model.state_dict(), 'model_conv.pth')"
   ]
  },
  {
   "cell_type": "markdown",
   "id": "f6c8c5b5-cb4f-4e76-ab5b-1b57a200dd9c",
   "metadata": {},
   "source": [
    "___\n",
    "# Exercícios\n",
    "- Estude a arquitetura da CNN desenvolvida nesse notebook e entenda o porque dos shapes de saída e entrada de cada camada\n",
    "- Modifique a CNN para melhorarmos os resultado\n",
    "___"
   ]
  }
 ],
 "metadata": {
  "kernelspec": {
   "display_name": "Python 3 (ipykernel)",
   "language": "python",
   "name": "python3"
  },
  "language_info": {
   "codemirror_mode": {
    "name": "ipython",
    "version": 3
   },
   "file_extension": ".py",
   "mimetype": "text/x-python",
   "name": "python",
   "nbconvert_exporter": "python",
   "pygments_lexer": "ipython3",
   "version": "3.10.4"
  }
 },
 "nbformat": 4,
 "nbformat_minor": 5
}
