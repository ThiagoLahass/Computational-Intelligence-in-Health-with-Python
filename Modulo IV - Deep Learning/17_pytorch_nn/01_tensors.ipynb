{
 "cells": [
  {
   "cell_type": "markdown",
   "id": "9f71db05-ac94-4021-8ff9-85f557a22ef5",
   "metadata": {},
   "source": [
    "# Tensores\n",
    "- Tensores são como `np.ndarrays`, que já trabalhamos no módulo passado\n",
    "    - Pytorch e Numpy conversam bastante\n",
    "- Porém, eles podem ser executados em GPUs ou outras hardwares de aceleração de desempenho\n",
    "- Também são otimizados para diferenciação automática"
   ]
  },
  {
   "cell_type": "code",
   "execution_count": null,
   "id": "a9608919-79cb-4ea0-b0cd-012a518370a6",
   "metadata": {},
   "outputs": [],
   "source": [
    "import numpy as np\n",
    "import torch"
   ]
  },
  {
   "cell_type": "markdown",
   "id": "620f9747-c3f3-482e-8d41-5a9ced905842",
   "metadata": {},
   "source": [
    "## Inicializando tensores\n",
    "\n",
    "1. Inicializando a partir de uma listas de listas"
   ]
  },
  {
   "cell_type": "code",
   "execution_count": null,
   "id": "de352146-b28b-4584-8feb-12859b311997",
   "metadata": {},
   "outputs": [],
   "source": [
    "d = [[1,2], [3,4], [5,6]]\n",
    "d_t = torch.tensor(d)\n",
    "d_t"
   ]
  },
  {
   "cell_type": "markdown",
   "id": "f15a049b-851a-4509-b8dd-68af2b62035a",
   "metadata": {},
   "source": [
    "2. Inicializando a partir de Numpy array"
   ]
  },
  {
   "cell_type": "code",
   "execution_count": null,
   "id": "deb607ab-0ae5-449b-adae-14b7c6ed89b4",
   "metadata": {},
   "outputs": [],
   "source": [
    "d_np = np.array(d)\n",
    "d_t = torch.from_numpy(d_np)\n",
    "d_t"
   ]
  },
  {
   "cell_type": "markdown",
   "id": "404b4efb-4cde-4a05-905d-c76a639d6434",
   "metadata": {},
   "source": [
    "3. Inicializando a partir de outro tensor"
   ]
  },
  {
   "cell_type": "code",
   "execution_count": null,
   "id": "0df33a50-e185-4303-92b3-41e7937bc5f6",
   "metadata": {},
   "outputs": [],
   "source": [
    "d_ones = torch.ones_like(d_t)\n",
    "d_ones"
   ]
  },
  {
   "cell_type": "markdown",
   "id": "855e2ba2-93b4-4b72-a30b-336dd39bda0e",
   "metadata": {},
   "source": [
    "4. Inicializando com valores aleatórios ou constantes"
   ]
  },
  {
   "cell_type": "code",
   "execution_count": null,
   "id": "f4b7b6e6-e85a-44b4-be8a-089b7ccd17bf",
   "metadata": {},
   "outputs": [],
   "source": [
    "r_t = torch.rand([3,2])\n",
    "r_t"
   ]
  },
  {
   "cell_type": "code",
   "execution_count": null,
   "id": "cb4099e8-6d52-47e0-90aa-b7684c80266a",
   "metadata": {},
   "outputs": [],
   "source": [
    "d_ones = torch.ones([3,10])\n",
    "d_ones"
   ]
  },
  {
   "cell_type": "code",
   "execution_count": null,
   "id": "15dd11a2-e146-46db-94b7-94ba90ebb6bf",
   "metadata": {},
   "outputs": [],
   "source": [
    "d_z = torch.zeros([3,2])\n",
    "d_z"
   ]
  },
  {
   "cell_type": "markdown",
   "id": "3e07a7fc-5ac8-45a3-8266-4914c24445fa",
   "metadata": {},
   "source": [
    "## Atributos de um tensor\n",
    "- Similar ao `np.ndarray` podemos verificar o shape e o tipo\n",
    "- Mas além disso, podemos verificar o device em que o tensor está alocado"
   ]
  },
  {
   "cell_type": "code",
   "execution_count": null,
   "id": "e1b433e1-66a0-4ba7-bcbc-1224422f3611",
   "metadata": {},
   "outputs": [],
   "source": [
    "tensor = torch.rand(3,4)\n",
    "print(f\"Shape: {tensor.shape}\")\n",
    "print(f\"Tipo: {tensor.dtype}\")\n",
    "print(f\"Device: {tensor.device}\")"
   ]
  },
  {
   "cell_type": "markdown",
   "id": "60752276-678a-42fd-9259-548327d628f2",
   "metadata": {},
   "source": [
    "- Por padrão, os tensores são criados na CPU\n",
    "- Podemos mover ele para uma GPU usando o método `to()` se houver uma GPU disponível\n",
    "- Podemos verficar se existe GPU disponível com o comando `torch.cuda.is_available()`"
   ]
  },
  {
   "cell_type": "code",
   "execution_count": null,
   "id": "580101d7-8a99-4766-9918-0f81e8f1fc17",
   "metadata": {},
   "outputs": [],
   "source": [
    "if torch.cuda.is_available():\n",
    "    tensor = tensor.to(\"cuda\")"
   ]
  },
  {
   "cell_type": "markdown",
   "id": "27cfda26-f85e-43ca-b1a4-4c1c9e887ef7",
   "metadata": {},
   "source": [
    "**Outras funções úteis em relação a GPU:**\n",
    "- Verificar quantas GPUs temos disponíveis:"
   ]
  },
  {
   "cell_type": "code",
   "execution_count": null,
   "id": "dc078564-4769-45be-b5b6-de045a60c83b",
   "metadata": {},
   "outputs": [],
   "source": [
    "gpus = torch.cuda.device_count()\n",
    "gpus"
   ]
  },
  {
   "cell_type": "markdown",
   "id": "ed15b462-14f3-4b96-9946-8c74d4e3c530",
   "metadata": {},
   "source": [
    "- Verificar o nome do device:"
   ]
  },
  {
   "cell_type": "code",
   "execution_count": null,
   "id": "a25a0e62-207b-419e-8ef6-d6304ca1e713",
   "metadata": {},
   "outputs": [],
   "source": [
    "for g in range(gpus):\n",
    "    print(torch.cuda.get_device_name(g))"
   ]
  },
  {
   "cell_type": "markdown",
   "id": "d88279d8-4b43-4664-b3a7-8ebffc400ac2",
   "metadata": {},
   "source": [
    "- Podemos pegar um ponteiro para o device:"
   ]
  },
  {
   "cell_type": "code",
   "execution_count": null,
   "id": "1ea8dc86-94fc-4230-835e-69d1bc9b6929",
   "metadata": {},
   "outputs": [],
   "source": [
    "device = torch.device(\"cuda\")\n",
    "device"
   ]
  },
  {
   "cell_type": "markdown",
   "id": "37509f82-5259-41ef-83d6-84fa80e4c48b",
   "metadata": {},
   "source": [
    "- Dai podemos mover um tensor usando esse ponteiro:"
   ]
  },
  {
   "cell_type": "code",
   "execution_count": null,
   "id": "b3b7ab93-6d19-426f-9b5f-364ad285a562",
   "metadata": {},
   "outputs": [],
   "source": [
    "tensor = tensor.to(device)"
   ]
  },
  {
   "cell_type": "markdown",
   "id": "5e3344fa-cd7d-49d1-ba3d-abd4b7c8fc10",
   "metadata": {},
   "source": [
    "## Operações com tensores\n",
    "- De maneira geral, é bem parecido com Numpy\n",
    "- Conseguimos fazer praticamente tudo. As vezes muda alguma sintaxe, mas é possível obter o mesmo resultado\n",
    "- A API inteira é muito bem [documentada e está disponível aqui](https://pytorch.org/docs/stable/torch.html)\n",
    "    - Tem mais de 100 operações"
   ]
  },
  {
   "cell_type": "markdown",
   "id": "087bfc8d-dcfa-4bd4-ba84-5cf57c6789e8",
   "metadata": {},
   "source": [
    "- Indexação e slicing\n",
    "    - Identico ao numpy"
   ]
  },
  {
   "cell_type": "code",
   "execution_count": null,
   "id": "8e458032-e9d9-4909-8335-1d5f4aa5c7dc",
   "metadata": {},
   "outputs": [],
   "source": [
    "tensor = torch.rand(4, 4)\n",
    "tensor"
   ]
  },
  {
   "cell_type": "code",
   "execution_count": null,
   "id": "f5f84747-1ee4-473d-a469-24f51a818dfe",
   "metadata": {},
   "outputs": [],
   "source": [
    "tensor[0,0]"
   ]
  },
  {
   "cell_type": "code",
   "execution_count": null,
   "id": "b716c702-dfcc-48ea-9236-bb847fc1d205",
   "metadata": {},
   "outputs": [],
   "source": [
    "tensor[0]"
   ]
  },
  {
   "cell_type": "code",
   "execution_count": null,
   "id": "82ba4d57-f057-4cde-b387-2ed1e26ca9ec",
   "metadata": {},
   "outputs": [],
   "source": [
    "tensor[:, 0:2]"
   ]
  },
  {
   "cell_type": "markdown",
   "id": "2eee04e8-4ae4-4fdc-9f53-60d14478c4e3",
   "metadata": {},
   "source": [
    "- Broadcasting e operaçõe aritméticas é a mesma coisa"
   ]
  },
  {
   "cell_type": "code",
   "execution_count": null,
   "id": "32b73ead-20b6-412a-a055-7d8b537e5892",
   "metadata": {},
   "outputs": [],
   "source": [
    "tensor = tensor + 1\n",
    "tensor"
   ]
  },
  {
   "cell_type": "markdown",
   "id": "bc6e26a9-ee8b-475f-af72-7f9f82066ea5",
   "metadata": {},
   "source": [
    "- Multiplicação de matriz"
   ]
  },
  {
   "cell_type": "code",
   "execution_count": null,
   "id": "e1fe5ea1-167f-49e1-b63e-40964998f7ce",
   "metadata": {},
   "outputs": [],
   "source": [
    "y1 = tensor @ tensor.T\n",
    "y1"
   ]
  },
  {
   "cell_type": "code",
   "execution_count": null,
   "id": "432cd269-4ffe-490e-b24e-b81a3ecb2350",
   "metadata": {},
   "outputs": [],
   "source": [
    "y2 = tensor.matmul(tensor.T)\n",
    "y2"
   ]
  },
  {
   "cell_type": "code",
   "execution_count": null,
   "id": "351b57d8-11e1-48bd-9fd3-2df53b388271",
   "metadata": {},
   "outputs": [],
   "source": [
    "y3 = torch.rand_like(y1)\n",
    "torch.matmul(tensor, tensor.T, out=y3)\n",
    "y3"
   ]
  },
  {
   "cell_type": "markdown",
   "id": "e878f1a6-d9f3-4210-a585-2745d9c2a1ce",
   "metadata": {},
   "source": [
    "- Agregação de valores\n",
    "    - Soma, maximo, minimo, etc"
   ]
  },
  {
   "cell_type": "code",
   "execution_count": null,
   "id": "9df016a4-f98f-4a00-bc07-bd4d4adaf6c2",
   "metadata": {},
   "outputs": [],
   "source": [
    "tensor.sum()"
   ]
  },
  {
   "cell_type": "code",
   "execution_count": null,
   "id": "28510eb8-c495-4e9c-a3a6-d8bdbf5eae9c",
   "metadata": {},
   "outputs": [],
   "source": [
    "tensor.sum(dim=1)"
   ]
  },
  {
   "cell_type": "code",
   "execution_count": null,
   "id": "964c4c8c-46ba-4cf4-853d-998921fd1a2b",
   "metadata": {},
   "outputs": [],
   "source": [
    "tensor[0].sum()"
   ]
  },
  {
   "cell_type": "code",
   "execution_count": null,
   "id": "7d58561b-4a54-411e-92de-4d9771153151",
   "metadata": {},
   "outputs": [],
   "source": [
    "tensor.max()"
   ]
  },
  {
   "cell_type": "markdown",
   "id": "d88f60cd-8918-4ae3-b1c3-48a521944d31",
   "metadata": {},
   "source": [
    "- Perceba que ele sempre retorna um tensor, mesmo que seja um escalar\n",
    "- Podemos pegar esse escalar para fazer uma operação com ele"
   ]
  },
  {
   "cell_type": "code",
   "execution_count": null,
   "id": "22794da5-b485-4d92-a52d-4b874bd4a0c4",
   "metadata": {},
   "outputs": [],
   "source": [
    "tensor.sum().item() + 10"
   ]
  },
  {
   "cell_type": "markdown",
   "id": "3aeddde2-e281-48f5-bdaa-3b243b1f3dac",
   "metadata": {},
   "source": [
    "- Juntando tensores com `cat()` e `stack()`\n",
    "#### `cat()`\n",
    "- O `cat()` concatena uma sequencia de tensores em uma dada dimensão. Os tensores precisam ter o mesmo shape"
   ]
  },
  {
   "cell_type": "code",
   "execution_count": null,
   "id": "588184cd-12cb-4262-9bf2-c41832fe9b45",
   "metadata": {},
   "outputs": [],
   "source": [
    "x = torch.randn(2, 3)\n",
    "x"
   ]
  },
  {
   "cell_type": "code",
   "execution_count": null,
   "id": "4b364e86-e360-4dae-abfc-fa09c0dc8c6b",
   "metadata": {},
   "outputs": [],
   "source": [
    "y = torch.cat((x, x, x), 1)\n",
    "y"
   ]
  },
  {
   "cell_type": "code",
   "execution_count": null,
   "id": "02322cb5-b6cd-46c2-9c76-b7a0ab8100e7",
   "metadata": {},
   "outputs": [],
   "source": [
    "y.shape"
   ]
  },
  {
   "cell_type": "markdown",
   "id": "3e3d6ca2-c0ec-4b96-8b82-1f8001ce15e4",
   "metadata": {},
   "source": [
    "#### `stack()`\n",
    "- Concatena uma sequencia de tensores em uma nova dimensão"
   ]
  },
  {
   "cell_type": "code",
   "execution_count": null,
   "id": "06e0d278-b32d-4bae-9514-874951ae4aa6",
   "metadata": {},
   "outputs": [],
   "source": [
    "y = torch.stack([x,x])\n",
    "y"
   ]
  },
  {
   "cell_type": "code",
   "execution_count": null,
   "id": "e7132e45-b997-43e0-8b6e-5209a6da8e9c",
   "metadata": {},
   "outputs": [],
   "source": [
    "y.shape"
   ]
  },
  {
   "cell_type": "markdown",
   "id": "0bbbb202-c27a-4826-bbc0-51ed414a27ea",
   "metadata": {},
   "source": [
    "## Relação com Numpy\n",
    "- Tensores em uma CPU e Numpy arrays podem compartilhar a mesma região de memória\n",
    "- Uma alteração em um, ocasiona uma alteração no outro"
   ]
  },
  {
   "cell_type": "code",
   "execution_count": null,
   "id": "fb7c0bd7-f0a1-43f3-b417-e3890014c152",
   "metadata": {},
   "outputs": [],
   "source": [
    "t = torch.ones(5)\n",
    "t"
   ]
  },
  {
   "cell_type": "code",
   "execution_count": null,
   "id": "81fe678b-6c5a-449c-974c-54fc23d8dffe",
   "metadata": {},
   "outputs": [],
   "source": [
    "t_np = t.numpy()\n",
    "t_np"
   ]
  },
  {
   "cell_type": "markdown",
   "id": "ded4ec3b-5dfd-419e-b0ad-ce9959529e0e",
   "metadata": {},
   "source": [
    "- Mudar o tensor, muda o numpy"
   ]
  },
  {
   "cell_type": "code",
   "execution_count": null,
   "id": "e08185b0-8d69-4e7a-a385-0249b8b64587",
   "metadata": {},
   "outputs": [],
   "source": [
    "t[0] = 2\n",
    "t_np"
   ]
  },
  {
   "cell_type": "markdown",
   "id": "adebcec3-e0ca-4bab-894f-62b8216d0335",
   "metadata": {},
   "source": [
    "- Também podemos criar essa relação a partir de uma numpy array"
   ]
  },
  {
   "cell_type": "code",
   "execution_count": null,
   "id": "91a55725-2aea-4bb6-ad65-5c8bef1e3708",
   "metadata": {},
   "outputs": [],
   "source": [
    "n = np.ones(5)\n",
    "t = torch.from_numpy(n)\n",
    "t"
   ]
  },
  {
   "cell_type": "markdown",
   "id": "38979736-7c14-4de5-9543-5c1537fd9a92",
   "metadata": {},
   "source": [
    "- Mudar `n` afeta em `t`"
   ]
  },
  {
   "cell_type": "code",
   "execution_count": null,
   "id": "2c98f9e4-d609-4b30-9bae-b6ca8478aa1b",
   "metadata": {},
   "outputs": [],
   "source": [
    "n[0] = 2\n",
    "t"
   ]
  },
  {
   "cell_type": "markdown",
   "id": "7ce95303-3c7f-43a5-a24a-c1e34f8083ac",
   "metadata": {},
   "source": [
    "## Nota:\n",
    "- São muitas operações com tensores\n",
    "- Vamos ganhando proficiência com o tempo\n",
    "- O importante é saber que se você domina Numpy, o Pytorch se torna bem mais fácil"
   ]
  }
 ],
 "metadata": {
  "kernelspec": {
   "display_name": "Python 3 (ipykernel)",
   "language": "python",
   "name": "python3"
  },
  "language_info": {
   "codemirror_mode": {
    "name": "ipython",
    "version": 3
   },
   "file_extension": ".py",
   "mimetype": "text/x-python",
   "name": "python",
   "nbconvert_exporter": "python",
   "pygments_lexer": "ipython3",
   "version": "3.10.4"
  }
 },
 "nbformat": 4,
 "nbformat_minor": 5
}
