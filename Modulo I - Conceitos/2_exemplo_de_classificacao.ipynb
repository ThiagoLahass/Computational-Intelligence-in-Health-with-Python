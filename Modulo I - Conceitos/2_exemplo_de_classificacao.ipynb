{
  "nbformat": 4,
  "nbformat_minor": 0,
  "metadata": {
    "colab": {
      "provenance": []
    },
    "kernelspec": {
      "name": "python3",
      "display_name": "Python 3"
    },
    "language_info": {
      "name": "python"
    }
  },
  "cells": [
    {
      "cell_type": "markdown",
      "source": [
        "# Exemplo de um problema de classificação\n",
        "A intenção desse notebook é exemplificar um pipeline de um problema de classificação. Ainda não se preocupe muito sobre o código. O intuito é observar os conceitos (por enquanto). Na próxima aula já vamos avançar com codificação.\n",
        "\n",
        "Em resumo, vamos fazer o seguinte:\n",
        "- Carregar a base *Breast cancer wisconsin*\n",
        "- Separar os dados em conjunto de treino e teste (por enquanto não vamos usar validação)\n",
        "- Aplicar uma normalização (vamos aprender mais sobre isso em breve)\n",
        "- Treinar uma regressão logistica\n",
        "- Calcular acurácia no conjunto de treino\n",
        "- Calcular acurácia no conjunto de teste"
      ],
      "metadata": {
        "id": "6cFxoIet7HU9"
      }
    },
    {
      "cell_type": "markdown",
      "source": [
        "## Importandos as bibliotecas\n",
        "Vamos usar basicamente a `sklearn`. No módulo 2 já vamos aprender mais sobre ela. Por enquanto, aceita que ela existe e observe apenas o pipeline."
      ],
      "metadata": {
        "id": "JDdrh9E2-DBn"
      }
    },
    {
      "cell_type": "code",
      "source": [
        "from sklearn.datasets import load_breast_cancer\n",
        "from sklearn.preprocessing import MinMaxScaler\n",
        "from sklearn.linear_model import LogisticRegression\n",
        "from sklearn.model_selection import train_test_split"
      ],
      "metadata": {
        "id": "6-yoNGxH-Gkd"
      },
      "execution_count": 1,
      "outputs": []
    },
    {
      "cell_type": "markdown",
      "source": [
        "## Carregando os dados"
      ],
      "metadata": {
        "id": "5xPaehr_99RS"
      }
    },
    {
      "cell_type": "code",
      "execution_count": 12,
      "metadata": {
        "id": "b2ILE8A04M7H",
        "colab": {
          "base_uri": "https://localhost:8080/"
        },
        "outputId": "e5f0d949-145b-4fe6-da8a-cd773494e633"
      },
      "outputs": [
        {
          "output_type": "stream",
          "name": "stdout",
          "text": [
            "['malignant' 'benign']\n"
          ]
        }
      ],
      "source": [
        "cancer_dataset = load_breast_cancer()\n",
        "X = cancer_dataset['data']\n",
        "y = cancer_dataset['target']\n",
        "nome_labels = cancer_dataset.target_names\n",
        "print(nome_labels)"
      ]
    },
    {
      "cell_type": "code",
      "source": [
        "desc = cancer_dataset['DESCR']\n",
        "print(desc)"
      ],
      "metadata": {
        "colab": {
          "base_uri": "https://localhost:8080/"
        },
        "id": "tX8J3s9W3LCR",
        "outputId": "0238e275-e2f2-4a87-c89f-0d0cc5b23bda"
      },
      "execution_count": 13,
      "outputs": [
        {
          "output_type": "stream",
          "name": "stdout",
          "text": [
            ".. _breast_cancer_dataset:\n",
            "\n",
            "Breast cancer wisconsin (diagnostic) dataset\n",
            "--------------------------------------------\n",
            "\n",
            "**Data Set Characteristics:**\n",
            "\n",
            "    :Number of Instances: 569\n",
            "\n",
            "    :Number of Attributes: 30 numeric, predictive attributes and the class\n",
            "\n",
            "    :Attribute Information:\n",
            "        - radius (mean of distances from center to points on the perimeter)\n",
            "        - texture (standard deviation of gray-scale values)\n",
            "        - perimeter\n",
            "        - area\n",
            "        - smoothness (local variation in radius lengths)\n",
            "        - compactness (perimeter^2 / area - 1.0)\n",
            "        - concavity (severity of concave portions of the contour)\n",
            "        - concave points (number of concave portions of the contour)\n",
            "        - symmetry\n",
            "        - fractal dimension (\"coastline approximation\" - 1)\n",
            "\n",
            "        The mean, standard error, and \"worst\" or largest (mean of the three\n",
            "        worst/largest values) of these features were computed for each image,\n",
            "        resulting in 30 features.  For instance, field 0 is Mean Radius, field\n",
            "        10 is Radius SE, field 20 is Worst Radius.\n",
            "\n",
            "        - class:\n",
            "                - WDBC-Malignant\n",
            "                - WDBC-Benign\n",
            "\n",
            "    :Summary Statistics:\n",
            "\n",
            "    ===================================== ====== ======\n",
            "                                           Min    Max\n",
            "    ===================================== ====== ======\n",
            "    radius (mean):                        6.981  28.11\n",
            "    texture (mean):                       9.71   39.28\n",
            "    perimeter (mean):                     43.79  188.5\n",
            "    area (mean):                          143.5  2501.0\n",
            "    smoothness (mean):                    0.053  0.163\n",
            "    compactness (mean):                   0.019  0.345\n",
            "    concavity (mean):                     0.0    0.427\n",
            "    concave points (mean):                0.0    0.201\n",
            "    symmetry (mean):                      0.106  0.304\n",
            "    fractal dimension (mean):             0.05   0.097\n",
            "    radius (standard error):              0.112  2.873\n",
            "    texture (standard error):             0.36   4.885\n",
            "    perimeter (standard error):           0.757  21.98\n",
            "    area (standard error):                6.802  542.2\n",
            "    smoothness (standard error):          0.002  0.031\n",
            "    compactness (standard error):         0.002  0.135\n",
            "    concavity (standard error):           0.0    0.396\n",
            "    concave points (standard error):      0.0    0.053\n",
            "    symmetry (standard error):            0.008  0.079\n",
            "    fractal dimension (standard error):   0.001  0.03\n",
            "    radius (worst):                       7.93   36.04\n",
            "    texture (worst):                      12.02  49.54\n",
            "    perimeter (worst):                    50.41  251.2\n",
            "    area (worst):                         185.2  4254.0\n",
            "    smoothness (worst):                   0.071  0.223\n",
            "    compactness (worst):                  0.027  1.058\n",
            "    concavity (worst):                    0.0    1.252\n",
            "    concave points (worst):               0.0    0.291\n",
            "    symmetry (worst):                     0.156  0.664\n",
            "    fractal dimension (worst):            0.055  0.208\n",
            "    ===================================== ====== ======\n",
            "\n",
            "    :Missing Attribute Values: None\n",
            "\n",
            "    :Class Distribution: 212 - Malignant, 357 - Benign\n",
            "\n",
            "    :Creator:  Dr. William H. Wolberg, W. Nick Street, Olvi L. Mangasarian\n",
            "\n",
            "    :Donor: Nick Street\n",
            "\n",
            "    :Date: November, 1995\n",
            "\n",
            "This is a copy of UCI ML Breast Cancer Wisconsin (Diagnostic) datasets.\n",
            "https://goo.gl/U2Uwz2\n",
            "\n",
            "Features are computed from a digitized image of a fine needle\n",
            "aspirate (FNA) of a breast mass.  They describe\n",
            "characteristics of the cell nuclei present in the image.\n",
            "\n",
            "Separating plane described above was obtained using\n",
            "Multisurface Method-Tree (MSM-T) [K. P. Bennett, \"Decision Tree\n",
            "Construction Via Linear Programming.\" Proceedings of the 4th\n",
            "Midwest Artificial Intelligence and Cognitive Science Society,\n",
            "pp. 97-101, 1992], a classification method which uses linear\n",
            "programming to construct a decision tree.  Relevant features\n",
            "were selected using an exhaustive search in the space of 1-4\n",
            "features and 1-3 separating planes.\n",
            "\n",
            "The actual linear program used to obtain the separating plane\n",
            "in the 3-dimensional space is that described in:\n",
            "[K. P. Bennett and O. L. Mangasarian: \"Robust Linear\n",
            "Programming Discrimination of Two Linearly Inseparable Sets\",\n",
            "Optimization Methods and Software 1, 1992, 23-34].\n",
            "\n",
            "This database is also available through the UW CS ftp server:\n",
            "\n",
            "ftp ftp.cs.wisc.edu\n",
            "cd math-prog/cpo-dataset/machine-learn/WDBC/\n",
            "\n",
            ".. topic:: References\n",
            "\n",
            "   - W.N. Street, W.H. Wolberg and O.L. Mangasarian. Nuclear feature extraction \n",
            "     for breast tumor diagnosis. IS&T/SPIE 1993 International Symposium on \n",
            "     Electronic Imaging: Science and Technology, volume 1905, pages 861-870,\n",
            "     San Jose, CA, 1993.\n",
            "   - O.L. Mangasarian, W.N. Street and W.H. Wolberg. Breast cancer diagnosis and \n",
            "     prognosis via linear programming. Operations Research, 43(4), pages 570-577, \n",
            "     July-August 1995.\n",
            "   - W.H. Wolberg, W.N. Street, and O.L. Mangasarian. Machine learning techniques\n",
            "     to diagnose breast cancer from fine-needle aspirates. Cancer Letters 77 (1994) \n",
            "     163-171.\n"
          ]
        }
      ]
    },
    {
      "cell_type": "markdown",
      "source": [
        "## Pre-processamento dos dados\n",
        "- Dividir o dataset em treino e teste\n",
        "- Normalizar os dados usando `MinMaxScaler`"
      ],
      "metadata": {
        "id": "MffJ4lmz_Mo5"
      }
    },
    {
      "cell_type": "code",
      "source": [
        "X_treino, X_teste, y_treino, y_teste = train_test_split(X, y, test_size=0.25, shuffle=True, random_state=32)\n",
        "print(f\"Tamanho do conjunto de treino: {len(X_treino)}\")\n",
        "print(f\"Tamanho do conjunto de teste: {len(X_teste)}\")"
      ],
      "metadata": {
        "id": "FwXIgZbG_TQn",
        "colab": {
          "base_uri": "https://localhost:8080/"
        },
        "outputId": "534c715b-9b7d-4466-e365-10254b2a2faa"
      },
      "execution_count": 4,
      "outputs": [
        {
          "output_type": "stream",
          "name": "stdout",
          "text": [
            "Tamanho do conjunto de treino: 426\n",
            "Tamanho do conjunto de teste: 143\n"
          ]
        }
      ]
    },
    {
      "cell_type": "markdown",
      "source": [
        "### Normalizando os dados"
      ],
      "metadata": {
        "id": "OiD3QxGH_an_"
      }
    },
    {
      "cell_type": "code",
      "source": [
        "normalizador = MinMaxScaler()\n",
        "normalizador.fit(X_treino)\n",
        "X_treino_norm = normalizador.transform(X_treino)\n",
        "X_teste_norm = normalizador.transform(X_teste)"
      ],
      "metadata": {
        "id": "YVornkMu_cpV"
      },
      "execution_count": 5,
      "outputs": []
    },
    {
      "cell_type": "markdown",
      "source": [
        "## Configurando e treinando a regressão logística"
      ],
      "metadata": {
        "id": "bUFeKLtK_mw4"
      }
    },
    {
      "cell_type": "code",
      "source": [
        "modelo = LogisticRegression()\n",
        "modelo.fit(X_treino_norm, y_treino)"
      ],
      "metadata": {
        "id": "096hHHC8_fot",
        "colab": {
          "base_uri": "https://localhost:8080/",
          "height": 74
        },
        "outputId": "acb31de5-bbef-4cfc-d5e6-bb23e32b8a0b"
      },
      "execution_count": 6,
      "outputs": [
        {
          "output_type": "execute_result",
          "data": {
            "text/plain": [
              "LogisticRegression()"
            ],
            "text/html": [
              "<style>#sk-container-id-1 {color: black;background-color: white;}#sk-container-id-1 pre{padding: 0;}#sk-container-id-1 div.sk-toggleable {background-color: white;}#sk-container-id-1 label.sk-toggleable__label {cursor: pointer;display: block;width: 100%;margin-bottom: 0;padding: 0.3em;box-sizing: border-box;text-align: center;}#sk-container-id-1 label.sk-toggleable__label-arrow:before {content: \"▸\";float: left;margin-right: 0.25em;color: #696969;}#sk-container-id-1 label.sk-toggleable__label-arrow:hover:before {color: black;}#sk-container-id-1 div.sk-estimator:hover label.sk-toggleable__label-arrow:before {color: black;}#sk-container-id-1 div.sk-toggleable__content {max-height: 0;max-width: 0;overflow: hidden;text-align: left;background-color: #f0f8ff;}#sk-container-id-1 div.sk-toggleable__content pre {margin: 0.2em;color: black;border-radius: 0.25em;background-color: #f0f8ff;}#sk-container-id-1 input.sk-toggleable__control:checked~div.sk-toggleable__content {max-height: 200px;max-width: 100%;overflow: auto;}#sk-container-id-1 input.sk-toggleable__control:checked~label.sk-toggleable__label-arrow:before {content: \"▾\";}#sk-container-id-1 div.sk-estimator input.sk-toggleable__control:checked~label.sk-toggleable__label {background-color: #d4ebff;}#sk-container-id-1 div.sk-label input.sk-toggleable__control:checked~label.sk-toggleable__label {background-color: #d4ebff;}#sk-container-id-1 input.sk-hidden--visually {border: 0;clip: rect(1px 1px 1px 1px);clip: rect(1px, 1px, 1px, 1px);height: 1px;margin: -1px;overflow: hidden;padding: 0;position: absolute;width: 1px;}#sk-container-id-1 div.sk-estimator {font-family: monospace;background-color: #f0f8ff;border: 1px dotted black;border-radius: 0.25em;box-sizing: border-box;margin-bottom: 0.5em;}#sk-container-id-1 div.sk-estimator:hover {background-color: #d4ebff;}#sk-container-id-1 div.sk-parallel-item::after {content: \"\";width: 100%;border-bottom: 1px solid gray;flex-grow: 1;}#sk-container-id-1 div.sk-label:hover label.sk-toggleable__label {background-color: #d4ebff;}#sk-container-id-1 div.sk-serial::before {content: \"\";position: absolute;border-left: 1px solid gray;box-sizing: border-box;top: 0;bottom: 0;left: 50%;z-index: 0;}#sk-container-id-1 div.sk-serial {display: flex;flex-direction: column;align-items: center;background-color: white;padding-right: 0.2em;padding-left: 0.2em;position: relative;}#sk-container-id-1 div.sk-item {position: relative;z-index: 1;}#sk-container-id-1 div.sk-parallel {display: flex;align-items: stretch;justify-content: center;background-color: white;position: relative;}#sk-container-id-1 div.sk-item::before, #sk-container-id-1 div.sk-parallel-item::before {content: \"\";position: absolute;border-left: 1px solid gray;box-sizing: border-box;top: 0;bottom: 0;left: 50%;z-index: -1;}#sk-container-id-1 div.sk-parallel-item {display: flex;flex-direction: column;z-index: 1;position: relative;background-color: white;}#sk-container-id-1 div.sk-parallel-item:first-child::after {align-self: flex-end;width: 50%;}#sk-container-id-1 div.sk-parallel-item:last-child::after {align-self: flex-start;width: 50%;}#sk-container-id-1 div.sk-parallel-item:only-child::after {width: 0;}#sk-container-id-1 div.sk-dashed-wrapped {border: 1px dashed gray;margin: 0 0.4em 0.5em 0.4em;box-sizing: border-box;padding-bottom: 0.4em;background-color: white;}#sk-container-id-1 div.sk-label label {font-family: monospace;font-weight: bold;display: inline-block;line-height: 1.2em;}#sk-container-id-1 div.sk-label-container {text-align: center;}#sk-container-id-1 div.sk-container {/* jupyter's `normalize.less` sets `[hidden] { display: none; }` but bootstrap.min.css set `[hidden] { display: none !important; }` so we also need the `!important` here to be able to override the default hidden behavior on the sphinx rendered scikit-learn.org. See: https://github.com/scikit-learn/scikit-learn/issues/21755 */display: inline-block !important;position: relative;}#sk-container-id-1 div.sk-text-repr-fallback {display: none;}</style><div id=\"sk-container-id-1\" class=\"sk-top-container\"><div class=\"sk-text-repr-fallback\"><pre>LogisticRegression()</pre><b>In a Jupyter environment, please rerun this cell to show the HTML representation or trust the notebook. <br />On GitHub, the HTML representation is unable to render, please try loading this page with nbviewer.org.</b></div><div class=\"sk-container\" hidden><div class=\"sk-item\"><div class=\"sk-estimator sk-toggleable\"><input class=\"sk-toggleable__control sk-hidden--visually\" id=\"sk-estimator-id-1\" type=\"checkbox\" checked><label for=\"sk-estimator-id-1\" class=\"sk-toggleable__label sk-toggleable__label-arrow\">LogisticRegression</label><div class=\"sk-toggleable__content\"><pre>LogisticRegression()</pre></div></div></div></div></div>"
            ]
          },
          "metadata": {},
          "execution_count": 6
        }
      ]
    },
    {
      "cell_type": "markdown",
      "source": [
        "### Calculando acurácia de treino e teste"
      ],
      "metadata": {
        "id": "kFzwCP1vAa3b"
      }
    },
    {
      "cell_type": "code",
      "source": [
        "print(f\"Acurácia de treinamento: {modelo.score(X_treino_norm, y_treino)}\")\n",
        "print(f\"Acurácia de teste: {modelo.score(X_teste_norm, y_teste)}\")"
      ],
      "metadata": {
        "id": "E0QycHAJAWG7",
        "colab": {
          "base_uri": "https://localhost:8080/"
        },
        "outputId": "2a118ece-61c4-45bc-de94-0217059768af"
      },
      "execution_count": 7,
      "outputs": [
        {
          "output_type": "stream",
          "name": "stdout",
          "text": [
            "Acurácia de treinamento: 0.9694835680751174\n",
            "Acurácia de teste: 0.972027972027972\n"
          ]
        }
      ]
    },
    {
      "cell_type": "markdown",
      "source": [
        "### Obtendo a classe de uma dada amostra"
      ],
      "metadata": {
        "id": "UMgB_qKpAsH2"
      }
    },
    {
      "cell_type": "code",
      "source": [
        "k = 12\n",
        "amostra = X_teste[k]\n",
        "print(\"Amostra:\\n\", amostra)\n",
        "print(\"Label:\", nome_labels[y_teste[k]])\n",
        "print(\"\\n---- Normalizando a amostra: ---\")\n",
        "amostra_norm = normalizador.transform([amostra])[0]\n",
        "print(amostra_norm)"
      ],
      "metadata": {
        "id": "dAgwpbvDA7wr",
        "colab": {
          "base_uri": "https://localhost:8080/"
        },
        "outputId": "3ba485a6-1ae9-4233-ed2b-12d326c85567"
      },
      "execution_count": 8,
      "outputs": [
        {
          "output_type": "stream",
          "name": "stdout",
          "text": [
            "Amostra:\n",
            " [1.422e+01 2.785e+01 9.255e+01 6.239e+02 8.223e-02 1.039e-01 1.103e-01\n",
            " 4.408e-02 1.342e-01 6.129e-02 3.354e-01 2.324e+00 2.105e+00 2.996e+01\n",
            " 6.307e-03 2.845e-02 3.850e-02 1.011e-02 1.185e-02 3.589e-03 1.575e+01\n",
            " 4.054e+01 1.025e+02 7.640e+02 1.081e-01 2.426e-01 3.064e-01 8.219e-02\n",
            " 1.890e-01 7.796e-02]\n",
            "Label: benign\n",
            "\n",
            "---- Normalizando a amostra: ---\n",
            "[0.34260968 0.61345959 0.33694976 0.20394821 0.32149452 0.2592479\n",
            " 0.25843486 0.21908549 0.14242424 0.23862679 0.08107912 0.55540472\n",
            " 0.06288015 0.0446378  0.12788532 0.19675849 0.09722222 0.19151354\n",
            " 0.05583385 0.09307934 0.31044065 0.76012793 0.30571043 0.17826783\n",
            " 0.18995401 0.20346202 0.24472843 0.28243986 0.06406466 0.15033451]\n"
          ]
        }
      ]
    },
    {
      "cell_type": "code",
      "source": [
        "lab_pred = modelo.predict([amostra_norm])\n",
        "prob_pred = modelo.predict_proba([amostra_norm])\n",
        "print(\"Label predito:\", nome_labels[lab_pred])\n",
        "print(\"Probabilidade:\", prob_pred[0][1], \"%\")"
      ],
      "metadata": {
        "id": "lFGsDdjFBRIO",
        "colab": {
          "base_uri": "https://localhost:8080/"
        },
        "outputId": "ba4d5588-7e45-466c-df78-7264bacf6d47"
      },
      "execution_count": null,
      "outputs": [
        {
          "output_type": "stream",
          "name": "stdout",
          "text": [
            "Label predito: ['benign']\n",
            "Probabilidade: 0.5903799576026816 %\n"
          ]
        }
      ]
    },
    {
      "cell_type": "markdown",
      "source": [
        "# Obtendo a matriz de confusão"
      ],
      "metadata": {
        "id": "_ux0Dr7QO5t5"
      }
    },
    {
      "cell_type": "code",
      "source": [
        "from sklearn.metrics import confusion_matrix\n",
        "pred_teste = modelo.predict(X_teste_norm)\n",
        "cm = confusion_matrix(y_teste, pred_teste)\n",
        "cm"
      ],
      "metadata": {
        "id": "JibWSfDOO4tk",
        "colab": {
          "base_uri": "https://localhost:8080/"
        },
        "outputId": "1a710111-ce7d-4e0d-9dc0-a42bd3bd2961"
      },
      "execution_count": 9,
      "outputs": [
        {
          "output_type": "execute_result",
          "data": {
            "text/plain": [
              "array([[53,  3],\n",
              "       [ 1, 86]])"
            ]
          },
          "metadata": {},
          "execution_count": 9
        }
      ]
    },
    {
      "cell_type": "code",
      "source": [
        "from sklearn.metrics import ConfusionMatrixDisplay\n",
        "disp = ConfusionMatrixDisplay(confusion_matrix=cm, display_labels=nome_labels)\n",
        "disp.plot()"
      ],
      "metadata": {
        "id": "XO9ZxAdeSxTC",
        "colab": {
          "base_uri": "https://localhost:8080/",
          "height": 466
        },
        "outputId": "e94d3ffd-359a-4116-f320-a3028205ae78"
      },
      "execution_count": 14,
      "outputs": [
        {
          "output_type": "execute_result",
          "data": {
            "text/plain": [
              "<sklearn.metrics._plot.confusion_matrix.ConfusionMatrixDisplay at 0x7d1bb929bc40>"
            ]
          },
          "metadata": {},
          "execution_count": 14
        },
        {
          "output_type": "display_data",
          "data": {
            "text/plain": [
              "<Figure size 640x480 with 2 Axes>"
            ],
            "image/png": "[encoded data removed]"
          },
          "metadata": {}
        }
      ]
    },
    {
      "cell_type": "markdown",
      "source": [
        "# Obtendo Acurácia, Precision, Recall e F1-score"
      ],
      "metadata": {
        "id": "1cP2F70VTggi"
      }
    },
    {
      "cell_type": "code",
      "source": [
        "tn, fp, fn, tp = cm.ravel()\n",
        "print(f\"TP: {tp}\\nTN: {tn}\\nFP: {fp}\\nFN: {fn}\")"
      ],
      "metadata": {
        "id": "pbRUuWskTmjR",
        "colab": {
          "base_uri": "https://localhost:8080/"
        },
        "outputId": "6d77fe36-a629-458c-d05a-daeaa38e11aa"
      },
      "execution_count": 15,
      "outputs": [
        {
          "output_type": "stream",
          "name": "stdout",
          "text": [
            "TP: 86\n",
            "TN: 53\n",
            "FP: 3\n",
            "FN: 1\n"
          ]
        }
      ]
    },
    {
      "cell_type": "code",
      "source": [
        "acc = (tp + tn) / (tp + tn + fp + fn)\n",
        "print(f\"Acuracia: {100 * acc:.2f}%\")"
      ],
      "metadata": {
        "id": "mSXDsz-rUzy-",
        "colab": {
          "base_uri": "https://localhost:8080/"
        },
        "outputId": "79e76334-3647-4ede-bf6a-5cc012c96623"
      },
      "execution_count": 17,
      "outputs": [
        {
          "output_type": "stream",
          "name": "stdout",
          "text": [
            "Acuracia: 97.20%\n"
          ]
        }
      ]
    },
    {
      "cell_type": "code",
      "source": [
        "precision = tp / (tp + fp)\n",
        "print(f\"Precision: {100 * precision:.2f}%\")"
      ],
      "metadata": {
        "id": "STNLLDJTVOTS",
        "colab": {
          "base_uri": "https://localhost:8080/"
        },
        "outputId": "a1ac31bf-4ed2-4343-c50e-8f2f5ccc78a0"
      },
      "execution_count": 18,
      "outputs": [
        {
          "output_type": "stream",
          "name": "stdout",
          "text": [
            "Precision: 96.63%\n"
          ]
        }
      ]
    },
    {
      "cell_type": "code",
      "source": [
        "recall = tp / (tp + fn)\n",
        "print(f\"Recall: {100 * recall:.2f}%\")"
      ],
      "metadata": {
        "id": "5f_6IksmVZlR",
        "colab": {
          "base_uri": "https://localhost:8080/"
        },
        "outputId": "b66e1ae2-6da7-48a5-d97a-570e6383d6fc"
      },
      "execution_count": 19,
      "outputs": [
        {
          "output_type": "stream",
          "name": "stdout",
          "text": [
            "Recall: 98.85%\n"
          ]
        }
      ]
    },
    {
      "cell_type": "code",
      "source": [
        "f1 = 2 * (precision * recall)/(precision + recall)\n",
        "print(f\"F1-score: {100 * f1:.2f}%\")"
      ],
      "metadata": {
        "id": "6Ow44UuGVhsW",
        "colab": {
          "base_uri": "https://localhost:8080/"
        },
        "outputId": "cac55f0a-31f5-4772-bf19-b3ae669e1a87"
      },
      "execution_count": 20,
      "outputs": [
        {
          "output_type": "stream",
          "name": "stdout",
          "text": [
            "F1-score: 97.73%\n"
          ]
        }
      ]
    },
    {
      "cell_type": "markdown",
      "source": [
        "### ... ou simplesmente, podemos chamar as funções já prontas"
      ],
      "metadata": {
        "id": "c0bTxKGJWxhZ"
      }
    },
    {
      "cell_type": "code",
      "source": [
        "from sklearn.metrics import precision_score, recall_score, f1_score, accuracy_score\n",
        "print(f\"Acuracia: {100 * accuracy_score(y_teste, pred_teste):.2f}%\")\n",
        "print(f\"Precision: {100 * precision_score(y_teste, pred_teste):.2f}%\")\n",
        "print(f\"Recall: {100 * recall_score(y_teste, pred_teste):.2f}%\")\n",
        "print(f\"F1-score: {100 * f1_score(y_teste, pred_teste):.2f}%\")"
      ],
      "metadata": {
        "id": "TthGVN0dVvNY",
        "colab": {
          "base_uri": "https://localhost:8080/"
        },
        "outputId": "823ee10f-c4c2-4a68-98e9-8ae84f91670c"
      },
      "execution_count": 22,
      "outputs": [
        {
          "output_type": "stream",
          "name": "stdout",
          "text": [
            "Acuracia: 97.20%\n",
            "Precision: 96.63%\n",
            "Recall: 98.85%\n",
            "F1-score: 97.73%\n"
          ]
        }
      ]
    },
    {
      "cell_type": "markdown",
      "source": [
        "# Alterando o threshold de classificação"
      ],
      "metadata": {
        "id": "jYYb8bfPisgc"
      }
    },
    {
      "cell_type": "code",
      "source": [
        "lab_preds = modelo.predict(X_teste_norm)\n",
        "prob_preds = modelo.predict_proba(X_teste_norm)\n",
        "\n",
        "print(f\"Nome das classes: {nome_labels}\\n\")\n",
        "print(f\"Predições com threshold de 50%:\\n{lab_preds[0:10]}\")\n",
        "print(f\"\\nProbabilidades:\\n{prob_preds[0:10]}\")"
      ],
      "metadata": {
        "colab": {
          "base_uri": "https://localhost:8080/"
        },
        "id": "3GMAWabfi3ll",
        "outputId": "790ca830-0fbe-4845-a8c8-adfbb2fdc37d"
      },
      "execution_count": 24,
      "outputs": [
        {
          "output_type": "stream",
          "name": "stdout",
          "text": [
            "Nome das classes: ['malignant' 'benign']\n",
            "\n",
            "Predições com threshold de 50%:\n",
            "[1 1 1 0 1 1 1 1 1 0]\n",
            "\n",
            "Probabilidades:\n",
            "[[0.12251196 0.87748804]\n",
            " [0.12389568 0.87610432]\n",
            " [0.01709584 0.98290416]\n",
            " [0.71328119 0.28671881]\n",
            " [0.09170917 0.90829083]\n",
            " [0.15201024 0.84798976]\n",
            " [0.16350238 0.83649762]\n",
            " [0.00675787 0.99324213]\n",
            " [0.12797328 0.87202672]\n",
            " [0.98112921 0.01887079]]\n"
          ]
        }
      ]
    },
    {
      "cell_type": "markdown",
      "source": [
        "### Podemos alterar o threshold e selecionar as classes da seguinte forma:"
      ],
      "metadata": {
        "id": "Z4CMXal9jugv"
      }
    },
    {
      "cell_type": "code",
      "source": [
        "thres = 0.9\n",
        "lab_preds_90 = [1 if p[1] else 0 for p in (prob_preds >= thres)]\n",
        "print(f\"Predições com threshold de 70%:\\n{lab_preds_90[0:10]}\")"
      ],
      "metadata": {
        "colab": {
          "base_uri": "https://localhost:8080/"
        },
        "id": "-WhN5GE_jzMu",
        "outputId": "a308edc1-1111-4ac8-f076-5e94e51b9172"
      },
      "execution_count": 25,
      "outputs": [
        {
          "output_type": "stream",
          "name": "stdout",
          "text": [
            "Predições com threshold de 70%:\n",
            "[0, 0, 1, 0, 1, 0, 0, 1, 0, 0]\n"
          ]
        }
      ]
    },
    {
      "cell_type": "markdown",
      "source": [
        "### Calculando o precision e o recall para os novos thresholds"
      ],
      "metadata": {
        "id": "_-rcx2R2D6ip"
      }
    },
    {
      "cell_type": "code",
      "source": [
        "print(f\"Acuracia: {100 * accuracy_score(y_teste, lab_preds_90):.2f}%\")\n",
        "print(f\"Precision: {100 * precision_score(y_teste, lab_preds_90):.2f}%\")\n",
        "print(f\"Recall: {100 * recall_score(y_teste, lab_preds_90):.2f}%\")\n",
        "print(f\"F1-score: {100 * f1_score(y_teste, lab_preds_90):.2f}%\")"
      ],
      "metadata": {
        "colab": {
          "base_uri": "https://localhost:8080/"
        },
        "id": "cowY4CVEDvon",
        "outputId": "cc56b755-db0c-4ded-d372-96ef058b8814"
      },
      "execution_count": 26,
      "outputs": [
        {
          "output_type": "stream",
          "name": "stdout",
          "text": [
            "Acuracia: 83.22%\n",
            "Precision: 100.00%\n",
            "Recall: 72.41%\n",
            "F1-score: 84.00%\n"
          ]
        }
      ]
    },
    {
      "cell_type": "markdown",
      "source": [
        "# Calculando a Curva ROC e obtendo a AUC"
      ],
      "metadata": {
        "id": "tXbfUH4WDkVA"
      }
    },
    {
      "cell_type": "code",
      "source": [
        "from sklearn.metrics import roc_curve, auc\n",
        "fpr, tpr, thresholds = roc_curve(y_teste, prob_preds[:,1])\n",
        "roc_auc = auc(fpr, tpr)\n",
        "for k in range(len(fpr)):\n",
        "  print(f\"Threshold = {thresholds[k]} | FPR = {fpr[k]:.2f} | TPR = {tpr[k]:.2f}\")\n",
        "\n",
        "print(f\"\\nAUC = {roc_auc}\")"
      ],
      "metadata": {
        "colab": {
          "base_uri": "https://localhost:8080/"
        },
        "id": "URRWkrO7ETS4",
        "outputId": "bd0b458b-82d8-4dca-c4ba-a980a22b4533"
      },
      "execution_count": 27,
      "outputs": [
        {
          "output_type": "stream",
          "name": "stdout",
          "text": [
            "Threshold = 1.9983971459325223 | FPR = 0.00 | TPR = 0.00\n",
            "Threshold = 0.9983971459325224 | FPR = 0.00 | TPR = 0.01\n",
            "Threshold = 0.8364976168558393 | FPR = 0.00 | TPR = 0.84\n",
            "Threshold = 0.8276864519966676 | FPR = 0.02 | TPR = 0.84\n",
            "Threshold = 0.6531781447873287 | FPR = 0.02 | TPR = 0.95\n",
            "Threshold = 0.6106312984830717 | FPR = 0.04 | TPR = 0.95\n",
            "Threshold = 0.5621377770820221 | FPR = 0.04 | TPR = 0.99\n",
            "Threshold = 0.5479075263256283 | FPR = 0.05 | TPR = 0.99\n",
            "Threshold = 0.49512401748975277 | FPR = 0.05 | TPR = 1.00\n",
            "Threshold = 2.5603773311706074e-07 | FPR = 1.00 | TPR = 1.00\n",
            "\n",
            "AUC = 0.9961001642036125\n"
          ]
        }
      ]
    },
    {
      "cell_type": "code",
      "source": [
        "import matplotlib.pyplot as plt\n",
        "plt.plot(fpr, tpr, label=f\"ROC (AUC = {roc_auc:.4f}\")\n",
        "plt.plot([0, 1], [0, 1], color=\"k\", linestyle=\"--\")\n",
        "plt.xlim([-0.01, 1.0])\n",
        "plt.ylim([0.0, 1.05])\n",
        "plt.xlabel(\"Taxa de Falso Positivo\")\n",
        "plt.ylabel(\"Taxa de Verdadeiro Positivo\")\n",
        "plt.legend(loc=\"lower right\")\n",
        "plt.show()"
      ],
      "metadata": {
        "colab": {
          "base_uri": "https://localhost:8080/",
          "height": 449
        },
        "id": "HpXj6BePFUlS",
        "outputId": "db336b35-533c-4645-e3f4-1c33ae5650a3"
      },
      "execution_count": 28,
      "outputs": [
        {
          "output_type": "display_data",
          "data": {
            "text/plain": [
              "<Figure size 640x480 with 1 Axes>"
            ],
            "image/png": "[encoded data removed]"
          },
          "metadata": {}
        }
      ]
    }
  ]
}